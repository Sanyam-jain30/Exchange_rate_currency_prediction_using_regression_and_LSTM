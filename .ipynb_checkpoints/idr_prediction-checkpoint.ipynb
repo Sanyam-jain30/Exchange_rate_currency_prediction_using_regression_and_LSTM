{
 "cells": [
  {
   "cell_type": "code",
   "execution_count": 1,
   "id": "ca36a273",
   "metadata": {
    "_cell_guid": "b1076dfc-b9ad-4769-8c92-a6c4dae69d19",
    "_uuid": "8f2839f25d086af736a60e9eeb907d3b93b6e0e5",
    "execution": {
     "iopub.execute_input": "2022-09-23T22:47:04.008961Z",
     "iopub.status.busy": "2022-09-23T22:47:04.008088Z",
     "iopub.status.idle": "2022-09-23T22:47:04.026285Z",
     "shell.execute_reply": "2022-09-23T22:47:04.025445Z"
    },
    "id": "ca36a273",
    "papermill": {
     "duration": 0.039853,
     "end_time": "2022-09-23T22:47:04.029684",
     "exception": false,
     "start_time": "2022-09-23T22:47:03.989831",
     "status": "completed"
    },
    "tags": []
   },
   "outputs": [],
   "source": [
    "import numpy as np # linear algebra\n",
    "import pandas as pd # data processing, CSV file I/O (e.g. pd.read_csv)\n",
    "import os\n",
    "\n",
    "file_path = 'exchange_rates.csv'"
   ]
  },
  {
   "cell_type": "markdown",
   "id": "d4d15033",
   "metadata": {
    "id": "d4d15033",
    "papermill": {
     "duration": 0.014011,
     "end_time": "2022-09-23T22:47:04.058200",
     "exception": false,
     "start_time": "2022-09-23T22:47:04.044189",
     "status": "completed"
    },
    "tags": []
   },
   "source": [
    "# 1. Load data"
   ]
  },
  {
   "cell_type": "code",
   "execution_count": 3,
   "id": "c17b6bb7",
   "metadata": {
    "colab": {
     "base_uri": "https://localhost:8080/",
     "height": 206
    },
    "execution": {
     "iopub.execute_input": "2022-09-23T22:47:04.084558Z",
     "iopub.status.busy": "2022-09-23T22:47:04.084075Z",
     "iopub.status.idle": "2022-09-23T22:47:04.209477Z",
     "shell.execute_reply": "2022-09-23T22:47:04.208522Z"
    },
    "id": "c17b6bb7",
    "outputId": "b14d9c34-12dd-4d24-afa4-9c43beac10f2",
    "papermill": {
     "duration": 0.141524,
     "end_time": "2022-09-23T22:47:04.211982",
     "exception": false,
     "start_time": "2022-09-23T22:47:04.070458",
     "status": "completed"
    },
    "tags": []
   },
   "outputs": [
    {
     "ename": "FileNotFoundError",
     "evalue": "[Errno 2] No such file or directory: '/exchange_rates.csv'",
     "output_type": "error",
     "traceback": [
      "\u001b[1;31m---------------------------------------------------------------------------\u001b[0m",
      "\u001b[1;31mFileNotFoundError\u001b[0m                         Traceback (most recent call last)",
      "Input \u001b[1;32mIn [3]\u001b[0m, in \u001b[0;36m<cell line: 1>\u001b[1;34m()\u001b[0m\n\u001b[1;32m----> 1\u001b[0m dataset \u001b[38;5;241m=\u001b[39m \u001b[43mpd\u001b[49m\u001b[38;5;241;43m.\u001b[39;49m\u001b[43mread_csv\u001b[49m\u001b[43m(\u001b[49m\u001b[38;5;124;43m'\u001b[39;49m\u001b[38;5;124;43m/exchange_rates.csv\u001b[39;49m\u001b[38;5;124;43m'\u001b[39;49m\u001b[43m,\u001b[49m\u001b[43m \u001b[49m\u001b[43mparse_dates\u001b[49m\u001b[38;5;241;43m=\u001b[39;49m\u001b[43m[\u001b[49m\u001b[38;5;124;43m'\u001b[39;49m\u001b[38;5;124;43mdate\u001b[39;49m\u001b[38;5;124;43m'\u001b[39;49m\u001b[43m]\u001b[49m\u001b[43m,\u001b[49m\u001b[43m \u001b[49m\u001b[43mindex_col\u001b[49m\u001b[43m \u001b[49m\u001b[38;5;241;43m=\u001b[39;49m\u001b[43m \u001b[49m\u001b[38;5;241;43m0\u001b[39;49m\u001b[43m)\u001b[49m\n\u001b[0;32m      2\u001b[0m dataset\u001b[38;5;241m.\u001b[39mhead()\n",
      "File \u001b[1;32m~\\anaconda3\\lib\\site-packages\\pandas\\util\\_decorators.py:311\u001b[0m, in \u001b[0;36mdeprecate_nonkeyword_arguments.<locals>.decorate.<locals>.wrapper\u001b[1;34m(*args, **kwargs)\u001b[0m\n\u001b[0;32m    305\u001b[0m \u001b[38;5;28;01mif\u001b[39;00m \u001b[38;5;28mlen\u001b[39m(args) \u001b[38;5;241m>\u001b[39m num_allow_args:\n\u001b[0;32m    306\u001b[0m     warnings\u001b[38;5;241m.\u001b[39mwarn(\n\u001b[0;32m    307\u001b[0m         msg\u001b[38;5;241m.\u001b[39mformat(arguments\u001b[38;5;241m=\u001b[39marguments),\n\u001b[0;32m    308\u001b[0m         \u001b[38;5;167;01mFutureWarning\u001b[39;00m,\n\u001b[0;32m    309\u001b[0m         stacklevel\u001b[38;5;241m=\u001b[39mstacklevel,\n\u001b[0;32m    310\u001b[0m     )\n\u001b[1;32m--> 311\u001b[0m \u001b[38;5;28;01mreturn\u001b[39;00m func(\u001b[38;5;241m*\u001b[39margs, \u001b[38;5;241m*\u001b[39m\u001b[38;5;241m*\u001b[39mkwargs)\n",
      "File \u001b[1;32m~\\anaconda3\\lib\\site-packages\\pandas\\io\\parsers\\readers.py:680\u001b[0m, in \u001b[0;36mread_csv\u001b[1;34m(filepath_or_buffer, sep, delimiter, header, names, index_col, usecols, squeeze, prefix, mangle_dupe_cols, dtype, engine, converters, true_values, false_values, skipinitialspace, skiprows, skipfooter, nrows, na_values, keep_default_na, na_filter, verbose, skip_blank_lines, parse_dates, infer_datetime_format, keep_date_col, date_parser, dayfirst, cache_dates, iterator, chunksize, compression, thousands, decimal, lineterminator, quotechar, quoting, doublequote, escapechar, comment, encoding, encoding_errors, dialect, error_bad_lines, warn_bad_lines, on_bad_lines, delim_whitespace, low_memory, memory_map, float_precision, storage_options)\u001b[0m\n\u001b[0;32m    665\u001b[0m kwds_defaults \u001b[38;5;241m=\u001b[39m _refine_defaults_read(\n\u001b[0;32m    666\u001b[0m     dialect,\n\u001b[0;32m    667\u001b[0m     delimiter,\n\u001b[1;32m   (...)\u001b[0m\n\u001b[0;32m    676\u001b[0m     defaults\u001b[38;5;241m=\u001b[39m{\u001b[38;5;124m\"\u001b[39m\u001b[38;5;124mdelimiter\u001b[39m\u001b[38;5;124m\"\u001b[39m: \u001b[38;5;124m\"\u001b[39m\u001b[38;5;124m,\u001b[39m\u001b[38;5;124m\"\u001b[39m},\n\u001b[0;32m    677\u001b[0m )\n\u001b[0;32m    678\u001b[0m kwds\u001b[38;5;241m.\u001b[39mupdate(kwds_defaults)\n\u001b[1;32m--> 680\u001b[0m \u001b[38;5;28;01mreturn\u001b[39;00m \u001b[43m_read\u001b[49m\u001b[43m(\u001b[49m\u001b[43mfilepath_or_buffer\u001b[49m\u001b[43m,\u001b[49m\u001b[43m \u001b[49m\u001b[43mkwds\u001b[49m\u001b[43m)\u001b[49m\n",
      "File \u001b[1;32m~\\anaconda3\\lib\\site-packages\\pandas\\io\\parsers\\readers.py:575\u001b[0m, in \u001b[0;36m_read\u001b[1;34m(filepath_or_buffer, kwds)\u001b[0m\n\u001b[0;32m    572\u001b[0m _validate_names(kwds\u001b[38;5;241m.\u001b[39mget(\u001b[38;5;124m\"\u001b[39m\u001b[38;5;124mnames\u001b[39m\u001b[38;5;124m\"\u001b[39m, \u001b[38;5;28;01mNone\u001b[39;00m))\n\u001b[0;32m    574\u001b[0m \u001b[38;5;66;03m# Create the parser.\u001b[39;00m\n\u001b[1;32m--> 575\u001b[0m parser \u001b[38;5;241m=\u001b[39m TextFileReader(filepath_or_buffer, \u001b[38;5;241m*\u001b[39m\u001b[38;5;241m*\u001b[39mkwds)\n\u001b[0;32m    577\u001b[0m \u001b[38;5;28;01mif\u001b[39;00m chunksize \u001b[38;5;129;01mor\u001b[39;00m iterator:\n\u001b[0;32m    578\u001b[0m     \u001b[38;5;28;01mreturn\u001b[39;00m parser\n",
      "File \u001b[1;32m~\\anaconda3\\lib\\site-packages\\pandas\\io\\parsers\\readers.py:934\u001b[0m, in \u001b[0;36mTextFileReader.__init__\u001b[1;34m(self, f, engine, **kwds)\u001b[0m\n\u001b[0;32m    931\u001b[0m     \u001b[38;5;28mself\u001b[39m\u001b[38;5;241m.\u001b[39moptions[\u001b[38;5;124m\"\u001b[39m\u001b[38;5;124mhas_index_names\u001b[39m\u001b[38;5;124m\"\u001b[39m] \u001b[38;5;241m=\u001b[39m kwds[\u001b[38;5;124m\"\u001b[39m\u001b[38;5;124mhas_index_names\u001b[39m\u001b[38;5;124m\"\u001b[39m]\n\u001b[0;32m    933\u001b[0m \u001b[38;5;28mself\u001b[39m\u001b[38;5;241m.\u001b[39mhandles: IOHandles \u001b[38;5;241m|\u001b[39m \u001b[38;5;28;01mNone\u001b[39;00m \u001b[38;5;241m=\u001b[39m \u001b[38;5;28;01mNone\u001b[39;00m\n\u001b[1;32m--> 934\u001b[0m \u001b[38;5;28mself\u001b[39m\u001b[38;5;241m.\u001b[39m_engine \u001b[38;5;241m=\u001b[39m \u001b[38;5;28;43mself\u001b[39;49m\u001b[38;5;241;43m.\u001b[39;49m\u001b[43m_make_engine\u001b[49m\u001b[43m(\u001b[49m\u001b[43mf\u001b[49m\u001b[43m,\u001b[49m\u001b[43m \u001b[49m\u001b[38;5;28;43mself\u001b[39;49m\u001b[38;5;241;43m.\u001b[39;49m\u001b[43mengine\u001b[49m\u001b[43m)\u001b[49m\n",
      "File \u001b[1;32m~\\anaconda3\\lib\\site-packages\\pandas\\io\\parsers\\readers.py:1218\u001b[0m, in \u001b[0;36mTextFileReader._make_engine\u001b[1;34m(self, f, engine)\u001b[0m\n\u001b[0;32m   1214\u001b[0m     mode \u001b[38;5;241m=\u001b[39m \u001b[38;5;124m\"\u001b[39m\u001b[38;5;124mrb\u001b[39m\u001b[38;5;124m\"\u001b[39m\n\u001b[0;32m   1215\u001b[0m \u001b[38;5;66;03m# error: No overload variant of \"get_handle\" matches argument types\u001b[39;00m\n\u001b[0;32m   1216\u001b[0m \u001b[38;5;66;03m# \"Union[str, PathLike[str], ReadCsvBuffer[bytes], ReadCsvBuffer[str]]\"\u001b[39;00m\n\u001b[0;32m   1217\u001b[0m \u001b[38;5;66;03m# , \"str\", \"bool\", \"Any\", \"Any\", \"Any\", \"Any\", \"Any\"\u001b[39;00m\n\u001b[1;32m-> 1218\u001b[0m \u001b[38;5;28mself\u001b[39m\u001b[38;5;241m.\u001b[39mhandles \u001b[38;5;241m=\u001b[39m \u001b[43mget_handle\u001b[49m\u001b[43m(\u001b[49m\u001b[43m  \u001b[49m\u001b[38;5;66;43;03m# type: ignore[call-overload]\u001b[39;49;00m\n\u001b[0;32m   1219\u001b[0m \u001b[43m    \u001b[49m\u001b[43mf\u001b[49m\u001b[43m,\u001b[49m\n\u001b[0;32m   1220\u001b[0m \u001b[43m    \u001b[49m\u001b[43mmode\u001b[49m\u001b[43m,\u001b[49m\n\u001b[0;32m   1221\u001b[0m \u001b[43m    \u001b[49m\u001b[43mencoding\u001b[49m\u001b[38;5;241;43m=\u001b[39;49m\u001b[38;5;28;43mself\u001b[39;49m\u001b[38;5;241;43m.\u001b[39;49m\u001b[43moptions\u001b[49m\u001b[38;5;241;43m.\u001b[39;49m\u001b[43mget\u001b[49m\u001b[43m(\u001b[49m\u001b[38;5;124;43m\"\u001b[39;49m\u001b[38;5;124;43mencoding\u001b[39;49m\u001b[38;5;124;43m\"\u001b[39;49m\u001b[43m,\u001b[49m\u001b[43m \u001b[49m\u001b[38;5;28;43;01mNone\u001b[39;49;00m\u001b[43m)\u001b[49m\u001b[43m,\u001b[49m\n\u001b[0;32m   1222\u001b[0m \u001b[43m    \u001b[49m\u001b[43mcompression\u001b[49m\u001b[38;5;241;43m=\u001b[39;49m\u001b[38;5;28;43mself\u001b[39;49m\u001b[38;5;241;43m.\u001b[39;49m\u001b[43moptions\u001b[49m\u001b[38;5;241;43m.\u001b[39;49m\u001b[43mget\u001b[49m\u001b[43m(\u001b[49m\u001b[38;5;124;43m\"\u001b[39;49m\u001b[38;5;124;43mcompression\u001b[39;49m\u001b[38;5;124;43m\"\u001b[39;49m\u001b[43m,\u001b[49m\u001b[43m \u001b[49m\u001b[38;5;28;43;01mNone\u001b[39;49;00m\u001b[43m)\u001b[49m\u001b[43m,\u001b[49m\n\u001b[0;32m   1223\u001b[0m \u001b[43m    \u001b[49m\u001b[43mmemory_map\u001b[49m\u001b[38;5;241;43m=\u001b[39;49m\u001b[38;5;28;43mself\u001b[39;49m\u001b[38;5;241;43m.\u001b[39;49m\u001b[43moptions\u001b[49m\u001b[38;5;241;43m.\u001b[39;49m\u001b[43mget\u001b[49m\u001b[43m(\u001b[49m\u001b[38;5;124;43m\"\u001b[39;49m\u001b[38;5;124;43mmemory_map\u001b[39;49m\u001b[38;5;124;43m\"\u001b[39;49m\u001b[43m,\u001b[49m\u001b[43m \u001b[49m\u001b[38;5;28;43;01mFalse\u001b[39;49;00m\u001b[43m)\u001b[49m\u001b[43m,\u001b[49m\n\u001b[0;32m   1224\u001b[0m \u001b[43m    \u001b[49m\u001b[43mis_text\u001b[49m\u001b[38;5;241;43m=\u001b[39;49m\u001b[43mis_text\u001b[49m\u001b[43m,\u001b[49m\n\u001b[0;32m   1225\u001b[0m \u001b[43m    \u001b[49m\u001b[43merrors\u001b[49m\u001b[38;5;241;43m=\u001b[39;49m\u001b[38;5;28;43mself\u001b[39;49m\u001b[38;5;241;43m.\u001b[39;49m\u001b[43moptions\u001b[49m\u001b[38;5;241;43m.\u001b[39;49m\u001b[43mget\u001b[49m\u001b[43m(\u001b[49m\u001b[38;5;124;43m\"\u001b[39;49m\u001b[38;5;124;43mencoding_errors\u001b[39;49m\u001b[38;5;124;43m\"\u001b[39;49m\u001b[43m,\u001b[49m\u001b[43m \u001b[49m\u001b[38;5;124;43m\"\u001b[39;49m\u001b[38;5;124;43mstrict\u001b[39;49m\u001b[38;5;124;43m\"\u001b[39;49m\u001b[43m)\u001b[49m\u001b[43m,\u001b[49m\n\u001b[0;32m   1226\u001b[0m \u001b[43m    \u001b[49m\u001b[43mstorage_options\u001b[49m\u001b[38;5;241;43m=\u001b[39;49m\u001b[38;5;28;43mself\u001b[39;49m\u001b[38;5;241;43m.\u001b[39;49m\u001b[43moptions\u001b[49m\u001b[38;5;241;43m.\u001b[39;49m\u001b[43mget\u001b[49m\u001b[43m(\u001b[49m\u001b[38;5;124;43m\"\u001b[39;49m\u001b[38;5;124;43mstorage_options\u001b[39;49m\u001b[38;5;124;43m\"\u001b[39;49m\u001b[43m,\u001b[49m\u001b[43m \u001b[49m\u001b[38;5;28;43;01mNone\u001b[39;49;00m\u001b[43m)\u001b[49m\u001b[43m,\u001b[49m\n\u001b[0;32m   1227\u001b[0m \u001b[43m\u001b[49m\u001b[43m)\u001b[49m\n\u001b[0;32m   1228\u001b[0m \u001b[38;5;28;01massert\u001b[39;00m \u001b[38;5;28mself\u001b[39m\u001b[38;5;241m.\u001b[39mhandles \u001b[38;5;129;01mis\u001b[39;00m \u001b[38;5;129;01mnot\u001b[39;00m \u001b[38;5;28;01mNone\u001b[39;00m\n\u001b[0;32m   1229\u001b[0m f \u001b[38;5;241m=\u001b[39m \u001b[38;5;28mself\u001b[39m\u001b[38;5;241m.\u001b[39mhandles\u001b[38;5;241m.\u001b[39mhandle\n",
      "File \u001b[1;32m~\\anaconda3\\lib\\site-packages\\pandas\\io\\common.py:786\u001b[0m, in \u001b[0;36mget_handle\u001b[1;34m(path_or_buf, mode, encoding, compression, memory_map, is_text, errors, storage_options)\u001b[0m\n\u001b[0;32m    781\u001b[0m \u001b[38;5;28;01melif\u001b[39;00m \u001b[38;5;28misinstance\u001b[39m(handle, \u001b[38;5;28mstr\u001b[39m):\n\u001b[0;32m    782\u001b[0m     \u001b[38;5;66;03m# Check whether the filename is to be opened in binary mode.\u001b[39;00m\n\u001b[0;32m    783\u001b[0m     \u001b[38;5;66;03m# Binary mode does not support 'encoding' and 'newline'.\u001b[39;00m\n\u001b[0;32m    784\u001b[0m     \u001b[38;5;28;01mif\u001b[39;00m ioargs\u001b[38;5;241m.\u001b[39mencoding \u001b[38;5;129;01mand\u001b[39;00m \u001b[38;5;124m\"\u001b[39m\u001b[38;5;124mb\u001b[39m\u001b[38;5;124m\"\u001b[39m \u001b[38;5;129;01mnot\u001b[39;00m \u001b[38;5;129;01min\u001b[39;00m ioargs\u001b[38;5;241m.\u001b[39mmode:\n\u001b[0;32m    785\u001b[0m         \u001b[38;5;66;03m# Encoding\u001b[39;00m\n\u001b[1;32m--> 786\u001b[0m         handle \u001b[38;5;241m=\u001b[39m \u001b[38;5;28;43mopen\u001b[39;49m\u001b[43m(\u001b[49m\n\u001b[0;32m    787\u001b[0m \u001b[43m            \u001b[49m\u001b[43mhandle\u001b[49m\u001b[43m,\u001b[49m\n\u001b[0;32m    788\u001b[0m \u001b[43m            \u001b[49m\u001b[43mioargs\u001b[49m\u001b[38;5;241;43m.\u001b[39;49m\u001b[43mmode\u001b[49m\u001b[43m,\u001b[49m\n\u001b[0;32m    789\u001b[0m \u001b[43m            \u001b[49m\u001b[43mencoding\u001b[49m\u001b[38;5;241;43m=\u001b[39;49m\u001b[43mioargs\u001b[49m\u001b[38;5;241;43m.\u001b[39;49m\u001b[43mencoding\u001b[49m\u001b[43m,\u001b[49m\n\u001b[0;32m    790\u001b[0m \u001b[43m            \u001b[49m\u001b[43merrors\u001b[49m\u001b[38;5;241;43m=\u001b[39;49m\u001b[43merrors\u001b[49m\u001b[43m,\u001b[49m\n\u001b[0;32m    791\u001b[0m \u001b[43m            \u001b[49m\u001b[43mnewline\u001b[49m\u001b[38;5;241;43m=\u001b[39;49m\u001b[38;5;124;43m\"\u001b[39;49m\u001b[38;5;124;43m\"\u001b[39;49m\u001b[43m,\u001b[49m\n\u001b[0;32m    792\u001b[0m \u001b[43m        \u001b[49m\u001b[43m)\u001b[49m\n\u001b[0;32m    793\u001b[0m     \u001b[38;5;28;01melse\u001b[39;00m:\n\u001b[0;32m    794\u001b[0m         \u001b[38;5;66;03m# Binary mode\u001b[39;00m\n\u001b[0;32m    795\u001b[0m         handle \u001b[38;5;241m=\u001b[39m \u001b[38;5;28mopen\u001b[39m(handle, ioargs\u001b[38;5;241m.\u001b[39mmode)\n",
      "\u001b[1;31mFileNotFoundError\u001b[0m: [Errno 2] No such file or directory: '/exchange_rates.csv'"
     ]
    }
   ],
   "source": [
    "dataset = pd.read_csv('./exchange_rates.csv', parse_dates=['date'], index_col = 0)\n",
    "dataset.head()"
   ]
  },
  {
   "cell_type": "code",
   "execution_count": 101,
   "id": "4d6750f0",
   "metadata": {
    "colab": {
     "base_uri": "https://localhost:8080/",
     "height": 300
    },
    "execution": {
     "iopub.execute_input": "2022-09-23T22:47:04.239539Z",
     "iopub.status.busy": "2022-09-23T22:47:04.239107Z",
     "iopub.status.idle": "2022-09-23T22:47:04.263637Z",
     "shell.execute_reply": "2022-09-23T22:47:04.262497Z"
    },
    "id": "4d6750f0",
    "outputId": "0bdc8975-34dd-4b41-c7cb-772fe4ec4cad",
    "papermill": {
     "duration": 0.041041,
     "end_time": "2022-09-23T22:47:04.265931",
     "exception": false,
     "start_time": "2022-09-23T22:47:04.224890",
     "status": "completed"
    },
    "tags": []
   },
   "outputs": [
    {
     "data": {
      "text/html": [
       "<div>\n",
       "<style scoped>\n",
       "    .dataframe tbody tr th:only-of-type {\n",
       "        vertical-align: middle;\n",
       "    }\n",
       "\n",
       "    .dataframe tbody tr th {\n",
       "        vertical-align: top;\n",
       "    }\n",
       "\n",
       "    .dataframe thead th {\n",
       "        text-align: right;\n",
       "    }\n",
       "</style>\n",
       "<table border=\"1\" class=\"dataframe\">\n",
       "  <thead>\n",
       "    <tr style=\"text-align: right;\">\n",
       "      <th></th>\n",
       "      <th>value</th>\n",
       "    </tr>\n",
       "  </thead>\n",
       "  <tbody>\n",
       "    <tr>\n",
       "      <th>count</th>\n",
       "      <td>48134.000000</td>\n",
       "    </tr>\n",
       "    <tr>\n",
       "      <th>mean</th>\n",
       "      <td>1553.273170</td>\n",
       "    </tr>\n",
       "    <tr>\n",
       "      <th>std</th>\n",
       "      <td>5274.875793</td>\n",
       "    </tr>\n",
       "    <tr>\n",
       "      <th>min</th>\n",
       "      <td>0.297793</td>\n",
       "    </tr>\n",
       "    <tr>\n",
       "      <th>25%</th>\n",
       "      <td>3.919004</td>\n",
       "    </tr>\n",
       "    <tr>\n",
       "      <th>50%</th>\n",
       "      <td>31.455937</td>\n",
       "    </tr>\n",
       "    <tr>\n",
       "      <th>75%</th>\n",
       "      <td>397.979623</td>\n",
       "    </tr>\n",
       "    <tr>\n",
       "      <th>max</th>\n",
       "      <td>48463.030166</td>\n",
       "    </tr>\n",
       "  </tbody>\n",
       "</table>\n",
       "</div>"
      ],
      "text/plain": [
       "              value\n",
       "count  48134.000000\n",
       "mean    1553.273170\n",
       "std     5274.875793\n",
       "min        0.297793\n",
       "25%        3.919004\n",
       "50%       31.455937\n",
       "75%      397.979623\n",
       "max    48463.030166"
      ]
     },
     "execution_count": 101,
     "metadata": {},
     "output_type": "execute_result"
    }
   ],
   "source": [
    "# some insight about whole dataset\n",
    "dataset.describe()"
   ]
  },
  {
   "cell_type": "markdown",
   "id": "4ef184f7",
   "metadata": {
    "id": "4ef184f7",
    "papermill": {
     "duration": 0.012883,
     "end_time": "2022-09-23T22:47:04.292905",
     "exception": false,
     "start_time": "2022-09-23T22:47:04.280022",
     "status": "completed"
    },
    "tags": []
   },
   "source": [
    "# 2. EDA on Currency data"
   ]
  },
  {
   "cell_type": "markdown",
   "id": "fc7e9807",
   "metadata": {
    "id": "fc7e9807",
    "papermill": {
     "duration": 0.012991,
     "end_time": "2022-09-23T22:47:04.318949",
     "exception": false,
     "start_time": "2022-09-23T22:47:04.305958",
     "status": "completed"
    },
    "tags": []
   },
   "source": [
    "## 2.1 First check if any null values present"
   ]
  },
  {
   "cell_type": "code",
   "execution_count": 102,
   "id": "97d63b2b",
   "metadata": {
    "colab": {
     "base_uri": "https://localhost:8080/"
    },
    "execution": {
     "iopub.execute_input": "2022-09-23T22:47:04.347894Z",
     "iopub.status.busy": "2022-09-23T22:47:04.347487Z",
     "iopub.status.idle": "2022-09-23T22:47:04.362341Z",
     "shell.execute_reply": "2022-09-23T22:47:04.361296Z"
    },
    "id": "97d63b2b",
    "outputId": "b078f28d-9253-40df-e8d6-3c65a4c19fb8",
    "papermill": {
     "duration": 0.032295,
     "end_time": "2022-09-23T22:47:04.364666",
     "exception": false,
     "start_time": "2022-09-23T22:47:04.332371",
     "status": "completed"
    },
    "tags": []
   },
   "outputs": [
    {
     "data": {
      "text/plain": [
       "Country/Currency    0\n",
       "currency            0\n",
       "value               0\n",
       "date                0\n",
       "dtype: int64"
      ]
     },
     "execution_count": 102,
     "metadata": {},
     "output_type": "execute_result"
    }
   ],
   "source": [
    "dataset.isnull().sum()"
   ]
  },
  {
   "cell_type": "markdown",
   "id": "251e7da0",
   "metadata": {
    "id": "251e7da0",
    "papermill": {
     "duration": 0.012738,
     "end_time": "2022-09-23T22:47:04.390349",
     "exception": false,
     "start_time": "2022-09-23T22:47:04.377611",
     "status": "completed"
    },
    "tags": []
   },
   "source": [
    "## 2.2 Types of Currency data present"
   ]
  },
  {
   "cell_type": "code",
   "execution_count": 103,
   "id": "02210221",
   "metadata": {
    "colab": {
     "base_uri": "https://localhost:8080/"
    },
    "execution": {
     "iopub.execute_input": "2022-09-23T22:47:04.419502Z",
     "iopub.status.busy": "2022-09-23T22:47:04.418570Z",
     "iopub.status.idle": "2022-09-23T22:47:04.430047Z",
     "shell.execute_reply": "2022-09-23T22:47:04.428903Z"
    },
    "id": "02210221",
    "outputId": "ff12a172-f80d-48c1-a4ea-efee562e8dd2",
    "papermill": {
     "duration": 0.028911,
     "end_time": "2022-09-23T22:47:04.432308",
     "exception": false,
     "start_time": "2022-09-23T22:47:04.403397",
     "status": "completed"
    },
    "tags": []
   },
   "outputs": [
    {
     "data": {
      "text/plain": [
       "array(['AUD', 'GBP', 'EUR', 'JPY', 'CHF', 'USD', 'AFN', 'ALL', 'DZD',\n",
       "       'AOA', 'ARS', 'AMD', 'AWG', 'AZN', 'BSD', 'BHD', 'BDT', 'BBD',\n",
       "       'BYR', 'BZD', 'BMD', 'BTN', 'BOB', 'BAM', 'BWP', 'BRL', 'BND',\n",
       "       'BGN', 'BIF', 'XOF', 'XAF', 'XPF', 'KHR', 'CAD', 'CVE', 'KYD',\n",
       "       'CLP', 'CNY', 'COP', 'KMF', 'CDF', 'CRC', 'HRK', 'CUC', 'CUP',\n",
       "       'CZK', 'DKK', 'DJF', 'DOP', 'XCD', 'EGP', 'SVC', 'ETB', 'FKP',\n",
       "       'FJD', 'GMD', 'GEL', 'GHS', 'GIP', 'GTQ', 'GNF', 'GYD', 'HTG',\n",
       "       'HNL', 'HKD', 'HUF', 'ISK', 'INR', 'IDR', 'IRR', 'IQD', 'ILS',\n",
       "       'JMD', 'JOD', 'KZT', 'KES', 'KWD', 'KGS', 'LAK', 'LBP', 'LSL',\n",
       "       'LRD', 'LYD', 'MOP', 'MKD', 'MGA', 'MWK', 'MYR', 'MVR', 'MRO',\n",
       "       'MUR', 'MXN', 'MDL', 'MNT', 'MAD', 'MZN', 'MMK', 'ANG', 'NAD',\n",
       "       'NPR', 'NZD', 'NIO', 'NGN', 'KPW', 'NOK', 'OMR', 'PKR', 'PAB',\n",
       "       'PGK', 'PYG', 'PEN', 'PHP', 'PLN', 'QAR', 'RON', 'RUB', 'RWF',\n",
       "       'WST', 'STD', 'SAR', 'RSD', 'SCR', 'SLL', 'SGD', 'SBD', 'SOS',\n",
       "       'ZAR', 'KRW', 'LKR', 'SHP', 'SDG', 'SRD', 'SZL', 'SEK', 'SYP',\n",
       "       'TWD', 'TZS', 'THB', 'TOP', 'TTD', 'TND', 'TRY', 'UGX', 'UAH',\n",
       "       'UYU', 'AED', 'VUV', 'VND', 'YER', 'ZMK'], dtype=object)"
      ]
     },
     "execution_count": 103,
     "metadata": {},
     "output_type": "execute_result"
    }
   ],
   "source": [
    "dataset['currency'].unique()"
   ]
  },
  {
   "cell_type": "code",
   "execution_count": 104,
   "id": "309412a1",
   "metadata": {
    "colab": {
     "base_uri": "https://localhost:8080/"
    },
    "execution": {
     "iopub.execute_input": "2022-09-23T22:47:04.460389Z",
     "iopub.status.busy": "2022-09-23T22:47:04.459932Z",
     "iopub.status.idle": "2022-09-23T22:47:04.471352Z",
     "shell.execute_reply": "2022-09-23T22:47:04.470119Z"
    },
    "id": "309412a1",
    "outputId": "e49b1a46-5b3e-4b16-8ffb-5bf79e847b7f",
    "papermill": {
     "duration": 0.028329,
     "end_time": "2022-09-23T22:47:04.473801",
     "exception": false,
     "start_time": "2022-09-23T22:47:04.445472",
     "status": "completed"
    },
    "tags": []
   },
   "outputs": [
    {
     "data": {
      "text/plain": [
       "array(['Australia Dollar', 'Great Britain Pound', 'Euro', 'Japan Yen',\n",
       "       'Switzerland Franc', 'USA Dollar', 'Afghanistan Afghani',\n",
       "       'Albania Lek', 'Algeria Dinar', 'Angola Kwanza', 'Argentina Peso',\n",
       "       'Armenia Dram', 'Aruba Florin', 'Azerbaijan New Manat',\n",
       "       'Bahamas Dollar', 'Bahrain Dinar', 'Bangladesh Taka',\n",
       "       'Barbados Dollar', 'Belarus Ruble', 'Belize Dollar',\n",
       "       'Bermuda Dollar', 'Bhutan Ngultrum', 'Bolivia Boliviano',\n",
       "       'Bosnia Mark', 'Botswana Pula', 'Brazil Real', 'Brunei Dollar',\n",
       "       'Bulgaria Lev', 'Burundi Franc', 'CFA Franc BCEAO',\n",
       "       'CFA Franc BEAC', 'CFP Franc', 'Cambodia Riel', 'Canada Dollar',\n",
       "       'Cape Verde Escudo', 'Cayman Islands Dollar', 'Chili Peso',\n",
       "       'China Yuan/Renminbi', 'Colombia Peso', 'Comoros Franc',\n",
       "       'Congo Franc', 'Costa Rica Colon', 'Croatia Kuna',\n",
       "       'Cuba Convertible Peso', 'Cuba Peso', 'Czech Koruna',\n",
       "       'Denmark Krone', 'Djibouti Franc', 'Dominican Republich Peso',\n",
       "       'East Caribbean Dollar', 'Egypt Pound', 'El Salvador Colon',\n",
       "       'Ethiopia Birr', 'Falkland Islands Pound', 'Fiji Dollar',\n",
       "       'Gambia Dalasi', 'Georgia Lari', 'Ghana New Cedi',\n",
       "       'Gibraltar Pound', 'Guatemala Quetzal', 'Guinea Franc',\n",
       "       'Guyana Dollar', 'Haiti Gourde', 'Honduras Lempira',\n",
       "       'Hong Kong Dollar', 'Hungary Forint', 'Iceland Krona',\n",
       "       'India Rupee', 'Indonesia Rupiah', 'Iran Rial', 'Iraq Dinar',\n",
       "       'Israel New Shekel', 'Jamaica Dollar', 'Jordan Dinar',\n",
       "       'Kazakhstan Tenge', 'Kenya Shilling', 'Kuwait Dinar',\n",
       "       'Kyrgyzstan Som', 'Laos Kip', 'Lebanon Pound', 'Lesotho Loti',\n",
       "       'Liberia Dollar', 'Libya Dinar', 'Macau Pataca', 'Macedonia Denar',\n",
       "       'Malagasy Ariary', 'Malawi Kwacha', 'Malaysia Ringgit',\n",
       "       'Maldives Rufiyaa', 'Mauritania Ouguiya', 'Mauritius Rupee',\n",
       "       'Mexico Peso', 'Moldova Leu', 'Mongolia Tugrik', 'Morocco Dirham',\n",
       "       'Mozambique New Metical', 'Myanmar Kyat', 'NL Antilles Guilder',\n",
       "       'Namibia Dollar', 'Nepal Rupee', 'New Zealand Dollar',\n",
       "       'Nicaragua Cordoba Oro', 'Nigeria Naira', 'North Korea Won',\n",
       "       'Norway Kroner', 'Oman Rial', 'Pakistan Rupee', 'Panama Balboa',\n",
       "       'Papua New Guinea Kina', 'Paraguay Guarani', 'Peru Nuevo Sol',\n",
       "       'Philippines Peso', 'Poland Zloty', 'Qatar Rial',\n",
       "       'Romania New Lei', 'Russia Rouble', 'Rwanda Franc', 'Samoa Tala',\n",
       "       'Sao Tome/Principe Dobra', 'Saudi Arabia Riyal', 'Serbia Dinar',\n",
       "       'Seychelles Rupee', 'Sierra Leone Leone', 'Singapore Dollar',\n",
       "       'Solomon Islands Dollar', 'Somali Shilling', 'South Africa Rand',\n",
       "       'South Korea Won', 'Sri Lanka Rupee', 'St Helena Pound',\n",
       "       'Sudan Pound', 'Suriname Dollar', 'Swaziland Lilangeni',\n",
       "       'Sweden Krona', 'Syria Pound', 'Taiwan Dollar',\n",
       "       'Tanzania Shilling', 'Thailand Baht', \"Tonga Pa'anga\",\n",
       "       'Trinidad/Tobago Dollar', 'Tunisia Dinar', 'Turkish New Lira',\n",
       "       'Uganda Shilling', 'Ukraine Hryvnia', 'Uruguay Peso',\n",
       "       'United Arab Emirates Dirham', 'Vanuatu Vatu', 'Vietnam Dong',\n",
       "       'Yemen Rial', 'Zambia Kwacha'], dtype=object)"
      ]
     },
     "execution_count": 104,
     "metadata": {},
     "output_type": "execute_result"
    }
   ],
   "source": [
    "# Print currency names\n",
    "dataset['Country/Currency'].unique()"
   ]
  },
  {
   "cell_type": "code",
   "execution_count": 105,
   "id": "2fdcec31",
   "metadata": {
    "colab": {
     "base_uri": "https://localhost:8080/"
    },
    "execution": {
     "iopub.execute_input": "2022-09-23T22:47:04.503194Z",
     "iopub.status.busy": "2022-09-23T22:47:04.502756Z",
     "iopub.status.idle": "2022-09-23T22:47:04.518744Z",
     "shell.execute_reply": "2022-09-23T22:47:04.516291Z"
    },
    "id": "2fdcec31",
    "outputId": "3633b2fd-8ce4-4085-d1ff-72ce5a760fea",
    "papermill": {
     "duration": 0.033892,
     "end_time": "2022-09-23T22:47:04.521554",
     "exception": false,
     "start_time": "2022-09-23T22:47:04.487662",
     "status": "completed"
    },
    "tags": []
   },
   "outputs": [
    {
     "name": "stdout",
     "output_type": "stream",
     "text": [
      "Country name: Australia Dollar -> Currency: AUD\n",
      "Country name: Great Britain Pound -> Currency: GBP\n",
      "Country name: Euro -> Currency: EUR\n",
      "Country name: Japan Yen -> Currency: JPY\n",
      "Country name: Switzerland Franc -> Currency: CHF\n",
      "Country name: USA Dollar -> Currency: USD\n",
      "Country name: Afghanistan Afghani -> Currency: AFN\n",
      "Country name: Albania Lek -> Currency: ALL\n",
      "Country name: Algeria Dinar -> Currency: DZD\n",
      "Country name: Angola Kwanza -> Currency: AOA\n",
      "Country name: Argentina Peso -> Currency: ARS\n",
      "Country name: Armenia Dram -> Currency: AMD\n",
      "Country name: Aruba Florin -> Currency: AWG\n",
      "Country name: Azerbaijan New Manat -> Currency: AZN\n",
      "Country name: Bahamas Dollar -> Currency: BSD\n",
      "Country name: Bahrain Dinar -> Currency: BHD\n",
      "Country name: Bangladesh Taka -> Currency: BDT\n",
      "Country name: Barbados Dollar -> Currency: BBD\n",
      "Country name: Belarus Ruble -> Currency: BYR\n",
      "Country name: Belize Dollar -> Currency: BZD\n",
      "Country name: Bermuda Dollar -> Currency: BMD\n",
      "Country name: Bhutan Ngultrum -> Currency: BTN\n",
      "Country name: Bolivia Boliviano -> Currency: BOB\n",
      "Country name: Bosnia Mark -> Currency: BAM\n",
      "Country name: Botswana Pula -> Currency: BWP\n",
      "Country name: Brazil Real -> Currency: BRL\n",
      "Country name: Brunei Dollar -> Currency: BND\n",
      "Country name: Bulgaria Lev -> Currency: BGN\n",
      "Country name: Burundi Franc -> Currency: BIF\n",
      "Country name: CFA Franc BCEAO -> Currency: XOF\n",
      "Country name: CFA Franc BEAC -> Currency: XAF\n",
      "Country name: CFP Franc -> Currency: XPF\n",
      "Country name: Cambodia Riel -> Currency: KHR\n",
      "Country name: Canada Dollar -> Currency: CAD\n",
      "Country name: Cape Verde Escudo -> Currency: CVE\n",
      "Country name: Cayman Islands Dollar -> Currency: KYD\n",
      "Country name: Chili Peso -> Currency: CLP\n",
      "Country name: China Yuan/Renminbi -> Currency: CNY\n",
      "Country name: Colombia Peso -> Currency: COP\n",
      "Country name: Comoros Franc -> Currency: KMF\n",
      "Country name: Congo Franc -> Currency: CDF\n",
      "Country name: Costa Rica Colon -> Currency: CRC\n",
      "Country name: Croatia Kuna -> Currency: HRK\n",
      "Country name: Cuba Convertible Peso -> Currency: CUC\n",
      "Country name: Cuba Peso -> Currency: CUP\n",
      "Country name: Czech Koruna -> Currency: CZK\n",
      "Country name: Denmark Krone -> Currency: DKK\n",
      "Country name: Djibouti Franc -> Currency: DJF\n",
      "Country name: Dominican Republich Peso -> Currency: DOP\n",
      "Country name: East Caribbean Dollar -> Currency: XCD\n",
      "Country name: Egypt Pound -> Currency: EGP\n",
      "Country name: El Salvador Colon -> Currency: SVC\n",
      "Country name: Ethiopia Birr -> Currency: ETB\n",
      "Country name: Falkland Islands Pound -> Currency: FKP\n",
      "Country name: Fiji Dollar -> Currency: FJD\n",
      "Country name: Gambia Dalasi -> Currency: GMD\n",
      "Country name: Georgia Lari -> Currency: GEL\n",
      "Country name: Ghana New Cedi -> Currency: GHS\n",
      "Country name: Gibraltar Pound -> Currency: GIP\n",
      "Country name: Guatemala Quetzal -> Currency: GTQ\n",
      "Country name: Guinea Franc -> Currency: GNF\n",
      "Country name: Guyana Dollar -> Currency: GYD\n",
      "Country name: Haiti Gourde -> Currency: HTG\n",
      "Country name: Honduras Lempira -> Currency: HNL\n",
      "Country name: Hong Kong Dollar -> Currency: HKD\n",
      "Country name: Hungary Forint -> Currency: HUF\n",
      "Country name: Iceland Krona -> Currency: ISK\n",
      "Country name: India Rupee -> Currency: INR\n",
      "Country name: Indonesia Rupiah -> Currency: IDR\n",
      "Country name: Iran Rial -> Currency: IRR\n",
      "Country name: Iraq Dinar -> Currency: IQD\n",
      "Country name: Israel New Shekel -> Currency: ILS\n",
      "Country name: Jamaica Dollar -> Currency: JMD\n",
      "Country name: Jordan Dinar -> Currency: JOD\n",
      "Country name: Kazakhstan Tenge -> Currency: KZT\n",
      "Country name: Kenya Shilling -> Currency: KES\n",
      "Country name: Kuwait Dinar -> Currency: KWD\n",
      "Country name: Kyrgyzstan Som -> Currency: KGS\n",
      "Country name: Laos Kip -> Currency: LAK\n",
      "Country name: Lebanon Pound -> Currency: LBP\n",
      "Country name: Lesotho Loti -> Currency: LSL\n",
      "Country name: Liberia Dollar -> Currency: LRD\n",
      "Country name: Libya Dinar -> Currency: LYD\n",
      "Country name: Macau Pataca -> Currency: MOP\n",
      "Country name: Macedonia Denar -> Currency: MKD\n",
      "Country name: Malagasy Ariary -> Currency: MGA\n",
      "Country name: Malawi Kwacha -> Currency: MWK\n",
      "Country name: Malaysia Ringgit -> Currency: MYR\n",
      "Country name: Maldives Rufiyaa -> Currency: MVR\n",
      "Country name: Mauritania Ouguiya -> Currency: MRO\n",
      "Country name: Mauritius Rupee -> Currency: MUR\n",
      "Country name: Mexico Peso -> Currency: MXN\n",
      "Country name: Moldova Leu -> Currency: MDL\n",
      "Country name: Mongolia Tugrik -> Currency: MNT\n",
      "Country name: Morocco Dirham -> Currency: MAD\n",
      "Country name: Mozambique New Metical -> Currency: MZN\n",
      "Country name: Myanmar Kyat -> Currency: MMK\n",
      "Country name: NL Antilles Guilder -> Currency: ANG\n",
      "Country name: Namibia Dollar -> Currency: NAD\n",
      "Country name: Nepal Rupee -> Currency: NPR\n",
      "Country name: New Zealand Dollar -> Currency: NZD\n",
      "Country name: Nicaragua Cordoba Oro -> Currency: NIO\n",
      "Country name: Nigeria Naira -> Currency: NGN\n",
      "Country name: North Korea Won -> Currency: KPW\n",
      "Country name: Norway Kroner -> Currency: NOK\n",
      "Country name: Oman Rial -> Currency: OMR\n",
      "Country name: Pakistan Rupee -> Currency: PKR\n",
      "Country name: Panama Balboa -> Currency: PAB\n",
      "Country name: Papua New Guinea Kina -> Currency: PGK\n",
      "Country name: Paraguay Guarani -> Currency: PYG\n",
      "Country name: Peru Nuevo Sol -> Currency: PEN\n",
      "Country name: Philippines Peso -> Currency: PHP\n",
      "Country name: Poland Zloty -> Currency: PLN\n",
      "Country name: Qatar Rial -> Currency: QAR\n",
      "Country name: Romania New Lei -> Currency: RON\n",
      "Country name: Russia Rouble -> Currency: RUB\n",
      "Country name: Rwanda Franc -> Currency: RWF\n",
      "Country name: Samoa Tala -> Currency: WST\n",
      "Country name: Sao Tome/Principe Dobra -> Currency: STD\n",
      "Country name: Saudi Arabia Riyal -> Currency: SAR\n",
      "Country name: Serbia Dinar -> Currency: RSD\n",
      "Country name: Seychelles Rupee -> Currency: SCR\n",
      "Country name: Sierra Leone Leone -> Currency: SLL\n",
      "Country name: Singapore Dollar -> Currency: SGD\n",
      "Country name: Solomon Islands Dollar -> Currency: SBD\n",
      "Country name: Somali Shilling -> Currency: SOS\n",
      "Country name: South Africa Rand -> Currency: ZAR\n",
      "Country name: South Korea Won -> Currency: KRW\n",
      "Country name: Sri Lanka Rupee -> Currency: LKR\n",
      "Country name: St Helena Pound -> Currency: SHP\n",
      "Country name: Sudan Pound -> Currency: SDG\n",
      "Country name: Suriname Dollar -> Currency: SRD\n",
      "Country name: Swaziland Lilangeni -> Currency: SZL\n",
      "Country name: Sweden Krona -> Currency: SEK\n",
      "Country name: Syria Pound -> Currency: SYP\n",
      "Country name: Taiwan Dollar -> Currency: TWD\n",
      "Country name: Tanzania Shilling -> Currency: TZS\n",
      "Country name: Thailand Baht -> Currency: THB\n",
      "Country name: Tonga Pa'anga -> Currency: TOP\n",
      "Country name: Trinidad/Tobago Dollar -> Currency: TTD\n",
      "Country name: Tunisia Dinar -> Currency: TND\n",
      "Country name: Turkish New Lira -> Currency: TRY\n",
      "Country name: Uganda Shilling -> Currency: UGX\n",
      "Country name: Ukraine Hryvnia -> Currency: UAH\n",
      "Country name: Uruguay Peso -> Currency: UYU\n",
      "Country name: United Arab Emirates Dirham -> Currency: AED\n",
      "Country name: Vanuatu Vatu -> Currency: VUV\n",
      "Country name: Vietnam Dong -> Currency: VND\n",
      "Country name: Yemen Rial -> Currency: YER\n",
      "Country name: Zambia Kwacha -> Currency: ZMK\n"
     ]
    }
   ],
   "source": [
    "unique_country = list(dataset['Country/Currency'].unique())\n",
    "unique_currency = list(dataset['currency'].unique())\n",
    "for x in range(len(unique_country)):\n",
    "    print('Country name: {0} -> Currency: {1}'.format(unique_country[x], unique_currency[x]))"
   ]
  },
  {
   "cell_type": "markdown",
   "id": "219ec0f1",
   "metadata": {
    "id": "219ec0f1",
    "papermill": {
     "duration": 0.014464,
     "end_time": "2022-09-23T22:47:04.550248",
     "exception": false,
     "start_time": "2022-09-23T22:47:04.535784",
     "status": "completed"
    },
    "tags": []
   },
   "source": [
    "## 2.3 Pickup some country code for time series analysis\n",
    "\n",
    "    1. USA Dollar -> USD\n",
    "    2. Indonesian Rupee -> IDR"
   ]
  },
  {
   "cell_type": "code",
   "execution_count": 106,
   "id": "1d7ee548",
   "metadata": {
    "colab": {
     "base_uri": "https://localhost:8080/",
     "height": 206
    },
    "execution": {
     "iopub.execute_input": "2022-09-23T22:47:04.580549Z",
     "iopub.status.busy": "2022-09-23T22:47:04.580125Z",
     "iopub.status.idle": "2022-09-23T22:47:04.597932Z",
     "shell.execute_reply": "2022-09-23T22:47:04.596677Z"
    },
    "id": "1d7ee548",
    "outputId": "326c941d-ad1f-4491-bc23-460dc734c5de",
    "papermill": {
     "duration": 0.035837,
     "end_time": "2022-09-23T22:47:04.600448",
     "exception": false,
     "start_time": "2022-09-23T22:47:04.564611",
     "status": "completed"
    },
    "tags": []
   },
   "outputs": [
    {
     "data": {
      "text/html": [
       "<div>\n",
       "<style scoped>\n",
       "    .dataframe tbody tr th:only-of-type {\n",
       "        vertical-align: middle;\n",
       "    }\n",
       "\n",
       "    .dataframe tbody tr th {\n",
       "        vertical-align: top;\n",
       "    }\n",
       "\n",
       "    .dataframe thead th {\n",
       "        text-align: right;\n",
       "    }\n",
       "</style>\n",
       "<table border=\"1\" class=\"dataframe\">\n",
       "  <thead>\n",
       "    <tr style=\"text-align: right;\">\n",
       "      <th></th>\n",
       "      <th>Country/Currency</th>\n",
       "      <th>currency</th>\n",
       "      <th>value</th>\n",
       "      <th>date</th>\n",
       "    </tr>\n",
       "  </thead>\n",
       "  <tbody>\n",
       "    <tr>\n",
       "      <th>5</th>\n",
       "      <td>USA Dollar</td>\n",
       "      <td>USD</td>\n",
       "      <td>1.132548</td>\n",
       "      <td>2021-12-17</td>\n",
       "    </tr>\n",
       "    <tr>\n",
       "      <th>155</th>\n",
       "      <td>USA Dollar</td>\n",
       "      <td>USD</td>\n",
       "      <td>1.123810</td>\n",
       "      <td>2021-12-18</td>\n",
       "    </tr>\n",
       "    <tr>\n",
       "      <th>305</th>\n",
       "      <td>USA Dollar</td>\n",
       "      <td>USD</td>\n",
       "      <td>1.123810</td>\n",
       "      <td>2021-12-19</td>\n",
       "    </tr>\n",
       "    <tr>\n",
       "      <th>455</th>\n",
       "      <td>USA Dollar</td>\n",
       "      <td>USD</td>\n",
       "      <td>1.124405</td>\n",
       "      <td>2021-12-20</td>\n",
       "    </tr>\n",
       "    <tr>\n",
       "      <th>605</th>\n",
       "      <td>USA Dollar</td>\n",
       "      <td>USD</td>\n",
       "      <td>1.128382</td>\n",
       "      <td>2021-12-21</td>\n",
       "    </tr>\n",
       "  </tbody>\n",
       "</table>\n",
       "</div>"
      ],
      "text/plain": [
       "    Country/Currency currency     value       date\n",
       "5         USA Dollar      USD  1.132548 2021-12-17\n",
       "155       USA Dollar      USD  1.123810 2021-12-18\n",
       "305       USA Dollar      USD  1.123810 2021-12-19\n",
       "455       USA Dollar      USD  1.124405 2021-12-20\n",
       "605       USA Dollar      USD  1.128382 2021-12-21"
      ]
     },
     "execution_count": 106,
     "metadata": {},
     "output_type": "execute_result"
    }
   ],
   "source": [
    "data_usd = dataset.loc[dataset.currency == 'USD']\n",
    "data_usd.head()"
   ]
  },
  {
   "cell_type": "markdown",
   "id": "42706fbe",
   "metadata": {
    "id": "42706fbe",
    "papermill": {
     "duration": 0.014763,
     "end_time": "2022-09-23T22:47:04.628993",
     "exception": false,
     "start_time": "2022-09-23T22:47:04.614230",
     "status": "completed"
    },
    "tags": []
   },
   "source": [
    "## 2.4 Let's Visualize"
   ]
  },
  {
   "cell_type": "code",
   "execution_count": 107,
   "id": "68dc36c2",
   "metadata": {
    "_kg_hide-input": true,
    "execution": {
     "iopub.execute_input": "2022-09-23T22:47:04.658210Z",
     "iopub.status.busy": "2022-09-23T22:47:04.657765Z",
     "iopub.status.idle": "2022-09-23T22:47:04.663348Z",
     "shell.execute_reply": "2022-09-23T22:47:04.662309Z"
    },
    "id": "68dc36c2",
    "jupyter": {
     "source_hidden": true
    },
    "papermill": {
     "duration": 0.022912,
     "end_time": "2022-09-23T22:47:04.665715",
     "exception": false,
     "start_time": "2022-09-23T22:47:04.642803",
     "status": "completed"
    },
    "tags": []
   },
   "outputs": [],
   "source": [
    "from IPython.display import HTML, display"
   ]
  },
  {
   "cell_type": "code",
   "execution_count": 108,
   "id": "ad8f9ad9",
   "metadata": {
    "_kg_hide-input": true,
    "execution": {
     "iopub.execute_input": "2022-09-23T22:47:04.696390Z",
     "iopub.status.busy": "2022-09-23T22:47:04.696016Z",
     "iopub.status.idle": "2022-09-23T22:47:04.703316Z",
     "shell.execute_reply": "2022-09-23T22:47:04.702362Z"
    },
    "id": "ad8f9ad9",
    "jupyter": {
     "source_hidden": true
    },
    "papermill": {
     "duration": 0.025421,
     "end_time": "2022-09-23T22:47:04.705597",
     "exception": false,
     "start_time": "2022-09-23T22:47:04.680176",
     "status": "completed"
    },
    "tags": []
   },
   "outputs": [],
   "source": [
    "display_usd = HTML(\n",
    "'''\n",
    "<iframe src='https://flo.uri.sh/visualisation/11270785/embed' title='Interactive or visual content'\n",
    "class='flourish-embed-iframe' frameborder='0' scrolling='no' style='width:100%;height:600px;' \n",
    "    sandbox='allow-same-origin allow-forms allow-scripts allow-downloads allow-popups allow-popups-to-escape-sandbox allow-top-navigation-by-user-activation'></iframe>\n",
    "    <div style='width:100%!;margin-top:4px!important;text-align:right!important;'>\n",
    "    <a class='flourish-credit' href='https://public.flourish.studio/visualisation/11270785/?utm_source=embed&utm_campaign=visualisation/11270785' target='_top' style='text-decoration:none!important'>\n",
    "    <img alt='Made with Flourish' src='https://public.flourish.studio/resources/made_with_flourish.svg' style='width:105px!important;height:16px!important;border:none!important;margin:0!important;'> \n",
    "    </a></div>\n",
    "'''\n",
    ")"
   ]
  },
  {
   "cell_type": "markdown",
   "id": "5a87b029",
   "metadata": {
    "id": "5a87b029",
    "papermill": {
     "duration": 0.013825,
     "end_time": "2022-09-23T22:47:04.733035",
     "exception": false,
     "start_time": "2022-09-23T22:47:04.719210",
     "status": "completed"
    },
    "tags": []
   },
   "source": [
    "## 2.5 Visualize USD Value"
   ]
  },
  {
   "cell_type": "code",
   "execution_count": 109,
   "id": "975446b2",
   "metadata": {
    "colab": {
     "base_uri": "https://localhost:8080/",
     "height": 645
    },
    "execution": {
     "iopub.execute_input": "2022-09-23T22:47:04.762594Z",
     "iopub.status.busy": "2022-09-23T22:47:04.761757Z",
     "iopub.status.idle": "2022-09-23T22:47:04.769174Z",
     "shell.execute_reply": "2022-09-23T22:47:04.767985Z"
    },
    "id": "975446b2",
    "outputId": "17a42f80-a076-418f-e7d9-0910e46e7792",
    "papermill": {
     "duration": 0.024668,
     "end_time": "2022-09-23T22:47:04.771352",
     "exception": false,
     "start_time": "2022-09-23T22:47:04.746684",
     "status": "completed"
    },
    "tags": []
   },
   "outputs": [
    {
     "data": {
      "text/html": [
       "\n",
       "<iframe src='https://flo.uri.sh/visualisation/11270785/embed' title='Interactive or visual content'\n",
       "class='flourish-embed-iframe' frameborder='0' scrolling='no' style='width:100%;height:600px;' \n",
       "    sandbox='allow-same-origin allow-forms allow-scripts allow-downloads allow-popups allow-popups-to-escape-sandbox allow-top-navigation-by-user-activation'></iframe>\n",
       "    <div style='width:100%!;margin-top:4px!important;text-align:right!important;'>\n",
       "    <a class='flourish-credit' href='https://public.flourish.studio/visualisation/11270785/?utm_source=embed&utm_campaign=visualisation/11270785' target='_top' style='text-decoration:none!important'>\n",
       "    <img alt='Made with Flourish' src='https://public.flourish.studio/resources/made_with_flourish.svg' style='width:105px!important;height:16px!important;border:none!important;margin:0!important;'> \n",
       "    </a></div>\n"
      ],
      "text/plain": [
       "<IPython.core.display.HTML object>"
      ]
     },
     "metadata": {},
     "output_type": "display_data"
    }
   ],
   "source": [
    "display(display_usd)"
   ]
  },
  {
   "cell_type": "code",
   "execution_count": 110,
   "id": "19303676",
   "metadata": {
    "colab": {
     "base_uri": "https://localhost:8080/",
     "height": 206
    },
    "execution": {
     "iopub.execute_input": "2022-09-23T22:47:04.800446Z",
     "iopub.status.busy": "2022-09-23T22:47:04.800024Z",
     "iopub.status.idle": "2022-09-23T22:47:04.818137Z",
     "shell.execute_reply": "2022-09-23T22:47:04.816851Z"
    },
    "id": "19303676",
    "outputId": "f829345a-790f-4230-c72b-8141ede9d3dd",
    "papermill": {
     "duration": 0.035471,
     "end_time": "2022-09-23T22:47:04.820452",
     "exception": false,
     "start_time": "2022-09-23T22:47:04.784981",
     "status": "completed"
    },
    "tags": []
   },
   "outputs": [
    {
     "data": {
      "text/html": [
       "<div>\n",
       "<style scoped>\n",
       "    .dataframe tbody tr th:only-of-type {\n",
       "        vertical-align: middle;\n",
       "    }\n",
       "\n",
       "    .dataframe tbody tr th {\n",
       "        vertical-align: top;\n",
       "    }\n",
       "\n",
       "    .dataframe thead th {\n",
       "        text-align: right;\n",
       "    }\n",
       "</style>\n",
       "<table border=\"1\" class=\"dataframe\">\n",
       "  <thead>\n",
       "    <tr style=\"text-align: right;\">\n",
       "      <th></th>\n",
       "      <th>Country/Currency</th>\n",
       "      <th>currency</th>\n",
       "      <th>value</th>\n",
       "      <th>date</th>\n",
       "    </tr>\n",
       "  </thead>\n",
       "  <tbody>\n",
       "    <tr>\n",
       "      <th>68</th>\n",
       "      <td>Indonesia Rupiah</td>\n",
       "      <td>IDR</td>\n",
       "      <td>16267.972117</td>\n",
       "      <td>2021-12-17</td>\n",
       "    </tr>\n",
       "    <tr>\n",
       "      <th>218</th>\n",
       "      <td>Indonesia Rupiah</td>\n",
       "      <td>IDR</td>\n",
       "      <td>16166.844495</td>\n",
       "      <td>2021-12-18</td>\n",
       "    </tr>\n",
       "    <tr>\n",
       "      <th>368</th>\n",
       "      <td>Indonesia Rupiah</td>\n",
       "      <td>IDR</td>\n",
       "      <td>16166.844495</td>\n",
       "      <td>2021-12-19</td>\n",
       "    </tr>\n",
       "    <tr>\n",
       "      <th>518</th>\n",
       "      <td>Indonesia Rupiah</td>\n",
       "      <td>IDR</td>\n",
       "      <td>16170.010470</td>\n",
       "      <td>2021-12-20</td>\n",
       "    </tr>\n",
       "    <tr>\n",
       "      <th>668</th>\n",
       "      <td>Indonesia Rupiah</td>\n",
       "      <td>IDR</td>\n",
       "      <td>16179.581935</td>\n",
       "      <td>2021-12-21</td>\n",
       "    </tr>\n",
       "  </tbody>\n",
       "</table>\n",
       "</div>"
      ],
      "text/plain": [
       "     Country/Currency currency         value       date\n",
       "68   Indonesia Rupiah      IDR  16267.972117 2021-12-17\n",
       "218  Indonesia Rupiah      IDR  16166.844495 2021-12-18\n",
       "368  Indonesia Rupiah      IDR  16166.844495 2021-12-19\n",
       "518  Indonesia Rupiah      IDR  16170.010470 2021-12-20\n",
       "668  Indonesia Rupiah      IDR  16179.581935 2021-12-21"
      ]
     },
     "execution_count": 110,
     "metadata": {},
     "output_type": "execute_result"
    }
   ],
   "source": [
    "data_idr = dataset.loc[dataset.currency == 'IDR']\n",
    "data_idr.head()"
   ]
  },
  {
   "cell_type": "markdown",
   "id": "bcf34405",
   "metadata": {
    "id": "bcf34405",
    "papermill": {
     "duration": 0.01353,
     "end_time": "2022-09-23T22:47:04.916238",
     "exception": false,
     "start_time": "2022-09-23T22:47:04.902708",
     "status": "completed"
    },
    "tags": []
   },
   "source": [
    "# 3. Time series Analysis - IDR value"
   ]
  },
  {
   "cell_type": "markdown",
   "id": "fGWxGML8F87i",
   "metadata": {
    "id": "fGWxGML8F87i"
   },
   "source": []
  },
  {
   "cell_type": "code",
   "execution_count": 111,
   "id": "f3358a81",
   "metadata": {
    "colab": {
     "base_uri": "https://localhost:8080/",
     "height": 344
    },
    "execution": {
     "iopub.execute_input": "2022-09-23T22:47:04.946290Z",
     "iopub.status.busy": "2022-09-23T22:47:04.945652Z",
     "iopub.status.idle": "2022-09-23T22:47:04.965054Z",
     "shell.execute_reply": "2022-09-23T22:47:04.963563Z"
    },
    "id": "f3358a81",
    "outputId": "6b9408de-1dae-45c6-d4f0-2ffa0016f3f0",
    "papermill": {
     "duration": 0.037699,
     "end_time": "2022-09-23T22:47:04.967955",
     "exception": false,
     "start_time": "2022-09-23T22:47:04.930256",
     "status": "completed"
    },
    "tags": []
   },
   "outputs": [
    {
     "name": "stderr",
     "output_type": "stream",
     "text": [
      "C:\\Users\\Srinivas\\AppData\\Local\\Temp\\ipykernel_23056\\1261756583.py:2: SettingWithCopyWarning: \n",
      "A value is trying to be set on a copy of a slice from a DataFrame\n",
      "\n",
      "See the caveats in the documentation: https://pandas.pydata.org/pandas-docs/stable/user_guide/indexing.html#returning-a-view-versus-a-copy\n",
      "  data_idr.drop(['date', 'Country/Currency', 'currency'], axis = 1, inplace = True)\n"
     ]
    },
    {
     "data": {
      "text/html": [
       "<div>\n",
       "<style scoped>\n",
       "    .dataframe tbody tr th:only-of-type {\n",
       "        vertical-align: middle;\n",
       "    }\n",
       "\n",
       "    .dataframe tbody tr th {\n",
       "        vertical-align: top;\n",
       "    }\n",
       "\n",
       "    .dataframe thead th {\n",
       "        text-align: right;\n",
       "    }\n",
       "</style>\n",
       "<table border=\"1\" class=\"dataframe\">\n",
       "  <thead>\n",
       "    <tr style=\"text-align: right;\">\n",
       "      <th></th>\n",
       "      <th>value</th>\n",
       "    </tr>\n",
       "    <tr>\n",
       "      <th>date</th>\n",
       "      <th></th>\n",
       "    </tr>\n",
       "  </thead>\n",
       "  <tbody>\n",
       "    <tr>\n",
       "      <th>2021-12-17</th>\n",
       "      <td>16267.972117</td>\n",
       "    </tr>\n",
       "    <tr>\n",
       "      <th>2021-12-18</th>\n",
       "      <td>16166.844495</td>\n",
       "    </tr>\n",
       "    <tr>\n",
       "      <th>2021-12-19</th>\n",
       "      <td>16166.844495</td>\n",
       "    </tr>\n",
       "    <tr>\n",
       "      <th>2021-12-20</th>\n",
       "      <td>16170.010470</td>\n",
       "    </tr>\n",
       "    <tr>\n",
       "      <th>2021-12-21</th>\n",
       "      <td>16179.581935</td>\n",
       "    </tr>\n",
       "  </tbody>\n",
       "</table>\n",
       "</div>"
      ],
      "text/plain": [
       "                   value\n",
       "date                    \n",
       "2021-12-17  16267.972117\n",
       "2021-12-18  16166.844495\n",
       "2021-12-19  16166.844495\n",
       "2021-12-20  16170.010470\n",
       "2021-12-21  16179.581935"
      ]
     },
     "execution_count": 111,
     "metadata": {},
     "output_type": "execute_result"
    }
   ],
   "source": [
    "data_idr.index = data_idr['date']\n",
    "data_idr.drop(['date', 'Country/Currency', 'currency'], axis = 1, inplace = True)\n",
    "data_idr.head()\n"
   ]
  },
  {
   "cell_type": "markdown",
   "id": "d7c6cca7",
   "metadata": {
    "id": "d7c6cca7",
    "papermill": {
     "duration": 0.013842,
     "end_time": "2022-09-23T22:47:04.995887",
     "exception": false,
     "start_time": "2022-09-23T22:47:04.982045",
     "status": "completed"
    },
    "tags": []
   },
   "source": [
    "## 3.1 Check for Stationarity - ADF Test"
   ]
  },
  {
   "cell_type": "code",
   "execution_count": 112,
   "id": "67c45f0c",
   "metadata": {
    "colab": {
     "base_uri": "https://localhost:8080/"
    },
    "execution": {
     "iopub.execute_input": "2022-09-23T22:47:05.027261Z",
     "iopub.status.busy": "2022-09-23T22:47:05.026167Z",
     "iopub.status.idle": "2022-09-23T22:47:06.177279Z",
     "shell.execute_reply": "2022-09-23T22:47:06.175512Z"
    },
    "id": "67c45f0c",
    "outputId": "ad4d8f4e-65a3-4c39-f323-31af054b5702",
    "papermill": {
     "duration": 1.169977,
     "end_time": "2022-09-23T22:47:06.180372",
     "exception": false,
     "start_time": "2022-09-23T22:47:05.010395",
     "status": "completed"
    },
    "tags": []
   },
   "outputs": [
    {
     "name": "stdout",
     "output_type": "stream",
     "text": [
      "ADF Statistic: -1.7600932872706743\n",
      "p-value: 0.4004463985215097\n",
      "Critial Values:\n",
      "   1%, -3.450951662384033\n",
      "Critial Values:\n",
      "   5%, -2.8706147570800784\n",
      "Critial Values:\n",
      "   10%, -2.571604931640625\n"
     ]
    }
   ],
   "source": [
    "from statsmodels.tsa.stattools import adfuller\n",
    "\n",
    "result = adfuller(data_idr['value'].values, autolag='AIC')\n",
    "print(f'ADF Statistic: {result[0]}')\n",
    "print(f'p-value: {result[1]}')\n",
    "for key, value in result[4].items():\n",
    "    print('Critial Values:')\n",
    "    print(f'   {key}, {value}')"
   ]
  },
  {
   "cell_type": "markdown",
   "id": "2d3dc4e2",
   "metadata": {
    "id": "2d3dc4e2",
    "papermill": {
     "duration": 0.015002,
     "end_time": "2022-09-23T22:47:06.212716",
     "exception": false,
     "start_time": "2022-09-23T22:47:06.197714",
     "status": "completed"
    },
    "tags": []
   },
   "source": [
    "## Observation - \n",
    "\n",
    "    From ADF test, it's observed that, data is not stationary. \n",
    "    We can see p-value is more than 10% (usually it must be less than 0.05 or 5%), \n",
    "    and ADF-stat value is greater than all the critical values. \n",
    "    \n",
    "    Both these values confirms the data to be Non-Stationary"
   ]
  },
  {
   "cell_type": "markdown",
   "id": "97b8d92c",
   "metadata": {
    "id": "97b8d92c",
    "papermill": {
     "duration": 0.013947,
     "end_time": "2022-09-23T22:47:06.241193",
     "exception": false,
     "start_time": "2022-09-23T22:47:06.227246",
     "status": "completed"
    },
    "tags": []
   },
   "source": [
    "## 3.2 ACF and PACF Plot"
   ]
  },
  {
   "cell_type": "code",
   "execution_count": 113,
   "id": "97e72cf8",
   "metadata": {
    "colab": {
     "base_uri": "https://localhost:8080/",
     "height": 353
    },
    "execution": {
     "iopub.execute_input": "2022-09-23T22:47:06.271828Z",
     "iopub.status.busy": "2022-09-23T22:47:06.271323Z",
     "iopub.status.idle": "2022-09-23T22:47:06.574378Z",
     "shell.execute_reply": "2022-09-23T22:47:06.573203Z"
    },
    "id": "97e72cf8",
    "outputId": "5616cc9b-6b63-4209-9533-7f7b0837c007",
    "papermill": {
     "duration": 0.321785,
     "end_time": "2022-09-23T22:47:06.577290",
     "exception": false,
     "start_time": "2022-09-23T22:47:06.255505",
     "status": "completed"
    },
    "tags": []
   },
   "outputs": [
    {
     "name": "stdout",
     "output_type": "stream",
     "text": [
      "\n"
     ]
    },
    {
     "data": {
      "image/png": "[encoded data removed]",
      "text/plain": [
       "<Figure size 1000x500 with 1 Axes>"
      ]
     },
     "metadata": {},
     "output_type": "display_data"
    }
   ],
   "source": [
    "from statsmodels.graphics.tsaplots import plot_acf\n",
    "from statsmodels.graphics.tsaplots import plot_pacf\n",
    "import matplotlib.pyplot as plt\n",
    "\n",
    "plt.rc(\"figure\", figsize=(10,5))\n",
    "plot_acf(data_idr['value'])\n",
    "print()"
   ]
  },
  {
   "cell_type": "markdown",
   "id": "c1f79e49",
   "metadata": {
    "id": "c1f79e49",
    "papermill": {
     "duration": 0.014306,
     "end_time": "2022-09-23T22:47:06.606470",
     "exception": false,
     "start_time": "2022-09-23T22:47:06.592164",
     "status": "completed"
    },
    "tags": []
   },
   "source": [
    "## Observation - \n",
    "\n",
    "    From ACF, we can observe a auto-correlation upto 25 lag values"
   ]
  },
  {
   "cell_type": "code",
   "execution_count": 114,
   "id": "0406fef5",
   "metadata": {
    "colab": {
     "base_uri": "https://localhost:8080/",
     "height": 353
    },
    "execution": {
     "iopub.execute_input": "2022-09-23T22:47:06.637732Z",
     "iopub.status.busy": "2022-09-23T22:47:06.636900Z",
     "iopub.status.idle": "2022-09-23T22:47:06.911062Z",
     "shell.execute_reply": "2022-09-23T22:47:06.909846Z"
    },
    "id": "0406fef5",
    "outputId": "15523eb6-9888-4515-9a85-70ba9e22d96d",
    "papermill": {
     "duration": 0.292606,
     "end_time": "2022-09-23T22:47:06.913555",
     "exception": false,
     "start_time": "2022-09-23T22:47:06.620949",
     "status": "completed"
    },
    "tags": []
   },
   "outputs": [
    {
     "name": "stdout",
     "output_type": "stream",
     "text": [
      "\n"
     ]
    },
    {
     "name": "stderr",
     "output_type": "stream",
     "text": [
      "c:\\Users\\Srinivas\\AppData\\Local\\Programs\\Python\\Python39\\lib\\site-packages\\statsmodels\\graphics\\tsaplots.py:348: FutureWarning: The default method 'yw' can produce PACF values outside of the [-1,1] interval. After 0.13, the default will change tounadjusted Yule-Walker ('ywm'). You can use this method now by setting method='ywm'.\n",
      "  warnings.warn(\n"
     ]
    },
    {
     "data": {
      "image/png": "[encoded data removed]",
      "text/plain": [
       "<Figure size 1000x500 with 1 Axes>"
      ]
     },
     "metadata": {},
     "output_type": "display_data"
    }
   ],
   "source": [
    "plt.rc(\"figure\", figsize=(10,5))\n",
    "plot_pacf(data_idr['value'])\n",
    "print()"
   ]
  },
  {
   "cell_type": "markdown",
   "id": "6b188f3a",
   "metadata": {
    "id": "6b188f3a",
    "papermill": {
     "duration": 0.015301,
     "end_time": "2022-09-23T22:47:06.945102",
     "exception": false,
     "start_time": "2022-09-23T22:47:06.929801",
     "status": "completed"
    },
    "tags": []
   },
   "source": [
    "## Observation - \n",
    "\n",
    "    Partial auto-correlation shows only few lag values are actually correlated. "
   ]
  },
  {
   "cell_type": "markdown",
   "id": "9a762341",
   "metadata": {
    "id": "9a762341",
    "papermill": {
     "duration": 0.01505,
     "end_time": "2022-09-23T22:47:06.976088",
     "exception": false,
     "start_time": "2022-09-23T22:47:06.961038",
     "status": "completed"
    },
    "tags": []
   },
   "source": [
    "# 4. Price forecasting"
   ]
  },
  {
   "cell_type": "markdown",
   "id": "b7e87074",
   "metadata": {
    "id": "b7e87074",
    "papermill": {
     "duration": 0.014698,
     "end_time": "2022-09-23T22:47:07.005980",
     "exception": false,
     "start_time": "2022-09-23T22:47:06.991282",
     "status": "completed"
    },
    "tags": []
   },
   "source": [
    "## 4.1 Train - Test Split"
   ]
  },
  {
   "cell_type": "code",
   "execution_count": 115,
   "id": "f9b251c6",
   "metadata": {
    "colab": {
     "base_uri": "https://localhost:8080/"
    },
    "execution": {
     "iopub.execute_input": "2022-09-23T22:47:07.040365Z",
     "iopub.status.busy": "2022-09-23T22:47:07.038923Z",
     "iopub.status.idle": "2022-09-23T22:47:07.047109Z",
     "shell.execute_reply": "2022-09-23T22:47:07.045286Z"
    },
    "id": "f9b251c6",
    "outputId": "b9beca9a-f5b1-48a2-fc3a-5e1143b98031",
    "papermill": {
     "duration": 0.028042,
     "end_time": "2022-09-23T22:47:07.049739",
     "exception": false,
     "start_time": "2022-09-23T22:47:07.021697",
     "status": "completed"
    },
    "tags": []
   },
   "outputs": [
    {
     "name": "stdout",
     "output_type": "stream",
     "text": [
      "Shape of data:  (321,)\n"
     ]
    }
   ],
   "source": [
    "data = data_idr['value'].values\n",
    "print('Shape of data: ', data.shape)"
   ]
  },
  {
   "cell_type": "markdown",
   "id": "8a11f4de",
   "metadata": {
    "id": "8a11f4de",
    "papermill": {
     "duration": 0.015086,
     "end_time": "2022-09-23T22:47:07.080034",
     "exception": false,
     "start_time": "2022-09-23T22:47:07.064948",
     "status": "completed"
    },
    "tags": []
   },
   "source": [
    "## Obs - \n",
    "\n",
    "    Very few data points are available, so we will go for either ARIMA or LSTM with fewer nodes. "
   ]
  },
  {
   "cell_type": "code",
   "execution_count": 116,
   "id": "8c1449d8",
   "metadata": {
    "colab": {
     "base_uri": "https://localhost:8080/"
    },
    "execution": {
     "iopub.execute_input": "2022-09-23T22:47:07.114182Z",
     "iopub.status.busy": "2022-09-23T22:47:07.113782Z",
     "iopub.status.idle": "2022-09-23T22:47:07.120623Z",
     "shell.execute_reply": "2022-09-23T22:47:07.119240Z"
    },
    "id": "8c1449d8",
    "outputId": "f020955a-27f5-43e8-ea25-772802614c36",
    "papermill": {
     "duration": 0.02767,
     "end_time": "2022-09-23T22:47:07.124258",
     "exception": false,
     "start_time": "2022-09-23T22:47:07.096588",
     "status": "completed"
    },
    "tags": []
   },
   "outputs": [
    {
     "name": "stdout",
     "output_type": "stream",
     "text": [
      "Train length:  224\n",
      "Shape of Train and Test data:  224 97\n"
     ]
    }
   ],
   "source": [
    "# Separate train and test data\n",
    "train_length = int(len(data) * 0.7)\n",
    "print('Train length: ', train_length)\n",
    "\n",
    "train_data, test_data = data[:train_length], data[train_length:]\n",
    "print('Shape of Train and Test data: ', len(train_data), len(test_data))"
   ]
  },
  {
   "cell_type": "markdown",
   "id": "03a3dc50",
   "metadata": {
    "id": "03a3dc50",
    "papermill": {
     "duration": 0.014551,
     "end_time": "2022-09-23T22:47:07.155127",
     "exception": false,
     "start_time": "2022-09-23T22:47:07.140576",
     "status": "completed"
    },
    "tags": []
   },
   "source": [
    "## 4.2 Make time-series data supervised"
   ]
  },
  {
   "cell_type": "code",
   "execution_count": 117,
   "id": "b0769d46",
   "metadata": {
    "execution": {
     "iopub.execute_input": "2022-09-23T22:47:07.187785Z",
     "iopub.status.busy": "2022-09-23T22:47:07.187015Z",
     "iopub.status.idle": "2022-09-23T22:47:07.195801Z",
     "shell.execute_reply": "2022-09-23T22:47:07.193233Z"
    },
    "id": "b0769d46",
    "papermill": {
     "duration": 0.029417,
     "end_time": "2022-09-23T22:47:07.199610",
     "exception": false,
     "start_time": "2022-09-23T22:47:07.170193",
     "status": "completed"
    },
    "tags": []
   },
   "outputs": [],
   "source": [
    "# split a univariate sequence into supervised learning [Input and Output]\n",
    "from numpy import array\n",
    "def split_sequence(sequence, n_steps):\n",
    "    X, y = list(), list()\n",
    "    for i in range(len(sequence)):\n",
    "        end_ix = i + n_steps\n",
    "        if end_ix > len(sequence)-1:\n",
    "            break\n",
    "        seq_x, seq_y = sequence[i:end_ix], sequence[end_ix]\n",
    "        X.append(seq_x)\n",
    "        y.append(seq_y)\n",
    "    return array(X), array(y)"
   ]
  },
  {
   "cell_type": "markdown",
   "id": "90147eee",
   "metadata": {
    "id": "90147eee",
    "papermill": {
     "duration": 0.019595,
     "end_time": "2022-09-23T22:47:07.238557",
     "exception": false,
     "start_time": "2022-09-23T22:47:07.218962",
     "status": "completed"
    },
    "tags": []
   },
   "source": [
    "## 4.3 Choose Lag value"
   ]
  },
  {
   "cell_type": "code",
   "execution_count": 118,
   "id": "760f02dc",
   "metadata": {
    "execution": {
     "iopub.execute_input": "2022-09-23T22:47:07.278556Z",
     "iopub.status.busy": "2022-09-23T22:47:07.277797Z",
     "iopub.status.idle": "2022-09-23T22:47:07.282949Z",
     "shell.execute_reply": "2022-09-23T22:47:07.281973Z"
    },
    "id": "760f02dc",
    "papermill": {
     "duration": 0.026825,
     "end_time": "2022-09-23T22:47:07.285222",
     "exception": false,
     "start_time": "2022-09-23T22:47:07.258397",
     "status": "completed"
    },
    "tags": []
   },
   "outputs": [],
   "source": [
    "lag = 3  # Empirically we have choosen\n",
    "n_features = 1"
   ]
  },
  {
   "cell_type": "code",
   "execution_count": 119,
   "id": "90424d57",
   "metadata": {
    "execution": {
     "iopub.execute_input": "2022-09-23T22:47:07.325425Z",
     "iopub.status.busy": "2022-09-23T22:47:07.325018Z",
     "iopub.status.idle": "2022-09-23T22:47:07.331235Z",
     "shell.execute_reply": "2022-09-23T22:47:07.330241Z"
    },
    "id": "90424d57",
    "papermill": {
     "duration": 0.026938,
     "end_time": "2022-09-23T22:47:07.333714",
     "exception": false,
     "start_time": "2022-09-23T22:47:07.306776",
     "status": "completed"
    },
    "tags": []
   },
   "outputs": [],
   "source": [
    "train_X, train_y = split_sequence(train_data, lag)\n",
    "test_X, test_y = split_sequence(test_data, lag)"
   ]
  },
  {
   "cell_type": "code",
   "execution_count": 120,
   "id": "0a60c3fc",
   "metadata": {
    "colab": {
     "base_uri": "https://localhost:8080/"
    },
    "execution": {
     "iopub.execute_input": "2022-09-23T22:47:07.368102Z",
     "iopub.status.busy": "2022-09-23T22:47:07.367015Z",
     "iopub.status.idle": "2022-09-23T22:47:07.374122Z",
     "shell.execute_reply": "2022-09-23T22:47:07.372477Z"
    },
    "id": "0a60c3fc",
    "outputId": "6ae2f863-b786-4260-d6fe-e84681edb912",
    "papermill": {
     "duration": 0.027393,
     "end_time": "2022-09-23T22:47:07.376896",
     "exception": false,
     "start_time": "2022-09-23T22:47:07.349503",
     "status": "completed"
    },
    "tags": []
   },
   "outputs": [
    {
     "name": "stdout",
     "output_type": "stream",
     "text": [
      "Shape of train_X and train_y:  (221, 3) (221,)\n",
      "Shape of test_X and test_y:  (94, 3) (94,)\n"
     ]
    }
   ],
   "source": [
    "print('Shape of train_X and train_y: ', train_X.shape, train_y.shape)\n",
    "print('Shape of test_X and test_y: ', test_X.shape, test_y.shape)"
   ]
  },
  {
   "cell_type": "code",
   "execution_count": 121,
   "id": "11b7a456",
   "metadata": {
    "execution": {
     "iopub.execute_input": "2022-09-23T22:47:07.410820Z",
     "iopub.status.busy": "2022-09-23T22:47:07.409674Z",
     "iopub.status.idle": "2022-09-23T22:47:07.416275Z",
     "shell.execute_reply": "2022-09-23T22:47:07.415302Z"
    },
    "id": "11b7a456",
    "papermill": {
     "duration": 0.026035,
     "end_time": "2022-09-23T22:47:07.418721",
     "exception": false,
     "start_time": "2022-09-23T22:47:07.392686",
     "status": "completed"
    },
    "tags": []
   },
   "outputs": [],
   "source": [
    "train_X = train_X.reshape((train_X.shape[0], train_X.shape[1], n_features))\n",
    "test_X = test_X.reshape((test_X.shape[0], test_X.shape[1], n_features))"
   ]
  },
  {
   "cell_type": "code",
   "execution_count": 122,
   "id": "2a8987fb",
   "metadata": {
    "colab": {
     "base_uri": "https://localhost:8080/"
    },
    "execution": {
     "iopub.execute_input": "2022-09-23T22:47:07.451610Z",
     "iopub.status.busy": "2022-09-23T22:47:07.450853Z",
     "iopub.status.idle": "2022-09-23T22:47:07.456866Z",
     "shell.execute_reply": "2022-09-23T22:47:07.455963Z"
    },
    "id": "2a8987fb",
    "outputId": "120ef4de-9393-475c-9f5c-280b9a279e37",
    "papermill": {
     "duration": 0.026491,
     "end_time": "2022-09-23T22:47:07.460493",
     "exception": false,
     "start_time": "2022-09-23T22:47:07.434002",
     "status": "completed"
    },
    "tags": []
   },
   "outputs": [
    {
     "name": "stdout",
     "output_type": "stream",
     "text": [
      "Shape of train_X and train_y:  (221, 3, 1) (221,)\n",
      "Shape of test_X and test_y:  (94, 3, 1) (94,)\n"
     ]
    }
   ],
   "source": [
    "# New shape of train_X and test_X are :-\n",
    "print('Shape of train_X and train_y: ', train_X.shape, train_y.shape)\n",
    "print('Shape of test_X and test_y: ', test_X.shape, test_y.shape)\n"
   ]
  },
  {
   "cell_type": "markdown",
   "id": "78aefefa",
   "metadata": {
    "id": "78aefefa",
    "papermill": {
     "duration": 0.015087,
     "end_time": "2022-09-23T22:47:07.492040",
     "exception": false,
     "start_time": "2022-09-23T22:47:07.476953",
     "status": "completed"
    },
    "tags": []
   },
   "source": [
    "## 4.4 Define Model"
   ]
  },
  {
   "cell_type": "code",
   "execution_count": 123,
   "id": "819fc09a",
   "metadata": {
    "execution": {
     "iopub.execute_input": "2022-09-23T22:47:07.525578Z",
     "iopub.status.busy": "2022-09-23T22:47:07.524380Z",
     "iopub.status.idle": "2022-09-23T22:47:13.649200Z",
     "shell.execute_reply": "2022-09-23T22:47:13.647905Z"
    },
    "id": "819fc09a",
    "papermill": {
     "duration": 6.144305,
     "end_time": "2022-09-23T22:47:13.651780",
     "exception": false,
     "start_time": "2022-09-23T22:47:07.507475",
     "status": "completed"
    },
    "tags": []
   },
   "outputs": [],
   "source": [
    "from keras.models import Sequential\n",
    "from keras.layers import LSTM\n",
    "from keras.layers import Dense"
   ]
  },
  {
   "cell_type": "code",
   "execution_count": 124,
   "id": "17d57a82",
   "metadata": {
    "colab": {
     "base_uri": "https://localhost:8080/"
    },
    "execution": {
     "iopub.execute_input": "2022-09-23T22:47:13.686165Z",
     "iopub.status.busy": "2022-09-23T22:47:13.685379Z",
     "iopub.status.idle": "2022-09-23T22:47:13.943914Z",
     "shell.execute_reply": "2022-09-23T22:47:13.942674Z"
    },
    "id": "17d57a82",
    "outputId": "3f355ce1-f633-4784-a801-394c820db421",
    "papermill": {
     "duration": 0.27924,
     "end_time": "2022-09-23T22:47:13.947202",
     "exception": false,
     "start_time": "2022-09-23T22:47:13.667962",
     "status": "completed"
    },
    "tags": []
   },
   "outputs": [
    {
     "name": "stdout",
     "output_type": "stream",
     "text": [
      "Model: \"sequential_3\"\n",
      "_________________________________________________________________\n",
      " Layer (type)                Output Shape              Param #   \n",
      "=================================================================\n",
      " lstm_3 (LSTM)               (None, 16)                1152      \n",
      "                                                                 \n",
      " dense_3 (Dense)             (None, 1)                 17        \n",
      "                                                                 \n",
      "=================================================================\n",
      "Total params: 1,169\n",
      "Trainable params: 1,169\n",
      "Non-trainable params: 0\n",
      "_________________________________________________________________\n"
     ]
    }
   ],
   "source": [
    "# define model\n",
    "model = Sequential()\n",
    "model.add(LSTM(16, activation='relu', return_sequences=False, input_shape=(lag, n_features)))\n",
    "model.add(Dense(1))\n",
    "model.compile(optimizer='adam', loss='mse')\n",
    "model.summary()"
   ]
  },
  {
   "cell_type": "markdown",
   "id": "a768be7f",
   "metadata": {
    "id": "a768be7f",
    "papermill": {
     "duration": 0.014905,
     "end_time": "2022-09-23T22:47:13.977262",
     "exception": false,
     "start_time": "2022-09-23T22:47:13.962357",
     "status": "completed"
    },
    "tags": []
   },
   "source": [
    "## 4.5 Fit the model - with training data"
   ]
  },
  {
   "cell_type": "code",
   "execution_count": 125,
   "id": "38600237",
   "metadata": {
    "_kg_hide-input": true,
    "execution": {
     "iopub.execute_input": "2022-09-23T22:47:14.010242Z",
     "iopub.status.busy": "2022-09-23T22:47:14.009111Z",
     "iopub.status.idle": "2022-09-23T22:47:14.014681Z",
     "shell.execute_reply": "2022-09-23T22:47:14.013873Z"
    },
    "id": "38600237",
    "papermill": {
     "duration": 0.024222,
     "end_time": "2022-09-23T22:47:14.016761",
     "exception": false,
     "start_time": "2022-09-23T22:47:13.992539",
     "status": "completed"
    },
    "tags": []
   },
   "outputs": [],
   "source": [
    "# As you are trying to use function decorator in TF 2.0, \n",
    "# please enable run function eagerly by using below line after importing TensorFlow:\n",
    "import tensorflow as tf\n",
    "tf.config.run_functions_eagerly(True)"
   ]
  },
  {
   "cell_type": "code",
   "execution_count": 126,
   "id": "9307cadd",
   "metadata": {
    "_kg_hide-output": true,
    "colab": {
     "base_uri": "https://localhost:8080/"
    },
    "execution": {
     "iopub.execute_input": "2022-09-23T22:47:14.050655Z",
     "iopub.status.busy": "2022-09-23T22:47:14.049988Z",
     "iopub.status.idle": "2022-09-23T22:47:27.953993Z",
     "shell.execute_reply": "2022-09-23T22:47:27.952507Z"
    },
    "id": "9307cadd",
    "outputId": "917647b7-7938-4428-ca28-647f635d4ecf",
    "papermill": {
     "duration": 13.924079,
     "end_time": "2022-09-23T22:47:27.956918",
     "exception": false,
     "start_time": "2022-09-23T22:47:14.032839",
     "status": "completed"
    },
    "tags": []
   },
   "outputs": [
    {
     "name": "stdout",
     "output_type": "stream",
     "text": [
      "Epoch 1/25\n",
      " 3/25 [==>...........................] - ETA: 0s - loss: 239136752.0000"
     ]
    },
    {
     "name": "stderr",
     "output_type": "stream",
     "text": [
      "c:\\Users\\Srinivas\\AppData\\Local\\Programs\\Python\\Python39\\lib\\site-packages\\tensorflow\\python\\data\\ops\\structured_function.py:264: UserWarning: Even though the `tf.config.experimental_run_functions_eagerly` option is set, this option does not apply to tf.data functions. To force eager execution of tf.data functions, please use `tf.data.experimental.enable_debug_mode()`.\n",
      "  warnings.warn(\n"
     ]
    },
    {
     "name": "stdout",
     "output_type": "stream",
     "text": [
      "25/25 [==============================] - 1s 33ms/step - loss: 236476288.0000 - val_loss: 217156656.0000\n",
      "Epoch 2/25\n",
      "25/25 [==============================] - 1s 24ms/step - loss: 231515952.0000 - val_loss: 212074336.0000\n",
      "Epoch 3/25\n",
      "25/25 [==============================] - 1s 24ms/step - loss: 225497168.0000 - val_loss: 205879792.0000\n",
      "Epoch 4/25\n",
      "25/25 [==============================] - 1s 24ms/step - loss: 218167104.0000 - val_loss: 198388384.0000\n",
      "Epoch 5/25\n",
      "25/25 [==============================] - 1s 23ms/step - loss: 209349296.0000 - val_loss: 189368384.0000\n",
      "Epoch 6/25\n",
      "25/25 [==============================] - 1s 24ms/step - loss: 198794768.0000 - val_loss: 178698016.0000\n",
      "Epoch 7/25\n",
      "25/25 [==============================] - 1s 23ms/step - loss: 186387472.0000 - val_loss: 166186768.0000\n",
      "Epoch 8/25\n",
      "25/25 [==============================] - 1s 24ms/step - loss: 171978560.0000 - val_loss: 151815984.0000\n",
      "Epoch 9/25\n",
      "25/25 [==============================] - 1s 24ms/step - loss: 155584528.0000 - val_loss: 135660224.0000\n",
      "Epoch 10/25\n",
      "25/25 [==============================] - 1s 23ms/step - loss: 137355072.0000 - val_loss: 117951976.0000\n",
      "Epoch 11/25\n",
      "25/25 [==============================] - 1s 24ms/step - loss: 117664936.0000 - val_loss: 99129464.0000\n",
      "Epoch 12/25\n",
      "25/25 [==============================] - 1s 23ms/step - loss: 97120016.0000 - val_loss: 79891528.0000\n",
      "Epoch 13/25\n",
      "25/25 [==============================] - 1s 24ms/step - loss: 76597944.0000 - val_loss: 61171072.0000\n",
      "Epoch 14/25\n",
      "25/25 [==============================] - 1s 24ms/step - loss: 57106680.0000 - val_loss: 44045928.0000\n",
      "Epoch 15/25\n",
      "25/25 [==============================] - 1s 24ms/step - loss: 39827868.0000 - val_loss: 29348478.0000\n",
      "Epoch 16/25\n",
      "25/25 [==============================] - 1s 24ms/step - loss: 25586704.0000 - val_loss: 17899444.0000\n",
      "Epoch 17/25\n",
      "25/25 [==============================] - 1s 23ms/step - loss: 14975132.0000 - val_loss: 9836645.0000\n",
      "Epoch 18/25\n",
      "25/25 [==============================] - 1s 24ms/step - loss: 7882900.5000 - val_loss: 4815929.5000\n",
      "Epoch 19/25\n",
      "25/25 [==============================] - 1s 23ms/step - loss: 3699617.5000 - val_loss: 2091569.7500\n",
      "Epoch 20/25\n",
      "25/25 [==============================] - 1s 23ms/step - loss: 1547153.0000 - val_loss: 806198.5000\n",
      "Epoch 21/25\n",
      "25/25 [==============================] - 1s 24ms/step - loss: 579453.6250 - val_loss: 278249.6562\n",
      "Epoch 22/25\n",
      "25/25 [==============================] - 1s 24ms/step - loss: 198549.1719 - val_loss: 88589.5859\n",
      "Epoch 23/25\n",
      "25/25 [==============================] - 1s 24ms/step - loss: 64066.4648 - val_loss: 28941.4785\n",
      "Epoch 24/25\n",
      "25/25 [==============================] - 1s 24ms/step - loss: 22059.1719 - val_loss: 12351.4404\n",
      "Epoch 25/25\n",
      "25/25 [==============================] - 1s 24ms/step - loss: 9319.4346 - val_loss: 8834.3096\n"
     ]
    }
   ],
   "source": [
    "# fit model\n",
    "history = model.fit(train_X, train_y, epochs = 25, batch_size=8, verbose=1, validation_split= 0.1)"
   ]
  },
  {
   "cell_type": "markdown",
   "id": "4368f207",
   "metadata": {
    "id": "4368f207",
    "papermill": {
     "duration": 0.032655,
     "end_time": "2022-09-23T22:47:28.022002",
     "exception": false,
     "start_time": "2022-09-23T22:47:27.989347",
     "status": "completed"
    },
    "tags": []
   },
   "source": [
    "## 4.6 Summarize model Loss"
   ]
  },
  {
   "cell_type": "code",
   "execution_count": 127,
   "id": "a132a89c",
   "metadata": {
    "colab": {
     "base_uri": "https://localhost:8080/",
     "height": 350
    },
    "execution": {
     "iopub.execute_input": "2022-09-23T22:47:28.089629Z",
     "iopub.status.busy": "2022-09-23T22:47:28.088404Z",
     "iopub.status.idle": "2022-09-23T22:47:28.319418Z",
     "shell.execute_reply": "2022-09-23T22:47:28.318058Z"
    },
    "id": "a132a89c",
    "outputId": "cee397e6-e1e0-4bb0-9a3c-15b8391c4d30",
    "papermill": {
     "duration": 0.267092,
     "end_time": "2022-09-23T22:47:28.322007",
     "exception": false,
     "start_time": "2022-09-23T22:47:28.054915",
     "status": "completed"
    },
    "tags": []
   },
   "outputs": [
    {
     "data": {
      "image/png": "[encoded data removed]",
      "text/plain": [
       "<Figure size 1000x500 with 1 Axes>"
      ]
     },
     "metadata": {},
     "output_type": "display_data"
    }
   ],
   "source": [
    "# summarize history for loss\n",
    "plt.plot(history.history['loss'])\n",
    "plt.plot(history.history['val_loss'])\n",
    "plt.title('model loss')\n",
    "plt.ylabel('loss')\n",
    "plt.xlabel('epoch')\n",
    "plt.legend(['train', 'test'], loc='upper left')\n",
    "plt.show()"
   ]
  },
  {
   "cell_type": "markdown",
   "id": "fa2c04cc",
   "metadata": {
    "id": "fa2c04cc",
    "papermill": {
     "duration": 0.031282,
     "end_time": "2022-09-23T22:47:28.449787",
     "exception": false,
     "start_time": "2022-09-23T22:47:28.418505",
     "status": "completed"
    },
    "tags": []
   },
   "source": [
    "## 4.7 Make prediction - with Test data"
   ]
  },
  {
   "cell_type": "code",
   "execution_count": 128,
   "id": "749b072e",
   "metadata": {
    "colab": {
     "base_uri": "https://localhost:8080/"
    },
    "execution": {
     "iopub.execute_input": "2022-09-23T22:47:28.514960Z",
     "iopub.status.busy": "2022-09-23T22:47:28.514556Z",
     "iopub.status.idle": "2022-09-23T22:47:28.700924Z",
     "shell.execute_reply": "2022-09-23T22:47:28.699840Z"
    },
    "id": "749b072e",
    "outputId": "be419c2f-cc6c-4fed-c8fe-2abd533924eb",
    "papermill": {
     "duration": 0.221877,
     "end_time": "2022-09-23T22:47:28.703493",
     "exception": false,
     "start_time": "2022-09-23T22:47:28.481616",
     "status": "completed"
    },
    "tags": []
   },
   "outputs": [
    {
     "name": "stdout",
     "output_type": "stream",
     "text": [
      "7/7 [==============================] - 0s 9ms/step\n",
      "3/3 [==============================] - 0s 9ms/step\n",
      "Shape of train and test predict:  (221, 1) (94, 1)\n"
     ]
    }
   ],
   "source": [
    "train_predict = model.predict(train_X)\n",
    "test_predict = model.predict(test_X)\n",
    "\n",
    "print('Shape of train and test predict: ', train_predict.shape, test_predict.shape)"
   ]
  },
  {
   "cell_type": "markdown",
   "id": "c4b18896",
   "metadata": {
    "id": "c4b18896",
    "papermill": {
     "duration": 0.032149,
     "end_time": "2022-09-23T22:47:28.767344",
     "exception": false,
     "start_time": "2022-09-23T22:47:28.735195",
     "status": "completed"
    },
    "tags": []
   },
   "source": [
    "## 4.8 Model evaluation"
   ]
  },
  {
   "cell_type": "code",
   "execution_count": 129,
   "id": "098f0a74",
   "metadata": {
    "colab": {
     "base_uri": "https://localhost:8080/"
    },
    "execution": {
     "iopub.execute_input": "2022-09-23T22:47:28.836301Z",
     "iopub.status.busy": "2022-09-23T22:47:28.835299Z",
     "iopub.status.idle": "2022-09-23T22:47:29.051197Z",
     "shell.execute_reply": "2022-09-23T22:47:29.049921Z"
    },
    "id": "098f0a74",
    "outputId": "0d1e4b65-50f4-448b-acc2-7df7a66be260",
    "papermill": {
     "duration": 0.253183,
     "end_time": "2022-09-23T22:47:29.053799",
     "exception": false,
     "start_time": "2022-09-23T22:47:28.800616",
     "status": "completed"
    },
    "tags": []
   },
   "outputs": [
    {
     "name": "stdout",
     "output_type": "stream",
     "text": [
      "Train and Test RMSE:  84.92398910355854 100.75917106773305\n"
     ]
    }
   ],
   "source": [
    "# root mean squared error or rmse\n",
    "import math\n",
    "from sklearn.metrics import mean_squared_error\n",
    "\n",
    "def measure_rmse(actual, predicted):\n",
    "    return math.sqrt(mean_squared_error(actual, predicted))\n",
    "\n",
    "train_score = measure_rmse(train_y, train_predict)\n",
    "test_score = measure_rmse(test_y, test_predict)\n",
    "\n",
    "print('Train and Test RMSE: ', train_score, test_score)"
   ]
  },
  {
   "cell_type": "markdown",
   "id": "a6b591cf",
   "metadata": {
    "id": "a6b591cf",
    "papermill": {
     "duration": 0.03281,
     "end_time": "2022-09-23T22:47:29.119741",
     "exception": false,
     "start_time": "2022-09-23T22:47:29.086931",
     "status": "completed"
    },
    "tags": []
   },
   "source": [
    "## 4.9 Plot test data and Predicted data"
   ]
  },
  {
   "cell_type": "code",
   "execution_count": 130,
   "id": "00fadbe5",
   "metadata": {
    "colab": {
     "base_uri": "https://localhost:8080/",
     "height": 528
    },
    "execution": {
     "iopub.execute_input": "2022-09-23T22:47:29.187301Z",
     "iopub.status.busy": "2022-09-23T22:47:29.186909Z",
     "iopub.status.idle": "2022-09-23T22:47:29.492724Z",
     "shell.execute_reply": "2022-09-23T22:47:29.491418Z"
    },
    "id": "00fadbe5",
    "outputId": "dafd7ec5-a15c-4a67-e2a9-33df71c6050e",
    "papermill": {
     "duration": 0.342737,
     "end_time": "2022-09-23T22:47:29.495240",
     "exception": false,
     "start_time": "2022-09-23T22:47:29.152503",
     "status": "completed"
    },
    "tags": []
   },
   "outputs": [
    {
     "data": {
      "image/png": "[encoded data removed]",
      "text/plain": [
       "<Figure size 1400x800 with 1 Axes>"
      ]
     },
     "metadata": {},
     "output_type": "display_data"
    }
   ],
   "source": [
    "plt.rc(\"figure\", figsize=(14,8))\n",
    "plt.rcParams.update({'font.size': 16})\n",
    "plt.plot(test_y, label = 'Actual')\n",
    "plt.plot(test_predict, label = 'Predicted')\n",
    "plt.xlabel('Time [in days]')\n",
    "plt.ylabel('IDR price')\n",
    "plt.title('Currency price (IDR) prediction using LSTM - Test data')\n",
    "plt.legend()\n",
    "plt.show()"
   ]
  }
 ],
 "metadata": {
  "colab": {
   "provenance": []
  },
  "kernelspec": {
   "display_name": "Python 3 (ipykernel)",
   "language": "python",
   "name": "python3"
  },
  "language_info": {
   "codemirror_mode": {
    "name": "ipython",
    "version": 3
   },
   "file_extension": ".py",
   "mimetype": "text/x-python",
   "name": "python",
   "nbconvert_exporter": "python",
   "pygments_lexer": "ipython3",
   "version": "3.9.12"
  },
  "papermill": {
   "default_parameters": {},
   "duration": 38.239406,
   "end_time": "2022-09-23T22:47:33.061572",
   "environment_variables": {},
   "exception": null,
   "input_path": "__notebook__.ipynb",
   "output_path": "__notebook__.ipynb",
   "parameters": {},
   "start_time": "2022-09-23T22:46:54.822166",
   "version": "2.3.4"
  },
  "vscode": {
   "interpreter": {
    "hash": "8ae516d0ed06d26c985dd46d5b2c33d6aac542d7928f038c598c75b8acdeed10"
   }
  }
 },
 "nbformat": 4,
 "nbformat_minor": 5
}
