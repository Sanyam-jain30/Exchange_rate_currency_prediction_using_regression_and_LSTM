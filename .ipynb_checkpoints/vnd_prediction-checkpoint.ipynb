{
 "cells": [
  {
   "cell_type": "code",
   "execution_count": 232,
   "id": "ca36a273",
   "metadata": {
    "_cell_guid": "b1076dfc-b9ad-4769-8c92-a6c4dae69d19",
    "_uuid": "8f2839f25d086af736a60e9eeb907d3b93b6e0e5",
    "execution": {
     "iopub.execute_input": "2022-09-23T22:47:04.008961Z",
     "iopub.status.busy": "2022-09-23T22:47:04.008088Z",
     "iopub.status.idle": "2022-09-23T22:47:04.026285Z",
     "shell.execute_reply": "2022-09-23T22:47:04.025445Z"
    },
    "id": "ca36a273",
    "papermill": {
     "duration": 0.039853,
     "end_time": "2022-09-23T22:47:04.029684",
     "exception": false,
     "start_time": "2022-09-23T22:47:03.989831",
     "status": "completed"
    },
    "tags": []
   },
   "outputs": [],
   "source": [
    "import numpy as np # linear algebra\n",
    "import pandas as pd # data processing, CSV file I/O (e.g. pd.read_csv)\n",
    "import os\n",
    "\n",
    "file_path = 'exchange_rates.csv'"
   ]
  },
  {
   "cell_type": "markdown",
   "id": "d4d15033",
   "metadata": {
    "id": "d4d15033",
    "papermill": {
     "duration": 0.014011,
     "end_time": "2022-09-23T22:47:04.058200",
     "exception": false,
     "start_time": "2022-09-23T22:47:04.044189",
     "status": "completed"
    },
    "tags": []
   },
   "source": [
    "# 1. Load data"
   ]
  },
  {
   "cell_type": "code",
   "execution_count": 233,
   "id": "c17b6bb7",
   "metadata": {
    "colab": {
     "base_uri": "https://localhost:8080/",
     "height": 206
    },
    "execution": {
     "iopub.execute_input": "2022-09-23T22:47:04.084558Z",
     "iopub.status.busy": "2022-09-23T22:47:04.084075Z",
     "iopub.status.idle": "2022-09-23T22:47:04.209477Z",
     "shell.execute_reply": "2022-09-23T22:47:04.208522Z"
    },
    "id": "c17b6bb7",
    "outputId": "b14d9c34-12dd-4d24-afa4-9c43beac10f2",
    "papermill": {
     "duration": 0.141524,
     "end_time": "2022-09-23T22:47:04.211982",
     "exception": false,
     "start_time": "2022-09-23T22:47:04.070458",
     "status": "completed"
    },
    "tags": []
   },
   "outputs": [
    {
     "name": "stderr",
     "output_type": "stream",
     "text": [
      "C:\\Users\\Srinivas\\AppData\\Local\\Temp\\ipykernel_22248\\1094338463.py:1: UserWarning: Parsing dates in DD/MM/YYYY format when dayfirst=False (the default) was specified. This may lead to inconsistently parsed dates! Specify a format to ensure consistent parsing.\n",
      "  dataset = pd.read_csv(file_path, parse_dates=['date'], index_col = 0)\n"
     ]
    },
    {
     "data": {
      "text/html": [
       "<div>\n",
       "<style scoped>\n",
       "    .dataframe tbody tr th:only-of-type {\n",
       "        vertical-align: middle;\n",
       "    }\n",
       "\n",
       "    .dataframe tbody tr th {\n",
       "        vertical-align: top;\n",
       "    }\n",
       "\n",
       "    .dataframe thead th {\n",
       "        text-align: right;\n",
       "    }\n",
       "</style>\n",
       "<table border=\"1\" class=\"dataframe\">\n",
       "  <thead>\n",
       "    <tr style=\"text-align: right;\">\n",
       "      <th></th>\n",
       "      <th>Country/Currency</th>\n",
       "      <th>currency</th>\n",
       "      <th>value</th>\n",
       "      <th>date</th>\n",
       "    </tr>\n",
       "  </thead>\n",
       "  <tbody>\n",
       "    <tr>\n",
       "      <th>0</th>\n",
       "      <td>Australia Dollar</td>\n",
       "      <td>AUD</td>\n",
       "      <td>1.581627</td>\n",
       "      <td>2021-12-17</td>\n",
       "    </tr>\n",
       "    <tr>\n",
       "      <th>1</th>\n",
       "      <td>Great Britain Pound</td>\n",
       "      <td>GBP</td>\n",
       "      <td>0.851619</td>\n",
       "      <td>2021-12-17</td>\n",
       "    </tr>\n",
       "    <tr>\n",
       "      <th>2</th>\n",
       "      <td>Euro</td>\n",
       "      <td>EUR</td>\n",
       "      <td>1.000000</td>\n",
       "      <td>2021-12-17</td>\n",
       "    </tr>\n",
       "    <tr>\n",
       "      <th>3</th>\n",
       "      <td>Japan Yen</td>\n",
       "      <td>JPY</td>\n",
       "      <td>128.301759</td>\n",
       "      <td>2021-12-17</td>\n",
       "    </tr>\n",
       "    <tr>\n",
       "      <th>4</th>\n",
       "      <td>Switzerland Franc</td>\n",
       "      <td>CHF</td>\n",
       "      <td>1.041015</td>\n",
       "      <td>2021-12-17</td>\n",
       "    </tr>\n",
       "  </tbody>\n",
       "</table>\n",
       "</div>"
      ],
      "text/plain": [
       "      Country/Currency currency       value       date\n",
       "0     Australia Dollar      AUD    1.581627 2021-12-17\n",
       "1  Great Britain Pound      GBP    0.851619 2021-12-17\n",
       "2                 Euro      EUR    1.000000 2021-12-17\n",
       "3            Japan Yen      JPY  128.301759 2021-12-17\n",
       "4    Switzerland Franc      CHF    1.041015 2021-12-17"
      ]
     },
     "execution_count": 233,
     "metadata": {},
     "output_type": "execute_result"
    }
   ],
   "source": [
    "dataset = pd.read_csv(file_path, parse_dates=['date'], index_col = 0)\n",
    "dataset.head()"
   ]
  },
  {
   "cell_type": "code",
   "execution_count": 234,
   "id": "4d6750f0",
   "metadata": {
    "colab": {
     "base_uri": "https://localhost:8080/",
     "height": 300
    },
    "execution": {
     "iopub.execute_input": "2022-09-23T22:47:04.239539Z",
     "iopub.status.busy": "2022-09-23T22:47:04.239107Z",
     "iopub.status.idle": "2022-09-23T22:47:04.263637Z",
     "shell.execute_reply": "2022-09-23T22:47:04.262497Z"
    },
    "id": "4d6750f0",
    "outputId": "0bdc8975-34dd-4b41-c7cb-772fe4ec4cad",
    "papermill": {
     "duration": 0.041041,
     "end_time": "2022-09-23T22:47:04.265931",
     "exception": false,
     "start_time": "2022-09-23T22:47:04.224890",
     "status": "completed"
    },
    "tags": []
   },
   "outputs": [
    {
     "data": {
      "text/html": [
       "<div>\n",
       "<style scoped>\n",
       "    .dataframe tbody tr th:only-of-type {\n",
       "        vertical-align: middle;\n",
       "    }\n",
       "\n",
       "    .dataframe tbody tr th {\n",
       "        vertical-align: top;\n",
       "    }\n",
       "\n",
       "    .dataframe thead th {\n",
       "        text-align: right;\n",
       "    }\n",
       "</style>\n",
       "<table border=\"1\" class=\"dataframe\">\n",
       "  <thead>\n",
       "    <tr style=\"text-align: right;\">\n",
       "      <th></th>\n",
       "      <th>value</th>\n",
       "    </tr>\n",
       "  </thead>\n",
       "  <tbody>\n",
       "    <tr>\n",
       "      <th>count</th>\n",
       "      <td>48134.000000</td>\n",
       "    </tr>\n",
       "    <tr>\n",
       "      <th>mean</th>\n",
       "      <td>1553.273170</td>\n",
       "    </tr>\n",
       "    <tr>\n",
       "      <th>std</th>\n",
       "      <td>5274.875793</td>\n",
       "    </tr>\n",
       "    <tr>\n",
       "      <th>min</th>\n",
       "      <td>0.297793</td>\n",
       "    </tr>\n",
       "    <tr>\n",
       "      <th>25%</th>\n",
       "      <td>3.919004</td>\n",
       "    </tr>\n",
       "    <tr>\n",
       "      <th>50%</th>\n",
       "      <td>31.455937</td>\n",
       "    </tr>\n",
       "    <tr>\n",
       "      <th>75%</th>\n",
       "      <td>397.979623</td>\n",
       "    </tr>\n",
       "    <tr>\n",
       "      <th>max</th>\n",
       "      <td>48463.030166</td>\n",
       "    </tr>\n",
       "  </tbody>\n",
       "</table>\n",
       "</div>"
      ],
      "text/plain": [
       "              value\n",
       "count  48134.000000\n",
       "mean    1553.273170\n",
       "std     5274.875793\n",
       "min        0.297793\n",
       "25%        3.919004\n",
       "50%       31.455937\n",
       "75%      397.979623\n",
       "max    48463.030166"
      ]
     },
     "execution_count": 234,
     "metadata": {},
     "output_type": "execute_result"
    }
   ],
   "source": [
    "# some insight about whole dataset\n",
    "dataset.describe()"
   ]
  },
  {
   "cell_type": "markdown",
   "id": "4ef184f7",
   "metadata": {
    "id": "4ef184f7",
    "papermill": {
     "duration": 0.012883,
     "end_time": "2022-09-23T22:47:04.292905",
     "exception": false,
     "start_time": "2022-09-23T22:47:04.280022",
     "status": "completed"
    },
    "tags": []
   },
   "source": [
    "# 2. EDA on Currency data"
   ]
  },
  {
   "cell_type": "markdown",
   "id": "fc7e9807",
   "metadata": {
    "id": "fc7e9807",
    "papermill": {
     "duration": 0.012991,
     "end_time": "2022-09-23T22:47:04.318949",
     "exception": false,
     "start_time": "2022-09-23T22:47:04.305958",
     "status": "completed"
    },
    "tags": []
   },
   "source": [
    "## 2.1 First check if any null values present"
   ]
  },
  {
   "cell_type": "code",
   "execution_count": 235,
   "id": "97d63b2b",
   "metadata": {
    "colab": {
     "base_uri": "https://localhost:8080/"
    },
    "execution": {
     "iopub.execute_input": "2022-09-23T22:47:04.347894Z",
     "iopub.status.busy": "2022-09-23T22:47:04.347487Z",
     "iopub.status.idle": "2022-09-23T22:47:04.362341Z",
     "shell.execute_reply": "2022-09-23T22:47:04.361296Z"
    },
    "id": "97d63b2b",
    "outputId": "b078f28d-9253-40df-e8d6-3c65a4c19fb8",
    "papermill": {
     "duration": 0.032295,
     "end_time": "2022-09-23T22:47:04.364666",
     "exception": false,
     "start_time": "2022-09-23T22:47:04.332371",
     "status": "completed"
    },
    "tags": []
   },
   "outputs": [
    {
     "data": {
      "text/plain": [
       "Country/Currency    0\n",
       "currency            0\n",
       "value               0\n",
       "date                0\n",
       "dtype: int64"
      ]
     },
     "execution_count": 235,
     "metadata": {},
     "output_type": "execute_result"
    }
   ],
   "source": [
    "dataset.isnull().sum()"
   ]
  },
  {
   "cell_type": "markdown",
   "id": "251e7da0",
   "metadata": {
    "id": "251e7da0",
    "papermill": {
     "duration": 0.012738,
     "end_time": "2022-09-23T22:47:04.390349",
     "exception": false,
     "start_time": "2022-09-23T22:47:04.377611",
     "status": "completed"
    },
    "tags": []
   },
   "source": [
    "## 2.2 Types of Currency data present"
   ]
  },
  {
   "cell_type": "code",
   "execution_count": 236,
   "id": "02210221",
   "metadata": {
    "colab": {
     "base_uri": "https://localhost:8080/"
    },
    "execution": {
     "iopub.execute_input": "2022-09-23T22:47:04.419502Z",
     "iopub.status.busy": "2022-09-23T22:47:04.418570Z",
     "iopub.status.idle": "2022-09-23T22:47:04.430047Z",
     "shell.execute_reply": "2022-09-23T22:47:04.428903Z"
    },
    "id": "02210221",
    "outputId": "ff12a172-f80d-48c1-a4ea-efee562e8dd2",
    "papermill": {
     "duration": 0.028911,
     "end_time": "2022-09-23T22:47:04.432308",
     "exception": false,
     "start_time": "2022-09-23T22:47:04.403397",
     "status": "completed"
    },
    "tags": []
   },
   "outputs": [
    {
     "data": {
      "text/plain": [
       "array(['AUD', 'GBP', 'EUR', 'JPY', 'CHF', 'USD', 'AFN', 'ALL', 'DZD',\n",
       "       'AOA', 'ARS', 'AMD', 'AWG', 'AZN', 'BSD', 'BHD', 'BDT', 'BBD',\n",
       "       'BYR', 'BZD', 'BMD', 'BTN', 'BOB', 'BAM', 'BWP', 'BRL', 'BND',\n",
       "       'BGN', 'BIF', 'XOF', 'XAF', 'XPF', 'KHR', 'CAD', 'CVE', 'KYD',\n",
       "       'CLP', 'CNY', 'COP', 'KMF', 'CDF', 'CRC', 'HRK', 'CUC', 'CUP',\n",
       "       'CZK', 'DKK', 'DJF', 'DOP', 'XCD', 'EGP', 'SVC', 'ETB', 'FKP',\n",
       "       'FJD', 'GMD', 'GEL', 'GHS', 'GIP', 'GTQ', 'GNF', 'GYD', 'HTG',\n",
       "       'HNL', 'HKD', 'HUF', 'ISK', 'INR', 'IDR', 'IRR', 'IQD', 'ILS',\n",
       "       'JMD', 'JOD', 'KZT', 'KES', 'KWD', 'KGS', 'LAK', 'LBP', 'LSL',\n",
       "       'LRD', 'LYD', 'MOP', 'MKD', 'MGA', 'MWK', 'MYR', 'MVR', 'MRO',\n",
       "       'MUR', 'MXN', 'MDL', 'MNT', 'MAD', 'MZN', 'MMK', 'ANG', 'NAD',\n",
       "       'NPR', 'NZD', 'NIO', 'NGN', 'KPW', 'NOK', 'OMR', 'PKR', 'PAB',\n",
       "       'PGK', 'PYG', 'PEN', 'PHP', 'PLN', 'QAR', 'RON', 'RUB', 'RWF',\n",
       "       'WST', 'STD', 'SAR', 'RSD', 'SCR', 'SLL', 'SGD', 'SBD', 'SOS',\n",
       "       'ZAR', 'KRW', 'LKR', 'SHP', 'SDG', 'SRD', 'SZL', 'SEK', 'SYP',\n",
       "       'TWD', 'TZS', 'THB', 'TOP', 'TTD', 'TND', 'TRY', 'UGX', 'UAH',\n",
       "       'UYU', 'AED', 'VUV', 'VND', 'YER', 'ZMK'], dtype=object)"
      ]
     },
     "execution_count": 236,
     "metadata": {},
     "output_type": "execute_result"
    }
   ],
   "source": [
    "dataset['currency'].unique()"
   ]
  },
  {
   "cell_type": "code",
   "execution_count": 237,
   "id": "309412a1",
   "metadata": {
    "colab": {
     "base_uri": "https://localhost:8080/"
    },
    "execution": {
     "iopub.execute_input": "2022-09-23T22:47:04.460389Z",
     "iopub.status.busy": "2022-09-23T22:47:04.459932Z",
     "iopub.status.idle": "2022-09-23T22:47:04.471352Z",
     "shell.execute_reply": "2022-09-23T22:47:04.470119Z"
    },
    "id": "309412a1",
    "outputId": "e49b1a46-5b3e-4b16-8ffb-5bf79e847b7f",
    "papermill": {
     "duration": 0.028329,
     "end_time": "2022-09-23T22:47:04.473801",
     "exception": false,
     "start_time": "2022-09-23T22:47:04.445472",
     "status": "completed"
    },
    "tags": []
   },
   "outputs": [
    {
     "data": {
      "text/plain": [
       "array(['Australia Dollar', 'Great Britain Pound', 'Euro', 'Japan Yen',\n",
       "       'Switzerland Franc', 'USA Dollar', 'Afghanistan Afghani',\n",
       "       'Albania Lek', 'Algeria Dinar', 'Angola Kwanza', 'Argentina Peso',\n",
       "       'Armenia Dram', 'Aruba Florin', 'Azerbaijan New Manat',\n",
       "       'Bahamas Dollar', 'Bahrain Dinar', 'Bangladesh Taka',\n",
       "       'Barbados Dollar', 'Belarus Ruble', 'Belize Dollar',\n",
       "       'Bermuda Dollar', 'Bhutan Ngultrum', 'Bolivia Boliviano',\n",
       "       'Bosnia Mark', 'Botswana Pula', 'Brazil Real', 'Brunei Dollar',\n",
       "       'Bulgaria Lev', 'Burundi Franc', 'CFA Franc BCEAO',\n",
       "       'CFA Franc BEAC', 'CFP Franc', 'Cambodia Riel', 'Canada Dollar',\n",
       "       'Cape Verde Escudo', 'Cayman Islands Dollar', 'Chili Peso',\n",
       "       'China Yuan/Renminbi', 'Colombia Peso', 'Comoros Franc',\n",
       "       'Congo Franc', 'Costa Rica Colon', 'Croatia Kuna',\n",
       "       'Cuba Convertible Peso', 'Cuba Peso', 'Czech Koruna',\n",
       "       'Denmark Krone', 'Djibouti Franc', 'Dominican Republich Peso',\n",
       "       'East Caribbean Dollar', 'Egypt Pound', 'El Salvador Colon',\n",
       "       'Ethiopia Birr', 'Falkland Islands Pound', 'Fiji Dollar',\n",
       "       'Gambia Dalasi', 'Georgia Lari', 'Ghana New Cedi',\n",
       "       'Gibraltar Pound', 'Guatemala Quetzal', 'Guinea Franc',\n",
       "       'Guyana Dollar', 'Haiti Gourde', 'Honduras Lempira',\n",
       "       'Hong Kong Dollar', 'Hungary Forint', 'Iceland Krona',\n",
       "       'India Rupee', 'Indonesia Rupiah', 'Iran Rial', 'Iraq Dinar',\n",
       "       'Israel New Shekel', 'Jamaica Dollar', 'Jordan Dinar',\n",
       "       'Kazakhstan Tenge', 'Kenya Shilling', 'Kuwait Dinar',\n",
       "       'Kyrgyzstan Som', 'Laos Kip', 'Lebanon Pound', 'Lesotho Loti',\n",
       "       'Liberia Dollar', 'Libya Dinar', 'Macau Pataca', 'Macedonia Denar',\n",
       "       'Malagasy Ariary', 'Malawi Kwacha', 'Malaysia Ringgit',\n",
       "       'Maldives Rufiyaa', 'Mauritania Ouguiya', 'Mauritius Rupee',\n",
       "       'Mexico Peso', 'Moldova Leu', 'Mongolia Tugrik', 'Morocco Dirham',\n",
       "       'Mozambique New Metical', 'Myanmar Kyat', 'NL Antilles Guilder',\n",
       "       'Namibia Dollar', 'Nepal Rupee', 'New Zealand Dollar',\n",
       "       'Nicaragua Cordoba Oro', 'Nigeria Naira', 'North Korea Won',\n",
       "       'Norway Kroner', 'Oman Rial', 'Pakistan Rupee', 'Panama Balboa',\n",
       "       'Papua New Guinea Kina', 'Paraguay Guarani', 'Peru Nuevo Sol',\n",
       "       'Philippines Peso', 'Poland Zloty', 'Qatar Rial',\n",
       "       'Romania New Lei', 'Russia Rouble', 'Rwanda Franc', 'Samoa Tala',\n",
       "       'Sao Tome/Principe Dobra', 'Saudi Arabia Riyal', 'Serbia Dinar',\n",
       "       'Seychelles Rupee', 'Sierra Leone Leone', 'Singapore Dollar',\n",
       "       'Solomon Islands Dollar', 'Somali Shilling', 'South Africa Rand',\n",
       "       'South Korea Won', 'Sri Lanka Rupee', 'St Helena Pound',\n",
       "       'Sudan Pound', 'Suriname Dollar', 'Swaziland Lilangeni',\n",
       "       'Sweden Krona', 'Syria Pound', 'Taiwan Dollar',\n",
       "       'Tanzania Shilling', 'Thailand Baht', \"Tonga Pa'anga\",\n",
       "       'Trinidad/Tobago Dollar', 'Tunisia Dinar', 'Turkish New Lira',\n",
       "       'Uganda Shilling', 'Ukraine Hryvnia', 'Uruguay Peso',\n",
       "       'United Arab Emirates Dirham', 'Vanuatu Vatu', 'Vietnam Dong',\n",
       "       'Yemen Rial', 'Zambia Kwacha'], dtype=object)"
      ]
     },
     "execution_count": 237,
     "metadata": {},
     "output_type": "execute_result"
    }
   ],
   "source": [
    "# Print currency names\n",
    "dataset['Country/Currency'].unique()"
   ]
  },
  {
   "cell_type": "code",
   "execution_count": 238,
   "id": "2fdcec31",
   "metadata": {
    "colab": {
     "base_uri": "https://localhost:8080/"
    },
    "execution": {
     "iopub.execute_input": "2022-09-23T22:47:04.503194Z",
     "iopub.status.busy": "2022-09-23T22:47:04.502756Z",
     "iopub.status.idle": "2022-09-23T22:47:04.518744Z",
     "shell.execute_reply": "2022-09-23T22:47:04.516291Z"
    },
    "id": "2fdcec31",
    "outputId": "3633b2fd-8ce4-4085-d1ff-72ce5a760fea",
    "papermill": {
     "duration": 0.033892,
     "end_time": "2022-09-23T22:47:04.521554",
     "exception": false,
     "start_time": "2022-09-23T22:47:04.487662",
     "status": "completed"
    },
    "tags": []
   },
   "outputs": [
    {
     "name": "stdout",
     "output_type": "stream",
     "text": [
      "Country name: Australia Dollar -> Currency: AUD\n",
      "Country name: Great Britain Pound -> Currency: GBP\n",
      "Country name: Euro -> Currency: EUR\n",
      "Country name: Japan Yen -> Currency: JPY\n",
      "Country name: Switzerland Franc -> Currency: CHF\n",
      "Country name: USA Dollar -> Currency: USD\n",
      "Country name: Afghanistan Afghani -> Currency: AFN\n",
      "Country name: Albania Lek -> Currency: ALL\n",
      "Country name: Algeria Dinar -> Currency: DZD\n",
      "Country name: Angola Kwanza -> Currency: AOA\n",
      "Country name: Argentina Peso -> Currency: ARS\n",
      "Country name: Armenia Dram -> Currency: AMD\n",
      "Country name: Aruba Florin -> Currency: AWG\n",
      "Country name: Azerbaijan New Manat -> Currency: AZN\n",
      "Country name: Bahamas Dollar -> Currency: BSD\n",
      "Country name: Bahrain Dinar -> Currency: BHD\n",
      "Country name: Bangladesh Taka -> Currency: BDT\n",
      "Country name: Barbados Dollar -> Currency: BBD\n",
      "Country name: Belarus Ruble -> Currency: BYR\n",
      "Country name: Belize Dollar -> Currency: BZD\n",
      "Country name: Bermuda Dollar -> Currency: BMD\n",
      "Country name: Bhutan Ngultrum -> Currency: BTN\n",
      "Country name: Bolivia Boliviano -> Currency: BOB\n",
      "Country name: Bosnia Mark -> Currency: BAM\n",
      "Country name: Botswana Pula -> Currency: BWP\n",
      "Country name: Brazil Real -> Currency: BRL\n",
      "Country name: Brunei Dollar -> Currency: BND\n",
      "Country name: Bulgaria Lev -> Currency: BGN\n",
      "Country name: Burundi Franc -> Currency: BIF\n",
      "Country name: CFA Franc BCEAO -> Currency: XOF\n",
      "Country name: CFA Franc BEAC -> Currency: XAF\n",
      "Country name: CFP Franc -> Currency: XPF\n",
      "Country name: Cambodia Riel -> Currency: KHR\n",
      "Country name: Canada Dollar -> Currency: CAD\n",
      "Country name: Cape Verde Escudo -> Currency: CVE\n",
      "Country name: Cayman Islands Dollar -> Currency: KYD\n",
      "Country name: Chili Peso -> Currency: CLP\n",
      "Country name: China Yuan/Renminbi -> Currency: CNY\n",
      "Country name: Colombia Peso -> Currency: COP\n",
      "Country name: Comoros Franc -> Currency: KMF\n",
      "Country name: Congo Franc -> Currency: CDF\n",
      "Country name: Costa Rica Colon -> Currency: CRC\n",
      "Country name: Croatia Kuna -> Currency: HRK\n",
      "Country name: Cuba Convertible Peso -> Currency: CUC\n",
      "Country name: Cuba Peso -> Currency: CUP\n",
      "Country name: Czech Koruna -> Currency: CZK\n",
      "Country name: Denmark Krone -> Currency: DKK\n",
      "Country name: Djibouti Franc -> Currency: DJF\n",
      "Country name: Dominican Republich Peso -> Currency: DOP\n",
      "Country name: East Caribbean Dollar -> Currency: XCD\n",
      "Country name: Egypt Pound -> Currency: EGP\n",
      "Country name: El Salvador Colon -> Currency: SVC\n",
      "Country name: Ethiopia Birr -> Currency: ETB\n",
      "Country name: Falkland Islands Pound -> Currency: FKP\n",
      "Country name: Fiji Dollar -> Currency: FJD\n",
      "Country name: Gambia Dalasi -> Currency: GMD\n",
      "Country name: Georgia Lari -> Currency: GEL\n",
      "Country name: Ghana New Cedi -> Currency: GHS\n",
      "Country name: Gibraltar Pound -> Currency: GIP\n",
      "Country name: Guatemala Quetzal -> Currency: GTQ\n",
      "Country name: Guinea Franc -> Currency: GNF\n",
      "Country name: Guyana Dollar -> Currency: GYD\n",
      "Country name: Haiti Gourde -> Currency: HTG\n",
      "Country name: Honduras Lempira -> Currency: HNL\n",
      "Country name: Hong Kong Dollar -> Currency: HKD\n",
      "Country name: Hungary Forint -> Currency: HUF\n",
      "Country name: Iceland Krona -> Currency: ISK\n",
      "Country name: India Rupee -> Currency: INR\n",
      "Country name: Indonesia Rupiah -> Currency: IDR\n",
      "Country name: Iran Rial -> Currency: IRR\n",
      "Country name: Iraq Dinar -> Currency: IQD\n",
      "Country name: Israel New Shekel -> Currency: ILS\n",
      "Country name: Jamaica Dollar -> Currency: JMD\n",
      "Country name: Jordan Dinar -> Currency: JOD\n",
      "Country name: Kazakhstan Tenge -> Currency: KZT\n",
      "Country name: Kenya Shilling -> Currency: KES\n",
      "Country name: Kuwait Dinar -> Currency: KWD\n",
      "Country name: Kyrgyzstan Som -> Currency: KGS\n",
      "Country name: Laos Kip -> Currency: LAK\n",
      "Country name: Lebanon Pound -> Currency: LBP\n",
      "Country name: Lesotho Loti -> Currency: LSL\n",
      "Country name: Liberia Dollar -> Currency: LRD\n",
      "Country name: Libya Dinar -> Currency: LYD\n",
      "Country name: Macau Pataca -> Currency: MOP\n",
      "Country name: Macedonia Denar -> Currency: MKD\n",
      "Country name: Malagasy Ariary -> Currency: MGA\n",
      "Country name: Malawi Kwacha -> Currency: MWK\n",
      "Country name: Malaysia Ringgit -> Currency: MYR\n",
      "Country name: Maldives Rufiyaa -> Currency: MVR\n",
      "Country name: Mauritania Ouguiya -> Currency: MRO\n",
      "Country name: Mauritius Rupee -> Currency: MUR\n",
      "Country name: Mexico Peso -> Currency: MXN\n",
      "Country name: Moldova Leu -> Currency: MDL\n",
      "Country name: Mongolia Tugrik -> Currency: MNT\n",
      "Country name: Morocco Dirham -> Currency: MAD\n",
      "Country name: Mozambique New Metical -> Currency: MZN\n",
      "Country name: Myanmar Kyat -> Currency: MMK\n",
      "Country name: NL Antilles Guilder -> Currency: ANG\n",
      "Country name: Namibia Dollar -> Currency: NAD\n",
      "Country name: Nepal Rupee -> Currency: NPR\n",
      "Country name: New Zealand Dollar -> Currency: NZD\n",
      "Country name: Nicaragua Cordoba Oro -> Currency: NIO\n",
      "Country name: Nigeria Naira -> Currency: NGN\n",
      "Country name: North Korea Won -> Currency: KPW\n",
      "Country name: Norway Kroner -> Currency: NOK\n",
      "Country name: Oman Rial -> Currency: OMR\n",
      "Country name: Pakistan Rupee -> Currency: PKR\n",
      "Country name: Panama Balboa -> Currency: PAB\n",
      "Country name: Papua New Guinea Kina -> Currency: PGK\n",
      "Country name: Paraguay Guarani -> Currency: PYG\n",
      "Country name: Peru Nuevo Sol -> Currency: PEN\n",
      "Country name: Philippines Peso -> Currency: PHP\n",
      "Country name: Poland Zloty -> Currency: PLN\n",
      "Country name: Qatar Rial -> Currency: QAR\n",
      "Country name: Romania New Lei -> Currency: RON\n",
      "Country name: Russia Rouble -> Currency: RUB\n",
      "Country name: Rwanda Franc -> Currency: RWF\n",
      "Country name: Samoa Tala -> Currency: WST\n",
      "Country name: Sao Tome/Principe Dobra -> Currency: STD\n",
      "Country name: Saudi Arabia Riyal -> Currency: SAR\n",
      "Country name: Serbia Dinar -> Currency: RSD\n",
      "Country name: Seychelles Rupee -> Currency: SCR\n",
      "Country name: Sierra Leone Leone -> Currency: SLL\n",
      "Country name: Singapore Dollar -> Currency: SGD\n",
      "Country name: Solomon Islands Dollar -> Currency: SBD\n",
      "Country name: Somali Shilling -> Currency: SOS\n",
      "Country name: South Africa Rand -> Currency: ZAR\n",
      "Country name: South Korea Won -> Currency: KRW\n",
      "Country name: Sri Lanka Rupee -> Currency: LKR\n",
      "Country name: St Helena Pound -> Currency: SHP\n",
      "Country name: Sudan Pound -> Currency: SDG\n",
      "Country name: Suriname Dollar -> Currency: SRD\n",
      "Country name: Swaziland Lilangeni -> Currency: SZL\n",
      "Country name: Sweden Krona -> Currency: SEK\n",
      "Country name: Syria Pound -> Currency: SYP\n",
      "Country name: Taiwan Dollar -> Currency: TWD\n",
      "Country name: Tanzania Shilling -> Currency: TZS\n",
      "Country name: Thailand Baht -> Currency: THB\n",
      "Country name: Tonga Pa'anga -> Currency: TOP\n",
      "Country name: Trinidad/Tobago Dollar -> Currency: TTD\n",
      "Country name: Tunisia Dinar -> Currency: TND\n",
      "Country name: Turkish New Lira -> Currency: TRY\n",
      "Country name: Uganda Shilling -> Currency: UGX\n",
      "Country name: Ukraine Hryvnia -> Currency: UAH\n",
      "Country name: Uruguay Peso -> Currency: UYU\n",
      "Country name: United Arab Emirates Dirham -> Currency: AED\n",
      "Country name: Vanuatu Vatu -> Currency: VUV\n",
      "Country name: Vietnam Dong -> Currency: VND\n",
      "Country name: Yemen Rial -> Currency: YER\n",
      "Country name: Zambia Kwacha -> Currency: ZMK\n"
     ]
    }
   ],
   "source": [
    "unique_country = list(dataset['Country/Currency'].unique())\n",
    "unique_currency = list(dataset['currency'].unique())\n",
    "for x in range(len(unique_country)):\n",
    "    print('Country name: {0} -> Currency: {1}'.format(unique_country[x], unique_currency[x]))"
   ]
  },
  {
   "cell_type": "markdown",
   "id": "219ec0f1",
   "metadata": {
    "id": "219ec0f1",
    "papermill": {
     "duration": 0.014464,
     "end_time": "2022-09-23T22:47:04.550248",
     "exception": false,
     "start_time": "2022-09-23T22:47:04.535784",
     "status": "completed"
    },
    "tags": []
   },
   "source": [
    "## 2.3 Pickup some country code for time series analysis\n",
    "\n",
    "    1. USA Dollar -> USD\n",
    "    2. Vietnam Dong -> VND"
   ]
  },
  {
   "cell_type": "code",
   "execution_count": 239,
   "id": "1d7ee548",
   "metadata": {
    "colab": {
     "base_uri": "https://localhost:8080/",
     "height": 206
    },
    "execution": {
     "iopub.execute_input": "2022-09-23T22:47:04.580549Z",
     "iopub.status.busy": "2022-09-23T22:47:04.580125Z",
     "iopub.status.idle": "2022-09-23T22:47:04.597932Z",
     "shell.execute_reply": "2022-09-23T22:47:04.596677Z"
    },
    "id": "1d7ee548",
    "outputId": "326c941d-ad1f-4491-bc23-460dc734c5de",
    "papermill": {
     "duration": 0.035837,
     "end_time": "2022-09-23T22:47:04.600448",
     "exception": false,
     "start_time": "2022-09-23T22:47:04.564611",
     "status": "completed"
    },
    "tags": []
   },
   "outputs": [
    {
     "data": {
      "text/html": [
       "<div>\n",
       "<style scoped>\n",
       "    .dataframe tbody tr th:only-of-type {\n",
       "        vertical-align: middle;\n",
       "    }\n",
       "\n",
       "    .dataframe tbody tr th {\n",
       "        vertical-align: top;\n",
       "    }\n",
       "\n",
       "    .dataframe thead th {\n",
       "        text-align: right;\n",
       "    }\n",
       "</style>\n",
       "<table border=\"1\" class=\"dataframe\">\n",
       "  <thead>\n",
       "    <tr style=\"text-align: right;\">\n",
       "      <th></th>\n",
       "      <th>Country/Currency</th>\n",
       "      <th>currency</th>\n",
       "      <th>value</th>\n",
       "      <th>date</th>\n",
       "    </tr>\n",
       "  </thead>\n",
       "  <tbody>\n",
       "    <tr>\n",
       "      <th>5</th>\n",
       "      <td>USA Dollar</td>\n",
       "      <td>USD</td>\n",
       "      <td>1.132548</td>\n",
       "      <td>2021-12-17</td>\n",
       "    </tr>\n",
       "    <tr>\n",
       "      <th>155</th>\n",
       "      <td>USA Dollar</td>\n",
       "      <td>USD</td>\n",
       "      <td>1.123810</td>\n",
       "      <td>2021-12-18</td>\n",
       "    </tr>\n",
       "    <tr>\n",
       "      <th>305</th>\n",
       "      <td>USA Dollar</td>\n",
       "      <td>USD</td>\n",
       "      <td>1.123810</td>\n",
       "      <td>2021-12-19</td>\n",
       "    </tr>\n",
       "    <tr>\n",
       "      <th>455</th>\n",
       "      <td>USA Dollar</td>\n",
       "      <td>USD</td>\n",
       "      <td>1.124405</td>\n",
       "      <td>2021-12-20</td>\n",
       "    </tr>\n",
       "    <tr>\n",
       "      <th>605</th>\n",
       "      <td>USA Dollar</td>\n",
       "      <td>USD</td>\n",
       "      <td>1.128382</td>\n",
       "      <td>2021-12-21</td>\n",
       "    </tr>\n",
       "  </tbody>\n",
       "</table>\n",
       "</div>"
      ],
      "text/plain": [
       "    Country/Currency currency     value       date\n",
       "5         USA Dollar      USD  1.132548 2021-12-17\n",
       "155       USA Dollar      USD  1.123810 2021-12-18\n",
       "305       USA Dollar      USD  1.123810 2021-12-19\n",
       "455       USA Dollar      USD  1.124405 2021-12-20\n",
       "605       USA Dollar      USD  1.128382 2021-12-21"
      ]
     },
     "execution_count": 239,
     "metadata": {},
     "output_type": "execute_result"
    }
   ],
   "source": [
    "data_usd = dataset.loc[dataset.currency == 'USD']\n",
    "data_usd.head()"
   ]
  },
  {
   "cell_type": "markdown",
   "id": "42706fbe",
   "metadata": {
    "id": "42706fbe",
    "papermill": {
     "duration": 0.014763,
     "end_time": "2022-09-23T22:47:04.628993",
     "exception": false,
     "start_time": "2022-09-23T22:47:04.614230",
     "status": "completed"
    },
    "tags": []
   },
   "source": [
    "## 2.4 Let's Visualize"
   ]
  },
  {
   "cell_type": "code",
   "execution_count": 240,
   "id": "68dc36c2",
   "metadata": {
    "_kg_hide-input": true,
    "execution": {
     "iopub.execute_input": "2022-09-23T22:47:04.658210Z",
     "iopub.status.busy": "2022-09-23T22:47:04.657765Z",
     "iopub.status.idle": "2022-09-23T22:47:04.663348Z",
     "shell.execute_reply": "2022-09-23T22:47:04.662309Z"
    },
    "id": "68dc36c2",
    "jupyter": {
     "source_hidden": true
    },
    "papermill": {
     "duration": 0.022912,
     "end_time": "2022-09-23T22:47:04.665715",
     "exception": false,
     "start_time": "2022-09-23T22:47:04.642803",
     "status": "completed"
    },
    "tags": []
   },
   "outputs": [],
   "source": [
    "from IPython.display import HTML, display"
   ]
  },
  {
   "cell_type": "code",
   "execution_count": 241,
   "id": "ad8f9ad9",
   "metadata": {
    "_kg_hide-input": true,
    "execution": {
     "iopub.execute_input": "2022-09-23T22:47:04.696390Z",
     "iopub.status.busy": "2022-09-23T22:47:04.696016Z",
     "iopub.status.idle": "2022-09-23T22:47:04.703316Z",
     "shell.execute_reply": "2022-09-23T22:47:04.702362Z"
    },
    "id": "ad8f9ad9",
    "jupyter": {
     "source_hidden": true
    },
    "papermill": {
     "duration": 0.025421,
     "end_time": "2022-09-23T22:47:04.705597",
     "exception": false,
     "start_time": "2022-09-23T22:47:04.680176",
     "status": "completed"
    },
    "tags": []
   },
   "outputs": [],
   "source": [
    "display_usd = HTML(\n",
    "'''\n",
    "<iframe src='https://flo.uri.sh/visualisation/11270785/embed' title='Interactive or visual content'\n",
    "class='flourish-embed-iframe' frameborder='0' scrolling='no' style='width:100%;height:600px;' \n",
    "    sandbox='allow-same-origin allow-forms allow-scripts allow-downloads allow-popups allow-popups-to-escape-sandbox allow-top-navigation-by-user-activation'></iframe>\n",
    "    <div style='width:100%!;margin-top:4px!important;text-align:right!important;'>\n",
    "    <a class='flourish-credit' href='https://public.flourish.studio/visualisation/11270785/?utm_source=embed&utm_campaign=visualisation/11270785' target='_top' style='text-decoration:none!important'>\n",
    "    <img alt='Made with Flourish' src='https://public.flourish.studio/resources/made_with_flourish.svg' style='width:105px!important;height:16px!important;border:none!important;margin:0!important;'> \n",
    "    </a></div>\n",
    "'''\n",
    ")"
   ]
  },
  {
   "cell_type": "markdown",
   "id": "5a87b029",
   "metadata": {
    "id": "5a87b029",
    "papermill": {
     "duration": 0.013825,
     "end_time": "2022-09-23T22:47:04.733035",
     "exception": false,
     "start_time": "2022-09-23T22:47:04.719210",
     "status": "completed"
    },
    "tags": []
   },
   "source": [
    "## 2.5 Visualize USD Value"
   ]
  },
  {
   "cell_type": "code",
   "execution_count": 242,
   "id": "975446b2",
   "metadata": {
    "colab": {
     "base_uri": "https://localhost:8080/",
     "height": 645
    },
    "execution": {
     "iopub.execute_input": "2022-09-23T22:47:04.762594Z",
     "iopub.status.busy": "2022-09-23T22:47:04.761757Z",
     "iopub.status.idle": "2022-09-23T22:47:04.769174Z",
     "shell.execute_reply": "2022-09-23T22:47:04.767985Z"
    },
    "id": "975446b2",
    "outputId": "17a42f80-a076-418f-e7d9-0910e46e7792",
    "papermill": {
     "duration": 0.024668,
     "end_time": "2022-09-23T22:47:04.771352",
     "exception": false,
     "start_time": "2022-09-23T22:47:04.746684",
     "status": "completed"
    },
    "tags": []
   },
   "outputs": [
    {
     "data": {
      "text/html": [
       "\n",
       "<iframe src='https://flo.uri.sh/visualisation/11270785/embed' title='Interactive or visual content'\n",
       "class='flourish-embed-iframe' frameborder='0' scrolling='no' style='width:100%;height:600px;' \n",
       "    sandbox='allow-same-origin allow-forms allow-scripts allow-downloads allow-popups allow-popups-to-escape-sandbox allow-top-navigation-by-user-activation'></iframe>\n",
       "    <div style='width:100%!;margin-top:4px!important;text-align:right!important;'>\n",
       "    <a class='flourish-credit' href='https://public.flourish.studio/visualisation/11270785/?utm_source=embed&utm_campaign=visualisation/11270785' target='_top' style='text-decoration:none!important'>\n",
       "    <img alt='Made with Flourish' src='https://public.flourish.studio/resources/made_with_flourish.svg' style='width:105px!important;height:16px!important;border:none!important;margin:0!important;'> \n",
       "    </a></div>\n"
      ],
      "text/plain": [
       "<IPython.core.display.HTML object>"
      ]
     },
     "metadata": {},
     "output_type": "display_data"
    }
   ],
   "source": [
    "display(display_usd)"
   ]
  },
  {
   "cell_type": "code",
   "execution_count": 243,
   "id": "19303676",
   "metadata": {
    "colab": {
     "base_uri": "https://localhost:8080/",
     "height": 206
    },
    "execution": {
     "iopub.execute_input": "2022-09-23T22:47:04.800446Z",
     "iopub.status.busy": "2022-09-23T22:47:04.800024Z",
     "iopub.status.idle": "2022-09-23T22:47:04.818137Z",
     "shell.execute_reply": "2022-09-23T22:47:04.816851Z"
    },
    "id": "19303676",
    "outputId": "f829345a-790f-4230-c72b-8141ede9d3dd",
    "papermill": {
     "duration": 0.035471,
     "end_time": "2022-09-23T22:47:04.820452",
     "exception": false,
     "start_time": "2022-09-23T22:47:04.784981",
     "status": "completed"
    },
    "tags": []
   },
   "outputs": [
    {
     "data": {
      "text/html": [
       "<div>\n",
       "<style scoped>\n",
       "    .dataframe tbody tr th:only-of-type {\n",
       "        vertical-align: middle;\n",
       "    }\n",
       "\n",
       "    .dataframe tbody tr th {\n",
       "        vertical-align: top;\n",
       "    }\n",
       "\n",
       "    .dataframe thead th {\n",
       "        text-align: right;\n",
       "    }\n",
       "</style>\n",
       "<table border=\"1\" class=\"dataframe\">\n",
       "  <thead>\n",
       "    <tr style=\"text-align: right;\">\n",
       "      <th></th>\n",
       "      <th>Country/Currency</th>\n",
       "      <th>currency</th>\n",
       "      <th>value</th>\n",
       "      <th>date</th>\n",
       "    </tr>\n",
       "  </thead>\n",
       "  <tbody>\n",
       "    <tr>\n",
       "      <th>147</th>\n",
       "      <td>Vietnam Dong</td>\n",
       "      <td>VND</td>\n",
       "      <td>26028.778038</td>\n",
       "      <td>2021-12-17</td>\n",
       "    </tr>\n",
       "    <tr>\n",
       "      <th>297</th>\n",
       "      <td>Vietnam Dong</td>\n",
       "      <td>VND</td>\n",
       "      <td>25827.954997</td>\n",
       "      <td>2021-12-18</td>\n",
       "    </tr>\n",
       "    <tr>\n",
       "      <th>447</th>\n",
       "      <td>Vietnam Dong</td>\n",
       "      <td>VND</td>\n",
       "      <td>25827.954997</td>\n",
       "      <td>2021-12-19</td>\n",
       "    </tr>\n",
       "    <tr>\n",
       "      <th>597</th>\n",
       "      <td>Vietnam Dong</td>\n",
       "      <td>VND</td>\n",
       "      <td>25841.635331</td>\n",
       "      <td>2021-12-20</td>\n",
       "    </tr>\n",
       "    <tr>\n",
       "      <th>747</th>\n",
       "      <td>Vietnam Dong</td>\n",
       "      <td>VND</td>\n",
       "      <td>25828.655251</td>\n",
       "      <td>2021-12-21</td>\n",
       "    </tr>\n",
       "  </tbody>\n",
       "</table>\n",
       "</div>"
      ],
      "text/plain": [
       "    Country/Currency currency         value       date\n",
       "147     Vietnam Dong      VND  26028.778038 2021-12-17\n",
       "297     Vietnam Dong      VND  25827.954997 2021-12-18\n",
       "447     Vietnam Dong      VND  25827.954997 2021-12-19\n",
       "597     Vietnam Dong      VND  25841.635331 2021-12-20\n",
       "747     Vietnam Dong      VND  25828.655251 2021-12-21"
      ]
     },
     "execution_count": 243,
     "metadata": {},
     "output_type": "execute_result"
    }
   ],
   "source": [
    "data_vnd = dataset.loc[dataset.currency == 'VND']\n",
    "data_vnd.head()"
   ]
  },
  {
   "cell_type": "markdown",
   "id": "bcf34405",
   "metadata": {
    "id": "bcf34405",
    "papermill": {
     "duration": 0.01353,
     "end_time": "2022-09-23T22:47:04.916238",
     "exception": false,
     "start_time": "2022-09-23T22:47:04.902708",
     "status": "completed"
    },
    "tags": []
   },
   "source": [
    "# 3. Time series Analysis - VND value"
   ]
  },
  {
   "cell_type": "markdown",
   "id": "fGWxGML8F87i",
   "metadata": {
    "id": "fGWxGML8F87i"
   },
   "source": []
  },
  {
   "cell_type": "code",
   "execution_count": 244,
   "id": "f3358a81",
   "metadata": {
    "colab": {
     "base_uri": "https://localhost:8080/",
     "height": 344
    },
    "execution": {
     "iopub.execute_input": "2022-09-23T22:47:04.946290Z",
     "iopub.status.busy": "2022-09-23T22:47:04.945652Z",
     "iopub.status.idle": "2022-09-23T22:47:04.965054Z",
     "shell.execute_reply": "2022-09-23T22:47:04.963563Z"
    },
    "id": "f3358a81",
    "outputId": "6b9408de-1dae-45c6-d4f0-2ffa0016f3f0",
    "papermill": {
     "duration": 0.037699,
     "end_time": "2022-09-23T22:47:04.967955",
     "exception": false,
     "start_time": "2022-09-23T22:47:04.930256",
     "status": "completed"
    },
    "tags": []
   },
   "outputs": [
    {
     "name": "stderr",
     "output_type": "stream",
     "text": [
      "C:\\Users\\Srinivas\\AppData\\Local\\Temp\\ipykernel_22248\\3890127477.py:2: SettingWithCopyWarning: \n",
      "A value is trying to be set on a copy of a slice from a DataFrame\n",
      "\n",
      "See the caveats in the documentation: https://pandas.pydata.org/pandas-docs/stable/user_guide/indexing.html#returning-a-view-versus-a-copy\n",
      "  data_vnd.drop(['date', 'Country/Currency', 'currency'], axis = 1, inplace = True)\n"
     ]
    },
    {
     "data": {
      "text/html": [
       "<div>\n",
       "<style scoped>\n",
       "    .dataframe tbody tr th:only-of-type {\n",
       "        vertical-align: middle;\n",
       "    }\n",
       "\n",
       "    .dataframe tbody tr th {\n",
       "        vertical-align: top;\n",
       "    }\n",
       "\n",
       "    .dataframe thead th {\n",
       "        text-align: right;\n",
       "    }\n",
       "</style>\n",
       "<table border=\"1\" class=\"dataframe\">\n",
       "  <thead>\n",
       "    <tr style=\"text-align: right;\">\n",
       "      <th></th>\n",
       "      <th>value</th>\n",
       "    </tr>\n",
       "    <tr>\n",
       "      <th>date</th>\n",
       "      <th></th>\n",
       "    </tr>\n",
       "  </thead>\n",
       "  <tbody>\n",
       "    <tr>\n",
       "      <th>2021-12-17</th>\n",
       "      <td>26028.778038</td>\n",
       "    </tr>\n",
       "    <tr>\n",
       "      <th>2021-12-18</th>\n",
       "      <td>25827.954997</td>\n",
       "    </tr>\n",
       "    <tr>\n",
       "      <th>2021-12-19</th>\n",
       "      <td>25827.954997</td>\n",
       "    </tr>\n",
       "    <tr>\n",
       "      <th>2021-12-20</th>\n",
       "      <td>25841.635331</td>\n",
       "    </tr>\n",
       "    <tr>\n",
       "      <th>2021-12-21</th>\n",
       "      <td>25828.655251</td>\n",
       "    </tr>\n",
       "  </tbody>\n",
       "</table>\n",
       "</div>"
      ],
      "text/plain": [
       "                   value\n",
       "date                    \n",
       "2021-12-17  26028.778038\n",
       "2021-12-18  25827.954997\n",
       "2021-12-19  25827.954997\n",
       "2021-12-20  25841.635331\n",
       "2021-12-21  25828.655251"
      ]
     },
     "execution_count": 244,
     "metadata": {},
     "output_type": "execute_result"
    }
   ],
   "source": [
    "data_vnd.index = data_vnd['date']\n",
    "data_vnd.drop(['date', 'Country/Currency', 'currency'], axis = 1, inplace = True)\n",
    "data_vnd.head()\n"
   ]
  },
  {
   "cell_type": "markdown",
   "id": "d7c6cca7",
   "metadata": {
    "id": "d7c6cca7",
    "papermill": {
     "duration": 0.013842,
     "end_time": "2022-09-23T22:47:04.995887",
     "exception": false,
     "start_time": "2022-09-23T22:47:04.982045",
     "status": "completed"
    },
    "tags": []
   },
   "source": [
    "## 3.1 Check for Stationarity - ADF Test"
   ]
  },
  {
   "cell_type": "code",
   "execution_count": 245,
   "id": "67c45f0c",
   "metadata": {
    "colab": {
     "base_uri": "https://localhost:8080/"
    },
    "execution": {
     "iopub.execute_input": "2022-09-23T22:47:05.027261Z",
     "iopub.status.busy": "2022-09-23T22:47:05.026167Z",
     "iopub.status.idle": "2022-09-23T22:47:06.177279Z",
     "shell.execute_reply": "2022-09-23T22:47:06.175512Z"
    },
    "id": "67c45f0c",
    "outputId": "ad4d8f4e-65a3-4c39-f323-31af054b5702",
    "papermill": {
     "duration": 1.169977,
     "end_time": "2022-09-23T22:47:06.180372",
     "exception": false,
     "start_time": "2022-09-23T22:47:05.010395",
     "status": "completed"
    },
    "tags": []
   },
   "outputs": [
    {
     "name": "stdout",
     "output_type": "stream",
     "text": [
      "ADF Statistic: -1.8385650157758358\n",
      "p-value: 0.361490200302405\n",
      "Critial Values:\n",
      "   1%, -3.450951662384033\n",
      "Critial Values:\n",
      "   5%, -2.8706147570800784\n",
      "Critial Values:\n",
      "   10%, -2.571604931640625\n"
     ]
    }
   ],
   "source": [
    "from statsmodels.tsa.stattools import adfuller\n",
    "\n",
    "result = adfuller(data_vnd['value'].values, autolag='AIC')\n",
    "print(f'ADF Statistic: {result[0]}')\n",
    "print(f'p-value: {result[1]}')\n",
    "for key, value in result[4].items():\n",
    "    print('Critial Values:')\n",
    "    print(f'   {key}, {value}')"
   ]
  },
  {
   "cell_type": "markdown",
   "id": "2d3dc4e2",
   "metadata": {
    "id": "2d3dc4e2",
    "papermill": {
     "duration": 0.015002,
     "end_time": "2022-09-23T22:47:06.212716",
     "exception": false,
     "start_time": "2022-09-23T22:47:06.197714",
     "status": "completed"
    },
    "tags": []
   },
   "source": [
    "## Observation - \n",
    "\n",
    "    From ADF test, it's observed that, data is not stationary. \n",
    "    We can see p-value is more than 10% (usually it must be less than 0.05 or 5%), \n",
    "    and ADF-stat value is greater than all the critical values. \n",
    "    \n",
    "    Both these values confirms the data to be Non-Stationary"
   ]
  },
  {
   "cell_type": "markdown",
   "id": "97b8d92c",
   "metadata": {
    "id": "97b8d92c",
    "papermill": {
     "duration": 0.013947,
     "end_time": "2022-09-23T22:47:06.241193",
     "exception": false,
     "start_time": "2022-09-23T22:47:06.227246",
     "status": "completed"
    },
    "tags": []
   },
   "source": [
    "## 3.2 ACF and PACF Plot"
   ]
  },
  {
   "cell_type": "code",
   "execution_count": 246,
   "id": "97e72cf8",
   "metadata": {
    "colab": {
     "base_uri": "https://localhost:8080/",
     "height": 353
    },
    "execution": {
     "iopub.execute_input": "2022-09-23T22:47:06.271828Z",
     "iopub.status.busy": "2022-09-23T22:47:06.271323Z",
     "iopub.status.idle": "2022-09-23T22:47:06.574378Z",
     "shell.execute_reply": "2022-09-23T22:47:06.573203Z"
    },
    "id": "97e72cf8",
    "outputId": "5616cc9b-6b63-4209-9533-7f7b0837c007",
    "papermill": {
     "duration": 0.321785,
     "end_time": "2022-09-23T22:47:06.577290",
     "exception": false,
     "start_time": "2022-09-23T22:47:06.255505",
     "status": "completed"
    },
    "tags": []
   },
   "outputs": [
    {
     "name": "stdout",
     "output_type": "stream",
     "text": [
      "\n"
     ]
    },
    {
     "data": {
      "image/png": "[encoded data removed]",
      "text/plain": [
       "<Figure size 1000x500 with 1 Axes>"
      ]
     },
     "metadata": {},
     "output_type": "display_data"
    }
   ],
   "source": [
    "from statsmodels.graphics.tsaplots import plot_acf\n",
    "from statsmodels.graphics.tsaplots import plot_pacf\n",
    "import matplotlib.pyplot as plt\n",
    "\n",
    "plt.rc(\"figure\", figsize=(10,5))\n",
    "plot_acf(data_vnd['value'])\n",
    "print()"
   ]
  },
  {
   "cell_type": "markdown",
   "id": "c1f79e49",
   "metadata": {
    "id": "c1f79e49",
    "papermill": {
     "duration": 0.014306,
     "end_time": "2022-09-23T22:47:06.606470",
     "exception": false,
     "start_time": "2022-09-23T22:47:06.592164",
     "status": "completed"
    },
    "tags": []
   },
   "source": [
    "## Observation - \n",
    "\n",
    "    From ACF, we can observe a auto-correlation upto 25 lag values"
   ]
  },
  {
   "cell_type": "code",
   "execution_count": 247,
   "id": "0406fef5",
   "metadata": {
    "colab": {
     "base_uri": "https://localhost:8080/",
     "height": 353
    },
    "execution": {
     "iopub.execute_input": "2022-09-23T22:47:06.637732Z",
     "iopub.status.busy": "2022-09-23T22:47:06.636900Z",
     "iopub.status.idle": "2022-09-23T22:47:06.911062Z",
     "shell.execute_reply": "2022-09-23T22:47:06.909846Z"
    },
    "id": "0406fef5",
    "outputId": "15523eb6-9888-4515-9a85-70ba9e22d96d",
    "papermill": {
     "duration": 0.292606,
     "end_time": "2022-09-23T22:47:06.913555",
     "exception": false,
     "start_time": "2022-09-23T22:47:06.620949",
     "status": "completed"
    },
    "tags": []
   },
   "outputs": [
    {
     "name": "stderr",
     "output_type": "stream",
     "text": [
      "c:\\Users\\Srinivas\\AppData\\Local\\Programs\\Python\\Python39\\lib\\site-packages\\statsmodels\\graphics\\tsaplots.py:348: FutureWarning: The default method 'yw' can produce PACF values outside of the [-1,1] interval. After 0.13, the default will change tounadjusted Yule-Walker ('ywm'). You can use this method now by setting method='ywm'.\n",
      "  warnings.warn(\n"
     ]
    },
    {
     "name": "stdout",
     "output_type": "stream",
     "text": [
      "\n"
     ]
    },
    {
     "data": {
      "image/png": "[encoded data removed]",
      "text/plain": [
       "<Figure size 1000x500 with 1 Axes>"
      ]
     },
     "metadata": {},
     "output_type": "display_data"
    }
   ],
   "source": [
    "plt.rc(\"figure\", figsize=(10,5))\n",
    "plot_pacf(data_vnd['value'])\n",
    "print()"
   ]
  },
  {
   "cell_type": "markdown",
   "id": "6b188f3a",
   "metadata": {
    "id": "6b188f3a",
    "papermill": {
     "duration": 0.015301,
     "end_time": "2022-09-23T22:47:06.945102",
     "exception": false,
     "start_time": "2022-09-23T22:47:06.929801",
     "status": "completed"
    },
    "tags": []
   },
   "source": [
    "## Observation - \n",
    "\n",
    "    Partial auto-correlation shows only few lag values are actually correlated. "
   ]
  },
  {
   "cell_type": "markdown",
   "id": "9a762341",
   "metadata": {
    "id": "9a762341",
    "papermill": {
     "duration": 0.01505,
     "end_time": "2022-09-23T22:47:06.976088",
     "exception": false,
     "start_time": "2022-09-23T22:47:06.961038",
     "status": "completed"
    },
    "tags": []
   },
   "source": [
    "# 4. Price forecasting"
   ]
  },
  {
   "cell_type": "markdown",
   "id": "b7e87074",
   "metadata": {
    "id": "b7e87074",
    "papermill": {
     "duration": 0.014698,
     "end_time": "2022-09-23T22:47:07.005980",
     "exception": false,
     "start_time": "2022-09-23T22:47:06.991282",
     "status": "completed"
    },
    "tags": []
   },
   "source": [
    "## 4.1 Train - Test Split"
   ]
  },
  {
   "cell_type": "code",
   "execution_count": 248,
   "id": "f9b251c6",
   "metadata": {
    "colab": {
     "base_uri": "https://localhost:8080/"
    },
    "execution": {
     "iopub.execute_input": "2022-09-23T22:47:07.040365Z",
     "iopub.status.busy": "2022-09-23T22:47:07.038923Z",
     "iopub.status.idle": "2022-09-23T22:47:07.047109Z",
     "shell.execute_reply": "2022-09-23T22:47:07.045286Z"
    },
    "id": "f9b251c6",
    "outputId": "b9beca9a-f5b1-48a2-fc3a-5e1143b98031",
    "papermill": {
     "duration": 0.028042,
     "end_time": "2022-09-23T22:47:07.049739",
     "exception": false,
     "start_time": "2022-09-23T22:47:07.021697",
     "status": "completed"
    },
    "tags": []
   },
   "outputs": [
    {
     "name": "stdout",
     "output_type": "stream",
     "text": [
      "Shape of data:  (321,)\n"
     ]
    }
   ],
   "source": [
    "data = data_vnd['value'].values\n",
    "print('Shape of data: ', data.shape)"
   ]
  },
  {
   "cell_type": "markdown",
   "id": "8a11f4de",
   "metadata": {
    "id": "8a11f4de",
    "papermill": {
     "duration": 0.015086,
     "end_time": "2022-09-23T22:47:07.080034",
     "exception": false,
     "start_time": "2022-09-23T22:47:07.064948",
     "status": "completed"
    },
    "tags": []
   },
   "source": [
    "## Observation - \n",
    "\n",
    "    Very few data points are available, so we will go for either ARIMA or LSTM with fewer nodes. "
   ]
  },
  {
   "cell_type": "code",
   "execution_count": 249,
   "id": "8c1449d8",
   "metadata": {
    "colab": {
     "base_uri": "https://localhost:8080/"
    },
    "execution": {
     "iopub.execute_input": "2022-09-23T22:47:07.114182Z",
     "iopub.status.busy": "2022-09-23T22:47:07.113782Z",
     "iopub.status.idle": "2022-09-23T22:47:07.120623Z",
     "shell.execute_reply": "2022-09-23T22:47:07.119240Z"
    },
    "id": "8c1449d8",
    "outputId": "f020955a-27f5-43e8-ea25-772802614c36",
    "papermill": {
     "duration": 0.02767,
     "end_time": "2022-09-23T22:47:07.124258",
     "exception": false,
     "start_time": "2022-09-23T22:47:07.096588",
     "status": "completed"
    },
    "tags": []
   },
   "outputs": [
    {
     "name": "stdout",
     "output_type": "stream",
     "text": [
      "Train length:  224\n",
      "Shape of Train and Test data:  224 97\n"
     ]
    }
   ],
   "source": [
    "# Separate train and test data\n",
    "train_length = int(len(data) * 0.7)\n",
    "print('Train length: ', train_length)\n",
    "\n",
    "train_data, test_data = data[:train_length], data[train_length:]\n",
    "print('Shape of Train and Test data: ', len(train_data), len(test_data))"
   ]
  },
  {
   "cell_type": "markdown",
   "id": "03a3dc50",
   "metadata": {
    "id": "03a3dc50",
    "papermill": {
     "duration": 0.014551,
     "end_time": "2022-09-23T22:47:07.155127",
     "exception": false,
     "start_time": "2022-09-23T22:47:07.140576",
     "status": "completed"
    },
    "tags": []
   },
   "source": [
    "## 4.2 Make time-series data supervised"
   ]
  },
  {
   "cell_type": "code",
   "execution_count": 250,
   "id": "b0769d46",
   "metadata": {
    "execution": {
     "iopub.execute_input": "2022-09-23T22:47:07.187785Z",
     "iopub.status.busy": "2022-09-23T22:47:07.187015Z",
     "iopub.status.idle": "2022-09-23T22:47:07.195801Z",
     "shell.execute_reply": "2022-09-23T22:47:07.193233Z"
    },
    "id": "b0769d46",
    "papermill": {
     "duration": 0.029417,
     "end_time": "2022-09-23T22:47:07.199610",
     "exception": false,
     "start_time": "2022-09-23T22:47:07.170193",
     "status": "completed"
    },
    "tags": []
   },
   "outputs": [],
   "source": [
    "# split a univariate sequence into supervised learning [Input and Output]\n",
    "from numpy import array\n",
    "def split_sequence(sequence, n_steps):\n",
    "    X, y = list(), list()\n",
    "    for i in range(len(sequence)):\n",
    "        end_ix = i + n_steps\n",
    "        if end_ix > len(sequence)-1:\n",
    "            break\n",
    "        seq_x, seq_y = sequence[i:end_ix], sequence[end_ix]\n",
    "        X.append(seq_x)\n",
    "        y.append(seq_y)\n",
    "    return array(X), array(y)"
   ]
  },
  {
   "cell_type": "markdown",
   "id": "90147eee",
   "metadata": {
    "id": "90147eee",
    "papermill": {
     "duration": 0.019595,
     "end_time": "2022-09-23T22:47:07.238557",
     "exception": false,
     "start_time": "2022-09-23T22:47:07.218962",
     "status": "completed"
    },
    "tags": []
   },
   "source": [
    "## 4.3 Choose Lag value"
   ]
  },
  {
   "cell_type": "code",
   "execution_count": 251,
   "id": "760f02dc",
   "metadata": {
    "execution": {
     "iopub.execute_input": "2022-09-23T22:47:07.278556Z",
     "iopub.status.busy": "2022-09-23T22:47:07.277797Z",
     "iopub.status.idle": "2022-09-23T22:47:07.282949Z",
     "shell.execute_reply": "2022-09-23T22:47:07.281973Z"
    },
    "id": "760f02dc",
    "papermill": {
     "duration": 0.026825,
     "end_time": "2022-09-23T22:47:07.285222",
     "exception": false,
     "start_time": "2022-09-23T22:47:07.258397",
     "status": "completed"
    },
    "tags": []
   },
   "outputs": [],
   "source": [
    "lag = 3  # Empirically we have choosen\n",
    "n_features = 1"
   ]
  },
  {
   "cell_type": "code",
   "execution_count": 252,
   "id": "90424d57",
   "metadata": {
    "execution": {
     "iopub.execute_input": "2022-09-23T22:47:07.325425Z",
     "iopub.status.busy": "2022-09-23T22:47:07.325018Z",
     "iopub.status.idle": "2022-09-23T22:47:07.331235Z",
     "shell.execute_reply": "2022-09-23T22:47:07.330241Z"
    },
    "id": "90424d57",
    "papermill": {
     "duration": 0.026938,
     "end_time": "2022-09-23T22:47:07.333714",
     "exception": false,
     "start_time": "2022-09-23T22:47:07.306776",
     "status": "completed"
    },
    "tags": []
   },
   "outputs": [],
   "source": [
    "train_X, train_y = split_sequence(train_data, lag)\n",
    "test_X, test_y = split_sequence(test_data, lag)"
   ]
  },
  {
   "cell_type": "code",
   "execution_count": 253,
   "id": "0a60c3fc",
   "metadata": {
    "colab": {
     "base_uri": "https://localhost:8080/"
    },
    "execution": {
     "iopub.execute_input": "2022-09-23T22:47:07.368102Z",
     "iopub.status.busy": "2022-09-23T22:47:07.367015Z",
     "iopub.status.idle": "2022-09-23T22:47:07.374122Z",
     "shell.execute_reply": "2022-09-23T22:47:07.372477Z"
    },
    "id": "0a60c3fc",
    "outputId": "6ae2f863-b786-4260-d6fe-e84681edb912",
    "papermill": {
     "duration": 0.027393,
     "end_time": "2022-09-23T22:47:07.376896",
     "exception": false,
     "start_time": "2022-09-23T22:47:07.349503",
     "status": "completed"
    },
    "tags": []
   },
   "outputs": [
    {
     "name": "stdout",
     "output_type": "stream",
     "text": [
      "Shape of train_X and train_y:  (221, 3) (221,)\n",
      "Shape of test_X and test_y:  (94, 3) (94,)\n"
     ]
    }
   ],
   "source": [
    "print('Shape of train_X and train_y: ', train_X.shape, train_y.shape)\n",
    "print('Shape of test_X and test_y: ', test_X.shape, test_y.shape)"
   ]
  },
  {
   "cell_type": "code",
   "execution_count": 254,
   "id": "11b7a456",
   "metadata": {
    "execution": {
     "iopub.execute_input": "2022-09-23T22:47:07.410820Z",
     "iopub.status.busy": "2022-09-23T22:47:07.409674Z",
     "iopub.status.idle": "2022-09-23T22:47:07.416275Z",
     "shell.execute_reply": "2022-09-23T22:47:07.415302Z"
    },
    "id": "11b7a456",
    "papermill": {
     "duration": 0.026035,
     "end_time": "2022-09-23T22:47:07.418721",
     "exception": false,
     "start_time": "2022-09-23T22:47:07.392686",
     "status": "completed"
    },
    "tags": []
   },
   "outputs": [],
   "source": [
    "train_X = train_X.reshape((train_X.shape[0], train_X.shape[1], n_features))\n",
    "test_X = test_X.reshape((test_X.shape[0], test_X.shape[1], n_features))"
   ]
  },
  {
   "cell_type": "code",
   "execution_count": 255,
   "id": "2a8987fb",
   "metadata": {
    "colab": {
     "base_uri": "https://localhost:8080/"
    },
    "execution": {
     "iopub.execute_input": "2022-09-23T22:47:07.451610Z",
     "iopub.status.busy": "2022-09-23T22:47:07.450853Z",
     "iopub.status.idle": "2022-09-23T22:47:07.456866Z",
     "shell.execute_reply": "2022-09-23T22:47:07.455963Z"
    },
    "id": "2a8987fb",
    "outputId": "120ef4de-9393-475c-9f5c-280b9a279e37",
    "papermill": {
     "duration": 0.026491,
     "end_time": "2022-09-23T22:47:07.460493",
     "exception": false,
     "start_time": "2022-09-23T22:47:07.434002",
     "status": "completed"
    },
    "tags": []
   },
   "outputs": [
    {
     "name": "stdout",
     "output_type": "stream",
     "text": [
      "Shape of train_X and train_y:  (221, 3, 1) (221,)\n",
      "Shape of test_X and test_y:  (94, 3, 1) (94,)\n"
     ]
    }
   ],
   "source": [
    "# New shape of train_X and test_X are :-\n",
    "print('Shape of train_X and train_y: ', train_X.shape, train_y.shape)\n",
    "print('Shape of test_X and test_y: ', test_X.shape, test_y.shape)\n"
   ]
  },
  {
   "cell_type": "markdown",
   "id": "78aefefa",
   "metadata": {
    "id": "78aefefa",
    "papermill": {
     "duration": 0.015087,
     "end_time": "2022-09-23T22:47:07.492040",
     "exception": false,
     "start_time": "2022-09-23T22:47:07.476953",
     "status": "completed"
    },
    "tags": []
   },
   "source": [
    "## 4.4 Define Model"
   ]
  },
  {
   "cell_type": "code",
   "execution_count": 256,
   "id": "819fc09a",
   "metadata": {
    "execution": {
     "iopub.execute_input": "2022-09-23T22:47:07.525578Z",
     "iopub.status.busy": "2022-09-23T22:47:07.524380Z",
     "iopub.status.idle": "2022-09-23T22:47:13.649200Z",
     "shell.execute_reply": "2022-09-23T22:47:13.647905Z"
    },
    "id": "819fc09a",
    "papermill": {
     "duration": 6.144305,
     "end_time": "2022-09-23T22:47:13.651780",
     "exception": false,
     "start_time": "2022-09-23T22:47:07.507475",
     "status": "completed"
    },
    "tags": []
   },
   "outputs": [],
   "source": [
    "from keras.models import Sequential\n",
    "from keras.layers import LSTM\n",
    "from keras.layers import Dense"
   ]
  },
  {
   "cell_type": "code",
   "execution_count": 257,
   "id": "17d57a82",
   "metadata": {
    "colab": {
     "base_uri": "https://localhost:8080/"
    },
    "execution": {
     "iopub.execute_input": "2022-09-23T22:47:13.686165Z",
     "iopub.status.busy": "2022-09-23T22:47:13.685379Z",
     "iopub.status.idle": "2022-09-23T22:47:13.943914Z",
     "shell.execute_reply": "2022-09-23T22:47:13.942674Z"
    },
    "id": "17d57a82",
    "outputId": "3f355ce1-f633-4784-a801-394c820db421",
    "papermill": {
     "duration": 0.27924,
     "end_time": "2022-09-23T22:47:13.947202",
     "exception": false,
     "start_time": "2022-09-23T22:47:13.667962",
     "status": "completed"
    },
    "tags": []
   },
   "outputs": [
    {
     "name": "stdout",
     "output_type": "stream",
     "text": [
      "Model: \"sequential_7\"\n",
      "_________________________________________________________________\n",
      " Layer (type)                Output Shape              Param #   \n",
      "=================================================================\n",
      " lstm_7 (LSTM)               (None, 16)                1152      \n",
      "                                                                 \n",
      " dense_7 (Dense)             (None, 1)                 17        \n",
      "                                                                 \n",
      "=================================================================\n",
      "Total params: 1,169\n",
      "Trainable params: 1,169\n",
      "Non-trainable params: 0\n",
      "_________________________________________________________________\n"
     ]
    }
   ],
   "source": [
    "# define model\n",
    "model = Sequential()\n",
    "model.add(LSTM(16, activation='relu', return_sequences=False, input_shape=(lag, n_features)))\n",
    "model.add(Dense(1))\n",
    "model.compile(optimizer='adam', loss='mse')\n",
    "model.summary()"
   ]
  },
  {
   "cell_type": "markdown",
   "id": "a768be7f",
   "metadata": {
    "id": "a768be7f",
    "papermill": {
     "duration": 0.014905,
     "end_time": "2022-09-23T22:47:13.977262",
     "exception": false,
     "start_time": "2022-09-23T22:47:13.962357",
     "status": "completed"
    },
    "tags": []
   },
   "source": [
    "## 4.5 Fit the model - with training data"
   ]
  },
  {
   "cell_type": "code",
   "execution_count": 258,
   "id": "38600237",
   "metadata": {
    "_kg_hide-input": true,
    "execution": {
     "iopub.execute_input": "2022-09-23T22:47:14.010242Z",
     "iopub.status.busy": "2022-09-23T22:47:14.009111Z",
     "iopub.status.idle": "2022-09-23T22:47:14.014681Z",
     "shell.execute_reply": "2022-09-23T22:47:14.013873Z"
    },
    "id": "38600237",
    "papermill": {
     "duration": 0.024222,
     "end_time": "2022-09-23T22:47:14.016761",
     "exception": false,
     "start_time": "2022-09-23T22:47:13.992539",
     "status": "completed"
    },
    "tags": []
   },
   "outputs": [],
   "source": [
    "# As you are trying to use function decorator in TF 2.0, \n",
    "# please enable run function eagerly by using below line after importing TensorFlow:\n",
    "import tensorflow as tf\n",
    "tf.config.run_functions_eagerly(True)"
   ]
  },
  {
   "cell_type": "code",
   "execution_count": 259,
   "id": "9307cadd",
   "metadata": {
    "_kg_hide-output": true,
    "colab": {
     "base_uri": "https://localhost:8080/"
    },
    "execution": {
     "iopub.execute_input": "2022-09-23T22:47:14.050655Z",
     "iopub.status.busy": "2022-09-23T22:47:14.049988Z",
     "iopub.status.idle": "2022-09-23T22:47:27.953993Z",
     "shell.execute_reply": "2022-09-23T22:47:27.952507Z"
    },
    "id": "9307cadd",
    "outputId": "917647b7-7938-4428-ca28-647f635d4ecf",
    "papermill": {
     "duration": 13.924079,
     "end_time": "2022-09-23T22:47:27.956918",
     "exception": false,
     "start_time": "2022-09-23T22:47:14.032839",
     "status": "completed"
    },
    "tags": []
   },
   "outputs": [
    {
     "name": "stdout",
     "output_type": "stream",
     "text": [
      "Epoch 1/25\n",
      " 4/25 [===>..........................] - ETA: 0s - loss: 543160704.0000"
     ]
    },
    {
     "name": "stderr",
     "output_type": "stream",
     "text": [
      "c:\\Users\\Srinivas\\AppData\\Local\\Programs\\Python\\Python39\\lib\\site-packages\\tensorflow\\python\\data\\ops\\structured_function.py:264: UserWarning: Even though the `tf.config.experimental_run_functions_eagerly` option is set, this option does not apply to tf.data functions. To force eager execution of tf.data functions, please use `tf.data.experimental.enable_debug_mode()`.\n",
      "  warnings.warn(\n"
     ]
    },
    {
     "name": "stdout",
     "output_type": "stream",
     "text": [
      "25/25 [==============================] - 1s 28ms/step - loss: 516424800.0000 - val_loss: 435213728.0000\n",
      "Epoch 2/25\n",
      "25/25 [==============================] - 1s 26ms/step - loss: 452096160.0000 - val_loss: 369400032.0000\n",
      "Epoch 3/25\n",
      "25/25 [==============================] - 1s 29ms/step - loss: 369736192.0000 - val_loss: 286803520.0000\n",
      "Epoch 4/25\n",
      "25/25 [==============================] - 1s 26ms/step - loss: 271200640.0000 - val_loss: 193976048.0000\n",
      "Epoch 5/25\n",
      "25/25 [==============================] - 1s 30ms/step - loss: 168587040.0000 - val_loss: 105700240.0000\n",
      "Epoch 6/25\n",
      "25/25 [==============================] - 1s 25ms/step - loss: 81076888.0000 - val_loss: 41217084.0000\n",
      "Epoch 7/25\n",
      "25/25 [==============================] - 1s 23ms/step - loss: 26512372.0000 - val_loss: 9459808.0000\n",
      "Epoch 8/25\n",
      "25/25 [==============================] - 1s 23ms/step - loss: 4847786.5000 - val_loss: 983483.1250\n",
      "Epoch 9/25\n",
      "25/25 [==============================] - 1s 23ms/step - loss: 388615.6875 - val_loss: 54240.2188\n",
      "Epoch 10/25\n",
      "25/25 [==============================] - 1s 24ms/step - loss: 26447.3594 - val_loss: 41790.2734\n",
      "Epoch 11/25\n",
      "25/25 [==============================] - 1s 30ms/step - loss: 23137.9336 - val_loss: 41217.6445\n",
      "Epoch 12/25\n",
      "25/25 [==============================] - 1s 23ms/step - loss: 22468.8711 - val_loss: 39822.8516\n",
      "Epoch 13/25\n",
      "25/25 [==============================] - 1s 24ms/step - loss: 22325.7500 - val_loss: 39391.9766\n",
      "Epoch 14/25\n",
      "25/25 [==============================] - 1s 23ms/step - loss: 22341.1875 - val_loss: 39446.4688\n",
      "Epoch 15/25\n",
      "25/25 [==============================] - 1s 23ms/step - loss: 22379.2402 - val_loss: 39349.4922\n",
      "Epoch 16/25\n",
      "25/25 [==============================] - 1s 24ms/step - loss: 22348.3281 - val_loss: 39564.1562\n",
      "Epoch 17/25\n",
      "25/25 [==============================] - 1s 23ms/step - loss: 22403.0312 - val_loss: 39581.8594\n",
      "Epoch 18/25\n",
      "25/25 [==============================] - 1s 24ms/step - loss: 22345.4922 - val_loss: 39548.0156\n",
      "Epoch 19/25\n",
      "25/25 [==============================] - 1s 23ms/step - loss: 22388.7266 - val_loss: 39837.4492\n",
      "Epoch 20/25\n",
      "25/25 [==============================] - 1s 24ms/step - loss: 22294.8887 - val_loss: 39289.8320\n",
      "Epoch 21/25\n",
      "25/25 [==============================] - 1s 23ms/step - loss: 22435.6406 - val_loss: 39449.4219\n",
      "Epoch 22/25\n",
      "25/25 [==============================] - 1s 23ms/step - loss: 22447.8262 - val_loss: 39537.2148\n",
      "Epoch 23/25\n",
      "25/25 [==============================] - 1s 23ms/step - loss: 22366.2188 - val_loss: 39786.7188\n",
      "Epoch 24/25\n",
      "25/25 [==============================] - 1s 23ms/step - loss: 22369.2051 - val_loss: 39407.1797\n",
      "Epoch 25/25\n",
      "25/25 [==============================] - 1s 23ms/step - loss: 22418.9512 - val_loss: 39329.7266\n"
     ]
    }
   ],
   "source": [
    "# fit model\n",
    "history = model.fit(train_X, train_y, epochs = 25, batch_size=8, verbose=1, validation_split= 0.1)"
   ]
  },
  {
   "cell_type": "markdown",
   "id": "4368f207",
   "metadata": {
    "id": "4368f207",
    "papermill": {
     "duration": 0.032655,
     "end_time": "2022-09-23T22:47:28.022002",
     "exception": false,
     "start_time": "2022-09-23T22:47:27.989347",
     "status": "completed"
    },
    "tags": []
   },
   "source": [
    "## 4.6 Summarize model Loss"
   ]
  },
  {
   "cell_type": "code",
   "execution_count": 260,
   "id": "a132a89c",
   "metadata": {
    "colab": {
     "base_uri": "https://localhost:8080/",
     "height": 350
    },
    "execution": {
     "iopub.execute_input": "2022-09-23T22:47:28.089629Z",
     "iopub.status.busy": "2022-09-23T22:47:28.088404Z",
     "iopub.status.idle": "2022-09-23T22:47:28.319418Z",
     "shell.execute_reply": "2022-09-23T22:47:28.318058Z"
    },
    "id": "a132a89c",
    "outputId": "cee397e6-e1e0-4bb0-9a3c-15b8391c4d30",
    "papermill": {
     "duration": 0.267092,
     "end_time": "2022-09-23T22:47:28.322007",
     "exception": false,
     "start_time": "2022-09-23T22:47:28.054915",
     "status": "completed"
    },
    "tags": []
   },
   "outputs": [
    {
     "data": {
      "image/png": "[encoded data removed]",
      "text/plain": [
       "<Figure size 1000x500 with 1 Axes>"
      ]
     },
     "metadata": {},
     "output_type": "display_data"
    }
   ],
   "source": [
    "# summarize history for loss\n",
    "plt.plot(history.history['loss'])\n",
    "plt.plot(history.history['val_loss'])\n",
    "plt.title('model loss')\n",
    "plt.ylabel('loss')\n",
    "plt.xlabel('epoch')\n",
    "plt.legend(['train', 'test'], loc='upper left')\n",
    "plt.show()"
   ]
  },
  {
   "cell_type": "markdown",
   "id": "7e926fbb",
   "metadata": {
    "id": "7e926fbb",
    "papermill": {
     "duration": 0.031598,
     "end_time": "2022-09-23T22:47:28.385996",
     "exception": false,
     "start_time": "2022-09-23T22:47:28.354398",
     "status": "completed"
    },
    "tags": []
   },
   "source": [
    "## Obs - \n",
    "\n",
    "    We could have stopped in 10th epoch"
   ]
  },
  {
   "cell_type": "markdown",
   "id": "fa2c04cc",
   "metadata": {
    "id": "fa2c04cc",
    "papermill": {
     "duration": 0.031282,
     "end_time": "2022-09-23T22:47:28.449787",
     "exception": false,
     "start_time": "2022-09-23T22:47:28.418505",
     "status": "completed"
    },
    "tags": []
   },
   "source": [
    "## 4.7 Make prediction - with Test data"
   ]
  },
  {
   "cell_type": "code",
   "execution_count": 261,
   "id": "749b072e",
   "metadata": {
    "colab": {
     "base_uri": "https://localhost:8080/"
    },
    "execution": {
     "iopub.execute_input": "2022-09-23T22:47:28.514960Z",
     "iopub.status.busy": "2022-09-23T22:47:28.514556Z",
     "iopub.status.idle": "2022-09-23T22:47:28.700924Z",
     "shell.execute_reply": "2022-09-23T22:47:28.699840Z"
    },
    "id": "749b072e",
    "outputId": "be419c2f-cc6c-4fed-c8fe-2abd533924eb",
    "papermill": {
     "duration": 0.221877,
     "end_time": "2022-09-23T22:47:28.703493",
     "exception": false,
     "start_time": "2022-09-23T22:47:28.481616",
     "status": "completed"
    },
    "tags": []
   },
   "outputs": [
    {
     "name": "stdout",
     "output_type": "stream",
     "text": [
      "7/7 [==============================] - 0s 10ms/step\n",
      "3/3 [==============================] - 0s 9ms/step\n",
      "Shape of train and test predict:  (221, 1) (94, 1)\n"
     ]
    }
   ],
   "source": [
    "train_predict = model.predict(train_X)\n",
    "test_predict = model.predict(test_X)\n",
    "\n",
    "print('Shape of train and test predict: ', train_predict.shape, test_predict.shape)"
   ]
  },
  {
   "cell_type": "markdown",
   "id": "c4b18896",
   "metadata": {
    "id": "c4b18896",
    "papermill": {
     "duration": 0.032149,
     "end_time": "2022-09-23T22:47:28.767344",
     "exception": false,
     "start_time": "2022-09-23T22:47:28.735195",
     "status": "completed"
    },
    "tags": []
   },
   "source": [
    "## 4.8 Model evaluation"
   ]
  },
  {
   "cell_type": "code",
   "execution_count": 262,
   "id": "098f0a74",
   "metadata": {
    "colab": {
     "base_uri": "https://localhost:8080/"
    },
    "execution": {
     "iopub.execute_input": "2022-09-23T22:47:28.836301Z",
     "iopub.status.busy": "2022-09-23T22:47:28.835299Z",
     "iopub.status.idle": "2022-09-23T22:47:29.051197Z",
     "shell.execute_reply": "2022-09-23T22:47:29.049921Z"
    },
    "id": "098f0a74",
    "outputId": "0d1e4b65-50f4-448b-acc2-7df7a66be260",
    "papermill": {
     "duration": 0.253183,
     "end_time": "2022-09-23T22:47:29.053799",
     "exception": false,
     "start_time": "2022-09-23T22:47:28.800616",
     "status": "completed"
    },
    "tags": []
   },
   "outputs": [
    {
     "name": "stdout",
     "output_type": "stream",
     "text": [
      "Train and Test RMSE:  155.14273028174946 219.69221310603382\n"
     ]
    }
   ],
   "source": [
    "# root mean squared error or rmse\n",
    "import math\n",
    "from sklearn.metrics import mean_squared_error\n",
    "\n",
    "def measure_rmse(actual, predicted):\n",
    "    return math.sqrt(mean_squared_error(actual, predicted))\n",
    "\n",
    "train_score = measure_rmse(train_y, train_predict)\n",
    "test_score = measure_rmse(test_y, test_predict)\n",
    "\n",
    "print('Train and Test RMSE: ', train_score, test_score)"
   ]
  },
  {
   "cell_type": "markdown",
   "id": "a6b591cf",
   "metadata": {
    "id": "a6b591cf",
    "papermill": {
     "duration": 0.03281,
     "end_time": "2022-09-23T22:47:29.119741",
     "exception": false,
     "start_time": "2022-09-23T22:47:29.086931",
     "status": "completed"
    },
    "tags": []
   },
   "source": [
    "## 4.9 Plot test data and Predicted data"
   ]
  },
  {
   "cell_type": "code",
   "execution_count": 263,
   "id": "00fadbe5",
   "metadata": {
    "colab": {
     "base_uri": "https://localhost:8080/",
     "height": 528
    },
    "execution": {
     "iopub.execute_input": "2022-09-23T22:47:29.187301Z",
     "iopub.status.busy": "2022-09-23T22:47:29.186909Z",
     "iopub.status.idle": "2022-09-23T22:47:29.492724Z",
     "shell.execute_reply": "2022-09-23T22:47:29.491418Z"
    },
    "id": "00fadbe5",
    "outputId": "dafd7ec5-a15c-4a67-e2a9-33df71c6050e",
    "papermill": {
     "duration": 0.342737,
     "end_time": "2022-09-23T22:47:29.495240",
     "exception": false,
     "start_time": "2022-09-23T22:47:29.152503",
     "status": "completed"
    },
    "tags": []
   },
   "outputs": [
    {
     "data": {
      "image/png": "[encoded data removed]",
      "text/plain": [
       "<Figure size 1400x800 with 1 Axes>"
      ]
     },
     "metadata": {},
     "output_type": "display_data"
    }
   ],
   "source": [
    "plt.rc(\"figure\", figsize=(14,8))\n",
    "plt.rcParams.update({'font.size': 16})\n",
    "plt.plot(test_y, label = 'Actual')\n",
    "plt.plot(test_predict, label = 'Predicted')\n",
    "plt.xlabel('Time [in days]')\n",
    "plt.ylabel('VND price')\n",
    "plt.title('Currency price (VND) prediction using LSTM - Test data')\n",
    "plt.legend()\n",
    "plt.show()"
   ]
  }
 ],
 "metadata": {
  "colab": {
   "provenance": []
  },
  "kernelspec": {
   "display_name": "Python 3 (ipykernel)",
   "language": "python",
   "name": "python3"
  },
  "language_info": {
   "codemirror_mode": {
    "name": "ipython",
    "version": 3
   },
   "file_extension": ".py",
   "mimetype": "text/x-python",
   "name": "python",
   "nbconvert_exporter": "python",
   "pygments_lexer": "ipython3",
   "version": "3.9.12"
  },
  "papermill": {
   "default_parameters": {},
   "duration": 38.239406,
   "end_time": "2022-09-23T22:47:33.061572",
   "environment_variables": {},
   "exception": null,
   "input_path": "__notebook__.ipynb",
   "output_path": "__notebook__.ipynb",
   "parameters": {},
   "start_time": "2022-09-23T22:46:54.822166",
   "version": "2.3.4"
  },
  "vscode": {
   "interpreter": {
    "hash": "8ae516d0ed06d26c985dd46d5b2c33d6aac542d7928f038c598c75b8acdeed10"
   }
  }
 },
 "nbformat": 4,
 "nbformat_minor": 5
}
