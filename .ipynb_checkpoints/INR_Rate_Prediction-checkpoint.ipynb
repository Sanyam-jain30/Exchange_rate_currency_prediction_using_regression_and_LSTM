{
 "cells": [
  {
   "cell_type": "code",
   "execution_count": 1,
   "id": "f9067d74",
   "metadata": {},
   "outputs": [],
   "source": [
    "# Importing libraries\n",
    "import numpy as np\n",
    "import pandas as pd\n",
    "import matplotlib.pyplot as plt"
   ]
  },
  {
   "cell_type": "markdown",
   "id": "2d2a4652",
   "metadata": {},
   "source": [
    "# EDA"
   ]
  },
  {
   "cell_type": "code",
   "execution_count": 2,
   "id": "9ac34ff1",
   "metadata": {},
   "outputs": [],
   "source": [
    "#Importing dataset\n",
    "df = pd.read_csv(\"Foreign_Exchange_Rates.csv\")"
   ]
  },
  {
   "cell_type": "code",
   "execution_count": 3,
   "id": "4067959c",
   "metadata": {},
   "outputs": [
    {
     "data": {
      "text/html": [
       "<div>\n",
       "<style scoped>\n",
       "    .dataframe tbody tr th:only-of-type {\n",
       "        vertical-align: middle;\n",
       "    }\n",
       "\n",
       "    .dataframe tbody tr th {\n",
       "        vertical-align: top;\n",
       "    }\n",
       "\n",
       "    .dataframe thead th {\n",
       "        text-align: right;\n",
       "    }\n",
       "</style>\n",
       "<table border=\"1\" class=\"dataframe\">\n",
       "  <thead>\n",
       "    <tr style=\"text-align: right;\">\n",
       "      <th></th>\n",
       "      <th>Unnamed: 0</th>\n",
       "      <th>Country/Currency</th>\n",
       "      <th>currency</th>\n",
       "      <th>value</th>\n",
       "      <th>date</th>\n",
       "    </tr>\n",
       "  </thead>\n",
       "  <tbody>\n",
       "    <tr>\n",
       "      <th>0</th>\n",
       "      <td>0</td>\n",
       "      <td>Australia Dollar</td>\n",
       "      <td>AUD</td>\n",
       "      <td>1.581627</td>\n",
       "      <td>17-12-2021</td>\n",
       "    </tr>\n",
       "    <tr>\n",
       "      <th>1</th>\n",
       "      <td>1</td>\n",
       "      <td>Great Britain Pound</td>\n",
       "      <td>GBP</td>\n",
       "      <td>0.851619</td>\n",
       "      <td>17-12-2021</td>\n",
       "    </tr>\n",
       "    <tr>\n",
       "      <th>2</th>\n",
       "      <td>2</td>\n",
       "      <td>Euro</td>\n",
       "      <td>EUR</td>\n",
       "      <td>1.000000</td>\n",
       "      <td>17-12-2021</td>\n",
       "    </tr>\n",
       "    <tr>\n",
       "      <th>3</th>\n",
       "      <td>3</td>\n",
       "      <td>Japan Yen</td>\n",
       "      <td>JPY</td>\n",
       "      <td>128.301759</td>\n",
       "      <td>17-12-2021</td>\n",
       "    </tr>\n",
       "    <tr>\n",
       "      <th>4</th>\n",
       "      <td>4</td>\n",
       "      <td>Switzerland Franc</td>\n",
       "      <td>CHF</td>\n",
       "      <td>1.041015</td>\n",
       "      <td>17-12-2021</td>\n",
       "    </tr>\n",
       "  </tbody>\n",
       "</table>\n",
       "</div>"
      ],
      "text/plain": [
       "   Unnamed: 0     Country/Currency currency       value        date\n",
       "0           0     Australia Dollar      AUD    1.581627  17-12-2021\n",
       "1           1  Great Britain Pound      GBP    0.851619  17-12-2021\n",
       "2           2                 Euro      EUR    1.000000  17-12-2021\n",
       "3           3            Japan Yen      JPY  128.301759  17-12-2021\n",
       "4           4    Switzerland Franc      CHF    1.041015  17-12-2021"
      ]
     },
     "execution_count": 3,
     "metadata": {},
     "output_type": "execute_result"
    }
   ],
   "source": [
    "df.head()"
   ]
  },
  {
   "cell_type": "code",
   "execution_count": 4,
   "id": "4766acb4",
   "metadata": {},
   "outputs": [
    {
     "data": {
      "text/html": [
       "<div>\n",
       "<style scoped>\n",
       "    .dataframe tbody tr th:only-of-type {\n",
       "        vertical-align: middle;\n",
       "    }\n",
       "\n",
       "    .dataframe tbody tr th {\n",
       "        vertical-align: top;\n",
       "    }\n",
       "\n",
       "    .dataframe thead th {\n",
       "        text-align: right;\n",
       "    }\n",
       "</style>\n",
       "<table border=\"1\" class=\"dataframe\">\n",
       "  <thead>\n",
       "    <tr style=\"text-align: right;\">\n",
       "      <th></th>\n",
       "      <th>Unnamed: 0</th>\n",
       "      <th>Country/Currency</th>\n",
       "      <th>currency</th>\n",
       "      <th>value</th>\n",
       "      <th>date</th>\n",
       "    </tr>\n",
       "  </thead>\n",
       "  <tbody>\n",
       "    <tr>\n",
       "      <th>67</th>\n",
       "      <td>67</td>\n",
       "      <td>India Rupee</td>\n",
       "      <td>INR</td>\n",
       "      <td>86.052225</td>\n",
       "      <td>17-12-2021</td>\n",
       "    </tr>\n",
       "    <tr>\n",
       "      <th>217</th>\n",
       "      <td>217</td>\n",
       "      <td>India Rupee</td>\n",
       "      <td>INR</td>\n",
       "      <td>85.424708</td>\n",
       "      <td>18-12-2021</td>\n",
       "    </tr>\n",
       "    <tr>\n",
       "      <th>367</th>\n",
       "      <td>367</td>\n",
       "      <td>India Rupee</td>\n",
       "      <td>INR</td>\n",
       "      <td>85.424708</td>\n",
       "      <td>19-12-2021</td>\n",
       "    </tr>\n",
       "    <tr>\n",
       "      <th>517</th>\n",
       "      <td>517</td>\n",
       "      <td>India Rupee</td>\n",
       "      <td>INR</td>\n",
       "      <td>85.497443</td>\n",
       "      <td>20-12-2021</td>\n",
       "    </tr>\n",
       "    <tr>\n",
       "      <th>667</th>\n",
       "      <td>667</td>\n",
       "      <td>India Rupee</td>\n",
       "      <td>INR</td>\n",
       "      <td>85.525694</td>\n",
       "      <td>21-12-2021</td>\n",
       "    </tr>\n",
       "  </tbody>\n",
       "</table>\n",
       "</div>"
      ],
      "text/plain": [
       "     Unnamed: 0 Country/Currency currency      value        date\n",
       "67           67      India Rupee      INR  86.052225  17-12-2021\n",
       "217         217      India Rupee      INR  85.424708  18-12-2021\n",
       "367         367      India Rupee      INR  85.424708  19-12-2021\n",
       "517         517      India Rupee      INR  85.497443  20-12-2021\n",
       "667         667      India Rupee      INR  85.525694  21-12-2021"
      ]
     },
     "execution_count": 4,
     "metadata": {},
     "output_type": "execute_result"
    }
   ],
   "source": [
    "df_INR = df.loc[df.currency == 'INR']\n",
    "df_INR.head()"
   ]
  },
  {
   "cell_type": "code",
   "execution_count": 5,
   "id": "c297ad78",
   "metadata": {},
   "outputs": [
    {
     "data": {
      "text/plain": [
       "Index(['Unnamed: 0', 'Country/Currency', 'currency', 'value', 'date'], dtype='object')"
      ]
     },
     "execution_count": 5,
     "metadata": {},
     "output_type": "execute_result"
    }
   ],
   "source": [
    "df.columns"
   ]
  },
  {
   "cell_type": "code",
   "execution_count": 6,
   "id": "2ac0af9e",
   "metadata": {},
   "outputs": [],
   "source": [
    "# Let's remove the unwanted first column\n",
    "df_INR = df_INR.drop(columns=df_INR.columns[0])"
   ]
  },
  {
   "cell_type": "code",
   "execution_count": 7,
   "id": "72456169",
   "metadata": {},
   "outputs": [
    {
     "data": {
      "text/plain": [
       "Country/Currency     object\n",
       "currency             object\n",
       "value               float64\n",
       "date                 object\n",
       "dtype: object"
      ]
     },
     "execution_count": 7,
     "metadata": {},
     "output_type": "execute_result"
    }
   ],
   "source": [
    "df_INR.dtypes"
   ]
  },
  {
   "cell_type": "code",
   "execution_count": 8,
   "id": "50de2104",
   "metadata": {},
   "outputs": [],
   "source": [
    "# converting date to datetime64[ns] type\n",
    "df_INR['date'] = pd.to_datetime(df_INR['date'], format='%d-%m-%Y', dayfirst=True)"
   ]
  },
  {
   "cell_type": "code",
   "execution_count": 9,
   "id": "40fc798a",
   "metadata": {},
   "outputs": [
    {
     "data": {
      "text/plain": [
       "0"
      ]
     },
     "execution_count": 9,
     "metadata": {},
     "output_type": "execute_result"
    }
   ],
   "source": [
    "#Find the duplicates\n",
    "df_INR.duplicated().sum()"
   ]
  },
  {
   "cell_type": "code",
   "execution_count": 10,
   "id": "5dfcee1d",
   "metadata": {},
   "outputs": [],
   "source": [
    "# As we are calculating for INR we don't need Country/Currency and currency column\n",
    "df_INR = df_INR.drop(columns=df_INR.columns[:2])"
   ]
  },
  {
   "cell_type": "code",
   "execution_count": 11,
   "id": "37b27380",
   "metadata": {},
   "outputs": [
    {
     "data": {
      "text/html": [
       "<div>\n",
       "<style scoped>\n",
       "    .dataframe tbody tr th:only-of-type {\n",
       "        vertical-align: middle;\n",
       "    }\n",
       "\n",
       "    .dataframe tbody tr th {\n",
       "        vertical-align: top;\n",
       "    }\n",
       "\n",
       "    .dataframe thead th {\n",
       "        text-align: right;\n",
       "    }\n",
       "</style>\n",
       "<table border=\"1\" class=\"dataframe\">\n",
       "  <thead>\n",
       "    <tr style=\"text-align: right;\">\n",
       "      <th></th>\n",
       "      <th>value</th>\n",
       "      <th>date</th>\n",
       "    </tr>\n",
       "  </thead>\n",
       "  <tbody>\n",
       "    <tr>\n",
       "      <th>67</th>\n",
       "      <td>86.052225</td>\n",
       "      <td>2021-12-17</td>\n",
       "    </tr>\n",
       "    <tr>\n",
       "      <th>217</th>\n",
       "      <td>85.424708</td>\n",
       "      <td>2021-12-18</td>\n",
       "    </tr>\n",
       "    <tr>\n",
       "      <th>367</th>\n",
       "      <td>85.424708</td>\n",
       "      <td>2021-12-19</td>\n",
       "    </tr>\n",
       "    <tr>\n",
       "      <th>517</th>\n",
       "      <td>85.497443</td>\n",
       "      <td>2021-12-20</td>\n",
       "    </tr>\n",
       "    <tr>\n",
       "      <th>667</th>\n",
       "      <td>85.525694</td>\n",
       "      <td>2021-12-21</td>\n",
       "    </tr>\n",
       "  </tbody>\n",
       "</table>\n",
       "</div>"
      ],
      "text/plain": [
       "         value       date\n",
       "67   86.052225 2021-12-17\n",
       "217  85.424708 2021-12-18\n",
       "367  85.424708 2021-12-19\n",
       "517  85.497443 2021-12-20\n",
       "667  85.525694 2021-12-21"
      ]
     },
     "execution_count": 11,
     "metadata": {},
     "output_type": "execute_result"
    }
   ],
   "source": [
    "df_INR.head()"
   ]
  },
  {
   "cell_type": "code",
   "execution_count": 12,
   "id": "ebc6362c",
   "metadata": {},
   "outputs": [],
   "source": [
    "# We can get date month and year part from the date column\n",
    "df_INR['month'] = df_INR['date'].dt.month\n",
    "df_INR['year'] = df_INR['date'].dt.year\n",
    "df_INR['day'] = df_INR['date'].dt.day\n",
    "df_INR['day_of_week'] = df_INR['date'].dt.weekday"
   ]
  },
  {
   "cell_type": "code",
   "execution_count": 13,
   "id": "1b8bf0e0",
   "metadata": {},
   "outputs": [
    {
     "data": {
      "text/html": [
       "<div>\n",
       "<style scoped>\n",
       "    .dataframe tbody tr th:only-of-type {\n",
       "        vertical-align: middle;\n",
       "    }\n",
       "\n",
       "    .dataframe tbody tr th {\n",
       "        vertical-align: top;\n",
       "    }\n",
       "\n",
       "    .dataframe thead th {\n",
       "        text-align: right;\n",
       "    }\n",
       "</style>\n",
       "<table border=\"1\" class=\"dataframe\">\n",
       "  <thead>\n",
       "    <tr style=\"text-align: right;\">\n",
       "      <th></th>\n",
       "      <th>value</th>\n",
       "      <th>date</th>\n",
       "      <th>month</th>\n",
       "      <th>year</th>\n",
       "      <th>day</th>\n",
       "      <th>day_of_week</th>\n",
       "    </tr>\n",
       "  </thead>\n",
       "  <tbody>\n",
       "    <tr>\n",
       "      <th>67</th>\n",
       "      <td>86.052225</td>\n",
       "      <td>2021-12-17</td>\n",
       "      <td>12</td>\n",
       "      <td>2021</td>\n",
       "      <td>17</td>\n",
       "      <td>4</td>\n",
       "    </tr>\n",
       "    <tr>\n",
       "      <th>217</th>\n",
       "      <td>85.424708</td>\n",
       "      <td>2021-12-18</td>\n",
       "      <td>12</td>\n",
       "      <td>2021</td>\n",
       "      <td>18</td>\n",
       "      <td>5</td>\n",
       "    </tr>\n",
       "    <tr>\n",
       "      <th>367</th>\n",
       "      <td>85.424708</td>\n",
       "      <td>2021-12-19</td>\n",
       "      <td>12</td>\n",
       "      <td>2021</td>\n",
       "      <td>19</td>\n",
       "      <td>6</td>\n",
       "    </tr>\n",
       "    <tr>\n",
       "      <th>517</th>\n",
       "      <td>85.497443</td>\n",
       "      <td>2021-12-20</td>\n",
       "      <td>12</td>\n",
       "      <td>2021</td>\n",
       "      <td>20</td>\n",
       "      <td>0</td>\n",
       "    </tr>\n",
       "    <tr>\n",
       "      <th>667</th>\n",
       "      <td>85.525694</td>\n",
       "      <td>2021-12-21</td>\n",
       "      <td>12</td>\n",
       "      <td>2021</td>\n",
       "      <td>21</td>\n",
       "      <td>1</td>\n",
       "    </tr>\n",
       "  </tbody>\n",
       "</table>\n",
       "</div>"
      ],
      "text/plain": [
       "         value       date  month  year  day  day_of_week\n",
       "67   86.052225 2021-12-17     12  2021   17            4\n",
       "217  85.424708 2021-12-18     12  2021   18            5\n",
       "367  85.424708 2021-12-19     12  2021   19            6\n",
       "517  85.497443 2021-12-20     12  2021   20            0\n",
       "667  85.525694 2021-12-21     12  2021   21            1"
      ]
     },
     "execution_count": 13,
     "metadata": {},
     "output_type": "execute_result"
    }
   ],
   "source": [
    "df_INR.head()"
   ]
  },
  {
   "cell_type": "code",
   "execution_count": 14,
   "id": "a5c5a192",
   "metadata": {},
   "outputs": [
    {
     "data": {
      "text/plain": [
       "0"
      ]
     },
     "execution_count": 14,
     "metadata": {},
     "output_type": "execute_result"
    }
   ],
   "source": [
    "#Find the duplicates\n",
    "df_INR.duplicated().sum()"
   ]
  },
  {
   "cell_type": "markdown",
   "id": "cea7899e",
   "metadata": {},
   "source": [
    "# Chaos Test"
   ]
  },
  {
   "cell_type": "code",
   "execution_count": 15,
   "id": "78361392",
   "metadata": {},
   "outputs": [
    {
     "data": {
      "text/html": [
       "<div>\n",
       "<style scoped>\n",
       "    .dataframe tbody tr th:only-of-type {\n",
       "        vertical-align: middle;\n",
       "    }\n",
       "\n",
       "    .dataframe tbody tr th {\n",
       "        vertical-align: top;\n",
       "    }\n",
       "\n",
       "    .dataframe thead th {\n",
       "        text-align: right;\n",
       "    }\n",
       "</style>\n",
       "<table border=\"1\" class=\"dataframe\">\n",
       "  <thead>\n",
       "    <tr style=\"text-align: right;\">\n",
       "      <th></th>\n",
       "      <th>value</th>\n",
       "      <th>date</th>\n",
       "      <th>month</th>\n",
       "      <th>year</th>\n",
       "      <th>day</th>\n",
       "      <th>day_of_week</th>\n",
       "    </tr>\n",
       "  </thead>\n",
       "  <tbody>\n",
       "    <tr>\n",
       "      <th>67</th>\n",
       "      <td>86.052225</td>\n",
       "      <td>2021-12-17</td>\n",
       "      <td>12</td>\n",
       "      <td>2021</td>\n",
       "      <td>17</td>\n",
       "      <td>4</td>\n",
       "    </tr>\n",
       "    <tr>\n",
       "      <th>217</th>\n",
       "      <td>85.424708</td>\n",
       "      <td>2021-12-18</td>\n",
       "      <td>12</td>\n",
       "      <td>2021</td>\n",
       "      <td>18</td>\n",
       "      <td>5</td>\n",
       "    </tr>\n",
       "    <tr>\n",
       "      <th>367</th>\n",
       "      <td>85.424708</td>\n",
       "      <td>2021-12-19</td>\n",
       "      <td>12</td>\n",
       "      <td>2021</td>\n",
       "      <td>19</td>\n",
       "      <td>6</td>\n",
       "    </tr>\n",
       "    <tr>\n",
       "      <th>517</th>\n",
       "      <td>85.497443</td>\n",
       "      <td>2021-12-20</td>\n",
       "      <td>12</td>\n",
       "      <td>2021</td>\n",
       "      <td>20</td>\n",
       "      <td>0</td>\n",
       "    </tr>\n",
       "    <tr>\n",
       "      <th>667</th>\n",
       "      <td>85.525694</td>\n",
       "      <td>2021-12-21</td>\n",
       "      <td>12</td>\n",
       "      <td>2021</td>\n",
       "      <td>21</td>\n",
       "      <td>1</td>\n",
       "    </tr>\n",
       "  </tbody>\n",
       "</table>\n",
       "</div>"
      ],
      "text/plain": [
       "         value       date  month  year  day  day_of_week\n",
       "67   86.052225 2021-12-17     12  2021   17            4\n",
       "217  85.424708 2021-12-18     12  2021   18            5\n",
       "367  85.424708 2021-12-19     12  2021   19            6\n",
       "517  85.497443 2021-12-20     12  2021   20            0\n",
       "667  85.525694 2021-12-21     12  2021   21            1"
      ]
     },
     "execution_count": 15,
     "metadata": {},
     "output_type": "execute_result"
    }
   ],
   "source": [
    "# Converting the date into time series\n",
    "df_INR['date'] = pd.to_datetime(df_INR['date'])\n",
    "df_INR.head()"
   ]
  },
  {
   "cell_type": "code",
   "execution_count": 16,
   "id": "9fda884c",
   "metadata": {},
   "outputs": [],
   "source": [
    "# Finding Lyapunov exponent for the time series\n",
    "from math import log\n",
    "\n",
    "def dis(series, i, j):\n",
    "    return (abs(series[i] - series[j])).days\n",
    "\n",
    "series = pd.to_datetime(df_INR['date'].values)\n",
    "N = len(series)\n",
    "eps = 0.01 # Initial diameter bound\n",
    "lyapunovs = [[] for i in range(N)]\n",
    "\n",
    "for i in range(N):\n",
    "    for j in range(i + 1, N):\n",
    "        if dis(series, i, j) < eps:\n",
    "            for k in range(min(N - i, N - j)):\n",
    "                lyapunovs[k].append(log(dis(series, i+k, j+k)) if dis(series, i+k, j+k)>0 else 1)\n",
    "                \n",
    "# for i in range(len(lyapunovs)):\n",
    "#     if len(lyapunovs[i]):\n",
    "#         print(series[i], sum(lyapunovs[i]) / len(lyapunovs[i]))"
   ]
  },
  {
   "cell_type": "code",
   "execution_count": 17,
   "id": "2082fd75",
   "metadata": {},
   "outputs": [
    {
     "data": {
      "image/png": "[encoded data removed]",
      "text/plain": [
       "<Figure size 432x288 with 1 Axes>"
      ]
     },
     "metadata": {
      "needs_background": "light"
     },
     "output_type": "display_data"
    }
   ],
   "source": [
    "arr = []\n",
    "for x in lyapunovs:\n",
    "    if len(x)>0:\n",
    "        arr.append(max(x))\n",
    "    else:\n",
    "        arr.append(0)\n",
    "\n",
    "DF = pd.DataFrame()\n",
    "DF['value'] = arr\n",
    "DF = DF.set_index(pd.to_datetime(df_INR['date']))\n",
    "\n",
    "plt.plot(DF)\n",
    "plt.gcf().autofmt_xdate()\n",
    "plt.show()"
   ]
  },
  {
   "cell_type": "markdown",
   "id": "bf1555af",
   "metadata": {},
   "source": [
    "# ADF Test"
   ]
  },
  {
   "cell_type": "code",
   "execution_count": 18,
   "id": "d9ef84ea",
   "metadata": {},
   "outputs": [
    {
     "name": "stdout",
     "output_type": "stream",
     "text": [
      "ADF Statistic: -2.3001940814468083\n",
      "p-value: 0.17190538402702799\n",
      "Critial Values:\n",
      "   1%, -3.450951662384033\n",
      "Critial Values:\n",
      "   5%, -2.8706147570800784\n",
      "Critial Values:\n",
      "   10%, -2.571604931640625\n"
     ]
    }
   ],
   "source": [
    "# check for Stationarity - ADF Test\n",
    "from statsmodels.tsa.stattools import adfuller\n",
    "\n",
    "result = adfuller(df_INR['value'].values, autolag='AIC')\n",
    "print(f'ADF Statistic: {result[0]}')\n",
    "print(f'p-value: {result[1]}')\n",
    "for key, value in result[4].items():\n",
    "    print('Critial Values:')\n",
    "    print(f'   {key}, {value}')"
   ]
  },
  {
   "cell_type": "code",
   "execution_count": 19,
   "id": "ac79f0bc",
   "metadata": {},
   "outputs": [
    {
     "data": {
      "text/plain": [
       "\"\\nFrom ADF test, it's observed that, data is not stationary. \\nWe can see p-value is 17% (usually it must be less than 0.05 or 5%), \\nand ADF-stat value is greater than all the critical values. \\n\\nBoth these values confirms the data to be Non-Stationary\\n\""
      ]
     },
     "execution_count": 19,
     "metadata": {},
     "output_type": "execute_result"
    }
   ],
   "source": [
    "\"\"\"\n",
    "From ADF test, it's observed that, data is not stationary. \n",
    "We can see p-value is 17% (usually it must be less than 0.05 or 5%), \n",
    "and ADF-stat value is greater than all the critical values. \n",
    "\n",
    "Both these values confirms the data to be Non-Stationary\n",
    "\"\"\""
   ]
  },
  {
   "cell_type": "markdown",
   "id": "762088c9",
   "metadata": {},
   "source": [
    "# Splitting the dataset"
   ]
  },
  {
   "cell_type": "code",
   "execution_count": 20,
   "id": "22c076bf",
   "metadata": {},
   "outputs": [],
   "source": [
    "X = df_INR.iloc[:, 2:].values\n",
    "y = df_INR.iloc[:, 0].values"
   ]
  },
  {
   "cell_type": "code",
   "execution_count": 21,
   "id": "b7dfda44",
   "metadata": {},
   "outputs": [
    {
     "data": {
      "text/plain": [
       "(321, 4)"
      ]
     },
     "execution_count": 21,
     "metadata": {},
     "output_type": "execute_result"
    }
   ],
   "source": [
    "X.shape"
   ]
  },
  {
   "cell_type": "code",
   "execution_count": 22,
   "id": "42d10d14",
   "metadata": {},
   "outputs": [
    {
     "data": {
      "text/plain": [
       "(321,)"
      ]
     },
     "execution_count": 22,
     "metadata": {},
     "output_type": "execute_result"
    }
   ],
   "source": [
    "y.shape"
   ]
  },
  {
   "cell_type": "code",
   "execution_count": 23,
   "id": "96117eb8",
   "metadata": {},
   "outputs": [],
   "source": [
    "# Splitting the dataset into the Training set and Test set\n",
    "from sklearn.model_selection import train_test_split\n",
    "\n",
    "X_train, X_test, y_train, y_test = train_test_split(X, y, test_size=0.25, random_state=0)"
   ]
  },
  {
   "cell_type": "code",
   "execution_count": 24,
   "id": "07256aa9",
   "metadata": {},
   "outputs": [],
   "source": [
    "# SMAPE function - Symmetric mean absolute percentage error\n",
    "def smape(A, F):\n",
    "    return 100/len(A) * np.sum(2 * np.abs(F - A) / (np.abs(A) + np.abs(F)))"
   ]
  },
  {
   "cell_type": "code",
   "execution_count": 25,
   "id": "4ab13084",
   "metadata": {},
   "outputs": [],
   "source": [
    "# Direction Symmetry - It gives the percentage of occurrences in which the sign of the change in value from one time period to the next is the same for both the actual and predicted time series\n",
    "def ds(A, F):\n",
    "    sum_A = 0\n",
    "    for i in range(1, len(A)):\n",
    "        sum_A += 1 if (A[i]-A[i-1])*(F[i]-F[i-1])>0 else 0\n",
    "    return (100*sum_A)/(len(A)-1)"
   ]
  },
  {
   "cell_type": "code",
   "execution_count": 26,
   "id": "72fde686",
   "metadata": {},
   "outputs": [],
   "source": [
    "# Theil's U coefficient - The greater accuracy of the forecast, the lower will be the value of the u1\n",
    "def u1(A,F):\n",
    "    data = pd.DataFrame({'A_i':A, 'F_i': F})\n",
    "    data['(A_i - F_i)^2'] = np.square(data['A_i'] - data['F_i'])\n",
    "    data['F_i^2'] = np.square(data['F_i'])\n",
    "    data['A_i^2'] = np.square(data['A_i'])\n",
    "    return (np.sqrt(np.mean(data['(A_i - F_i)^2'])))/(np.sqrt(np.mean(data['F_i^2']))+np.sqrt(np.mean(data['A_i^2'])))"
   ]
  },
  {
   "cell_type": "markdown",
   "id": "25814449",
   "metadata": {},
   "source": [
    "# Linear Regression"
   ]
  },
  {
   "cell_type": "code",
   "execution_count": 27,
   "id": "2d3e12e3",
   "metadata": {},
   "outputs": [],
   "source": [
    "# Fitting Linear Regression in dataset\n",
    "from sklearn.linear_model import LinearRegression\n",
    "\n",
    "lr = LinearRegression()\n",
    "lr.fit(X_train, y_train)\n",
    "y_pred = lr.predict(X_test)"
   ]
  },
  {
   "cell_type": "code",
   "execution_count": 33,
   "id": "4a4b5478",
   "metadata": {},
   "outputs": [
    {
     "name": "stdout",
     "output_type": "stream",
     "text": [
      "R2 score:  0.7418405361733843\n",
      "MSE 1.106049122210072\n",
      "RMSE 1.0516887002388453\n"
     ]
    }
   ],
   "source": [
    "import math\n",
    "from sklearn.metrics import r2_score, mean_squared_error\n",
    "\n",
    "print(\"R2 score: \", r2_score(y_test, y_pred))\n",
    "print(\"MSE\", mean_squared_error(y_test, y_pred))\n",
    "print(\"RMSE\", math.sqrt(mean_squared_error(y_test, y_pred)))"
   ]
  },
  {
   "cell_type": "markdown",
   "id": "da119921",
   "metadata": {},
   "source": [
    " SMAPE prediction"
   ]
  },
  {
   "cell_type": "code",
   "execution_count": 34,
   "id": "2c71d99b",
   "metadata": {
    "scrolled": true
   },
   "outputs": [
    {
     "name": "stdout",
     "output_type": "stream",
     "text": [
      "1.0389807338320558\n"
     ]
    }
   ],
   "source": [
    "print(smape(y_test, y_pred))"
   ]
  },
  {
   "cell_type": "markdown",
   "id": "465fbae5",
   "metadata": {},
   "source": [
    " Direction Symmetry prediction"
   ]
  },
  {
   "cell_type": "code",
   "execution_count": 35,
   "id": "6a9eb750",
   "metadata": {},
   "outputs": [
    {
     "name": "stdout",
     "output_type": "stream",
     "text": [
      "81.25\n"
     ]
    }
   ],
   "source": [
    "print(ds(y_test, y_pred))"
   ]
  },
  {
   "cell_type": "markdown",
   "id": "7193247f",
   "metadata": {},
   "source": [
    " Theil's U coefficient prediction"
   ]
  },
  {
   "cell_type": "code",
   "execution_count": 36,
   "id": "a59db065",
   "metadata": {},
   "outputs": [
    {
     "name": "stdout",
     "output_type": "stream",
     "text": [
      "0.00637153165725196\n"
     ]
    }
   ],
   "source": [
    "print(u1(y_test, y_pred))"
   ]
  },
  {
   "cell_type": "code",
   "execution_count": 37,
   "id": "8762d5cc",
   "metadata": {
    "scrolled": true
   },
   "outputs": [
    {
     "data": {
      "image/png": "[encoded data removed]",
      "text/plain": [
       "<Figure size 432x288 with 1 Axes>"
      ]
     },
     "metadata": {
      "needs_background": "light"
     },
     "output_type": "display_data"
    }
   ],
   "source": [
    "plt.plot(y_test, color=\"r\")\n",
    "plt.plot(y_pred, color=\"b\")\n",
    "plt.xlabel(\"Preiod\")\n",
    "plt.ylabel(\"Value\")\n",
    "plt.show()"
   ]
  },
  {
   "cell_type": "markdown",
   "id": "66f3609a",
   "metadata": {},
   "source": [
    "# Polynomial Regression"
   ]
  },
  {
   "cell_type": "code",
   "execution_count": 38,
   "id": "fe14a60e",
   "metadata": {},
   "outputs": [],
   "source": [
    "# Fitting Polynomial Regression in dataset\n",
    "from sklearn.preprocessing import PolynomialFeatures\n",
    "\n",
    "poly = PolynomialFeatures(degree=2, include_bias=True)\n",
    "X_train_trans = poly.fit_transform(X_train)\n",
    "X_test_trans = poly.transform(X_test)\n",
    "\n",
    "lr = LinearRegression()\n",
    "lr.fit(X_train_trans, y_train)\n",
    "y_pred = lr.predict(X_test_trans)"
   ]
  },
  {
   "cell_type": "code",
   "execution_count": 39,
   "id": "9fae03f1",
   "metadata": {},
   "outputs": [
    {
     "name": "stdout",
     "output_type": "stream",
     "text": [
      "R2 score:  0.7497895432426632\n",
      "MSE 1.0719926822055235\n",
      "RMSE 1.0353707945492394\n"
     ]
    }
   ],
   "source": [
    "import math\n",
    "from sklearn.metrics import r2_score, mean_squared_error\n",
    "\n",
    "print(\"R2 score: \", r2_score(y_test, y_pred))\n",
    "print(\"MSE\", mean_squared_error(y_test, y_pred))\n",
    "print(\"RMSE\", math.sqrt(mean_squared_error(y_test, y_pred)))"
   ]
  },
  {
   "cell_type": "markdown",
   "id": "bddae741",
   "metadata": {},
   "source": [
    " SMAPE prediction"
   ]
  },
  {
   "cell_type": "code",
   "execution_count": 40,
   "id": "8b4094dd",
   "metadata": {},
   "outputs": [
    {
     "name": "stdout",
     "output_type": "stream",
     "text": [
      "1.040735488675978\n"
     ]
    }
   ],
   "source": [
    "print(smape(y_test, y_pred))"
   ]
  },
  {
   "cell_type": "markdown",
   "id": "00b39051",
   "metadata": {},
   "source": [
    " Direction Symmetry prediction"
   ]
  },
  {
   "cell_type": "code",
   "execution_count": 41,
   "id": "8d9dc147",
   "metadata": {
    "scrolled": true
   },
   "outputs": [
    {
     "name": "stdout",
     "output_type": "stream",
     "text": [
      "83.75\n"
     ]
    }
   ],
   "source": [
    "print(ds(y_test, y_pred))"
   ]
  },
  {
   "cell_type": "markdown",
   "id": "fa42d11e",
   "metadata": {},
   "source": [
    " Theil's U coefficient prediction"
   ]
  },
  {
   "cell_type": "code",
   "execution_count": 42,
   "id": "b7190d6b",
   "metadata": {},
   "outputs": [
    {
     "name": "stdout",
     "output_type": "stream",
     "text": [
      "0.0062726952798330465\n"
     ]
    }
   ],
   "source": [
    "print(u1(y_test, y_pred))"
   ]
  },
  {
   "cell_type": "code",
   "execution_count": 43,
   "id": "e31a23fa",
   "metadata": {
    "scrolled": true
   },
   "outputs": [
    {
     "data": {
      "image/png": "[encoded data removed]",
      "text/plain": [
       "<Figure size 432x288 with 1 Axes>"
      ]
     },
     "metadata": {
      "needs_background": "light"
     },
     "output_type": "display_data"
    }
   ],
   "source": [
    "plt.plot(y_test, color=\"r\")\n",
    "plt.plot(y_pred, color=\"b\")\n",
    "plt.xlabel(\"Preiod\")\n",
    "plt.ylabel(\"Value\")\n",
    "plt.show()"
   ]
  },
  {
   "cell_type": "markdown",
   "id": "2867597d",
   "metadata": {},
   "source": [
    "# LSTM"
   ]
  },
  {
   "cell_type": "code",
   "execution_count": 44,
   "id": "484bd753",
   "metadata": {},
   "outputs": [],
   "source": [
    "# Feature scaling\n",
    "from sklearn.preprocessing import StandardScaler\n",
    "\n",
    "sc_X = StandardScaler()\n",
    "X_train = sc_X.fit_transform(X_train)\n",
    "X_test = sc_X.transform(X_test)\n",
    "\n",
    "sc_y = StandardScaler()\n",
    "y_train = sc_y.fit_transform(y_train.reshape(-1,1))"
   ]
  },
  {
   "cell_type": "code",
   "execution_count": 45,
   "id": "c11235f0",
   "metadata": {},
   "outputs": [
    {
     "name": "stdout",
     "output_type": "stream",
     "text": [
      "Model: \"sequential\"\n",
      "_________________________________________________________________\n",
      " Layer (type)                Output Shape              Param #   \n",
      "=================================================================\n",
      " lstm (LSTM)                 (None, 1, 256)            267264    \n",
      "                                                                 \n",
      " lstm_1 (LSTM)               (None, 128)               197120    \n",
      "                                                                 \n",
      " dense (Dense)               (None, 1)                 129       \n",
      "                                                                 \n",
      "=================================================================\n",
      "Total params: 464,513\n",
      "Trainable params: 464,513\n",
      "Non-trainable params: 0\n",
      "_________________________________________________________________\n"
     ]
    }
   ],
   "source": [
    "from keras.models import Sequential\n",
    "from keras.layers import LSTM\n",
    "from keras.layers import Dense\n",
    "\n",
    "# define model\n",
    "model = Sequential()\n",
    "model.add(LSTM(256, activation='relu', return_sequences=True, input_shape=(1, X_train.shape[1])))\n",
    "model.add(LSTM(128))\n",
    "model.add(Dense(1))\n",
    "model.compile(optimizer='adam', loss='mse')\n",
    "model.summary()"
   ]
  },
  {
   "cell_type": "code",
   "execution_count": 46,
   "id": "0fdb6dc9",
   "metadata": {},
   "outputs": [
    {
     "name": "stdout",
     "output_type": "stream",
     "text": [
      "Epoch 1/25\n",
      "27/27 [==============================] - 4s 46ms/step - loss: 0.9401 - val_loss: 0.7435\n",
      "Epoch 2/25\n",
      "27/27 [==============================] - 0s 7ms/step - loss: 0.5633 - val_loss: 0.2472\n",
      "Epoch 3/25\n",
      "27/27 [==============================] - 0s 7ms/step - loss: 0.2540 - val_loss: 0.2483\n",
      "Epoch 4/25\n",
      "27/27 [==============================] - 0s 7ms/step - loss: 0.2422 - val_loss: 0.2490\n",
      "Epoch 5/25\n",
      "27/27 [==============================] - 0s 6ms/step - loss: 0.2378 - val_loss: 0.2527\n",
      "Epoch 6/25\n",
      "27/27 [==============================] - 0s 6ms/step - loss: 0.2397 - val_loss: 0.2676\n",
      "Epoch 7/25\n",
      "27/27 [==============================] - 0s 7ms/step - loss: 0.2266 - val_loss: 0.2536\n",
      "Epoch 8/25\n",
      "27/27 [==============================] - 0s 7ms/step - loss: 0.2255 - val_loss: 0.2526\n",
      "Epoch 9/25\n",
      "27/27 [==============================] - 0s 6ms/step - loss: 0.2244 - val_loss: 0.2581\n",
      "Epoch 10/25\n",
      "27/27 [==============================] - 0s 6ms/step - loss: 0.2271 - val_loss: 0.2528\n",
      "Epoch 11/25\n",
      "27/27 [==============================] - 0s 7ms/step - loss: 0.2214 - val_loss: 0.2621\n",
      "Epoch 12/25\n",
      "27/27 [==============================] - 0s 6ms/step - loss: 0.2173 - val_loss: 0.2591\n",
      "Epoch 13/25\n",
      "27/27 [==============================] - 0s 6ms/step - loss: 0.2192 - val_loss: 0.2558\n",
      "Epoch 14/25\n",
      "27/27 [==============================] - 0s 7ms/step - loss: 0.2172 - val_loss: 0.2682\n",
      "Epoch 15/25\n",
      "27/27 [==============================] - 0s 6ms/step - loss: 0.2177 - val_loss: 0.2476\n",
      "Epoch 16/25\n",
      "27/27 [==============================] - 0s 6ms/step - loss: 0.2184 - val_loss: 0.2500\n",
      "Epoch 17/25\n",
      "27/27 [==============================] - 0s 6ms/step - loss: 0.2150 - val_loss: 0.2517\n",
      "Epoch 18/25\n",
      "27/27 [==============================] - 0s 7ms/step - loss: 0.2157 - val_loss: 0.2627\n",
      "Epoch 19/25\n",
      "27/27 [==============================] - 0s 7ms/step - loss: 0.2134 - val_loss: 0.2514\n",
      "Epoch 20/25\n",
      "27/27 [==============================] - 0s 6ms/step - loss: 0.2102 - val_loss: 0.2658\n",
      "Epoch 21/25\n",
      "27/27 [==============================] - 0s 7ms/step - loss: 0.2058 - val_loss: 0.2489\n",
      "Epoch 22/25\n",
      "27/27 [==============================] - 0s 5ms/step - loss: 0.2038 - val_loss: 0.2489\n",
      "Epoch 23/25\n",
      "27/27 [==============================] - 0s 6ms/step - loss: 0.2035 - val_loss: 0.2506\n",
      "Epoch 24/25\n",
      "27/27 [==============================] - 0s 6ms/step - loss: 0.2064 - val_loss: 0.2474\n",
      "Epoch 25/25\n",
      "27/27 [==============================] - 0s 5ms/step - loss: 0.2030 - val_loss: 0.2561\n"
     ]
    }
   ],
   "source": [
    "# fit model\n",
    "X_train = np.reshape(X_train, (X_train.shape[0], 1, 4))\n",
    "X_test = np.reshape(X_test, (X_test.shape[0], 1, 4))\n",
    "history = model.fit(X_train, y_train, epochs=25, batch_size=8, verbose=1, validation_split=0.1)"
   ]
  },
  {
   "cell_type": "code",
   "execution_count": 47,
   "id": "a2729145",
   "metadata": {},
   "outputs": [
    {
     "data": {
      "image/png": "[encoded data removed]",
      "text/plain": [
       "<Figure size 432x288 with 1 Axes>"
      ]
     },
     "metadata": {
      "needs_background": "light"
     },
     "output_type": "display_data"
    }
   ],
   "source": [
    "# summarize history for loss\n",
    "plt.plot(history.history['loss'])\n",
    "plt.plot(history.history['val_loss'])\n",
    "plt.title('model loss')\n",
    "plt.ylabel('loss')\n",
    "plt.xlabel('epoch')\n",
    "plt.legend(['train', 'test'], loc='upper left')\n",
    "plt.show()"
   ]
  },
  {
   "cell_type": "code",
   "execution_count": 48,
   "id": "591a0b9d",
   "metadata": {},
   "outputs": [
    {
     "name": "stdout",
     "output_type": "stream",
     "text": [
      "8/8 [==============================] - 1s 2ms/step\n",
      "3/3 [==============================] - 0s 4ms/step\n",
      "Shape of train and test predict:  (240, 1) (81, 1)\n"
     ]
    }
   ],
   "source": [
    "train_predict = model.predict(X_train)\n",
    "test_predict = model.predict(X_test)\n",
    "test_predict = sc_y.inverse_transform(test_predict)\n",
    "\n",
    "print('Shape of train and test predict: ', train_predict.shape, test_predict.shape)"
   ]
  },
  {
   "cell_type": "code",
   "execution_count": 49,
   "id": "5d6547b0",
   "metadata": {},
   "outputs": [
    {
     "name": "stdout",
     "output_type": "stream",
     "text": [
      "Train and Test RMSE:  0.4489607195567458 1.009484682883901\n"
     ]
    }
   ],
   "source": [
    "# root mean squared error or rmse\n",
    "import math\n",
    "from sklearn.metrics import mean_squared_error\n",
    "\n",
    "def measure_rmse(actual, predicted):\n",
    "    return math.sqrt(mean_squared_error(actual, predicted))\n",
    "\n",
    "train_score = measure_rmse(y_train, train_predict)\n",
    "test_score = measure_rmse(y_test, test_predict)\n",
    "\n",
    "print('Train and Test RMSE: ', train_score, test_score)"
   ]
  },
  {
   "cell_type": "code",
   "execution_count": 50,
   "id": "78c5f15c",
   "metadata": {},
   "outputs": [
    {
     "name": "stdout",
     "output_type": "stream",
     "text": [
      "R2 score:  0.7497895432426632\n",
      "MSE 1.0719926822055235\n",
      "RMSE 1.0353707945492394\n"
     ]
    }
   ],
   "source": [
    "import math\n",
    "from sklearn.metrics import r2_score, mean_squared_error\n",
    "\n",
    "print(\"R2 score: \", r2_score(y_test, y_pred))\n",
    "print(\"MSE\", mean_squared_error(y_test, y_pred))\n",
    "print(\"RMSE\", math.sqrt(mean_squared_error(y_test, y_pred)))"
   ]
  },
  {
   "cell_type": "markdown",
   "id": "d5fd3c2c",
   "metadata": {},
   "source": [
    " SMAPE prediction"
   ]
  },
  {
   "cell_type": "code",
   "execution_count": 51,
   "id": "d5a0cfa6",
   "metadata": {},
   "outputs": [
    {
     "name": "stdout",
     "output_type": "stream",
     "text": [
      "1.040735488675978\n"
     ]
    }
   ],
   "source": [
    "print(smape(y_test, y_pred))"
   ]
  },
  {
   "cell_type": "markdown",
   "id": "965f1c6c",
   "metadata": {},
   "source": [
    " Direction Symmetry prediction"
   ]
  },
  {
   "cell_type": "code",
   "execution_count": 52,
   "id": "dc287f4a",
   "metadata": {
    "scrolled": true
   },
   "outputs": [
    {
     "name": "stdout",
     "output_type": "stream",
     "text": [
      "83.75\n"
     ]
    }
   ],
   "source": [
    "print(ds(y_test, y_pred))"
   ]
  },
  {
   "cell_type": "markdown",
   "id": "c692c518",
   "metadata": {},
   "source": [
    " Theil's U coefficient prediction"
   ]
  },
  {
   "cell_type": "code",
   "execution_count": 53,
   "id": "8a3ad3b6",
   "metadata": {},
   "outputs": [
    {
     "name": "stdout",
     "output_type": "stream",
     "text": [
      "0.0062726952798330465\n"
     ]
    }
   ],
   "source": [
    "print(u1(y_test, y_pred))"
   ]
  },
  {
   "cell_type": "code",
   "execution_count": 54,
   "id": "c8adb6e2",
   "metadata": {
    "scrolled": true
   },
   "outputs": [
    {
     "data": {
      "image/png": "[encoded data removed]",
      "text/plain": [
       "<Figure size 1008x576 with 1 Axes>"
      ]
     },
     "metadata": {
      "needs_background": "light"
     },
     "output_type": "display_data"
    }
   ],
   "source": [
    "plt.rc(\"figure\", figsize=(14, 8))\n",
    "plt.rcParams.update({'font.size': 16})\n",
    "plt.plot(y_test, label='Actual')\n",
    "plt.plot(test_predict, label='Predicted')\n",
    "plt.xlabel('Period')\n",
    "plt.ylabel('INR price')\n",
    "plt.title('Currency price (INR) prediction using LSTM - Test data')\n",
    "plt.legend()\n",
    "plt.show()"
   ]
  },
  {
   "cell_type": "code",
   "execution_count": null,
   "id": "07e24408",
   "metadata": {},
   "outputs": [],
   "source": []
  }
 ],
 "metadata": {
  "kernelspec": {
   "display_name": "Python 3 (ipykernel)",
   "language": "python",
   "name": "python3"
  },
  "language_info": {
   "codemirror_mode": {
    "name": "ipython",
    "version": 3
   },
   "file_extension": ".py",
   "mimetype": "text/x-python",
   "name": "python",
   "nbconvert_exporter": "python",
   "pygments_lexer": "ipython3",
   "version": "3.9.12"
  }
 },
 "nbformat": 4,
 "nbformat_minor": 5
}
