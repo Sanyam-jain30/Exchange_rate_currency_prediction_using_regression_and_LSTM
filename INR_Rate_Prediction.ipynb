{
 "cells": [
  {
   "cell_type": "code",
   "execution_count": 1048,
   "id": "f9067d74",
   "metadata": {},
   "outputs": [],
   "source": [
    "# Importing libraries\n",
    "import numpy as np\n",
    "import pandas as pd\n",
    "import matplotlib.pyplot as plt\n",
    "import warnings\n",
    "warnings.filterwarnings('ignore')"
   ]
  },
  {
   "cell_type": "markdown",
   "id": "2d2a4652",
   "metadata": {},
   "source": [
    "# EDA"
   ]
  },
  {
   "cell_type": "code",
   "execution_count": 1049,
   "id": "9ac34ff1",
   "metadata": {},
   "outputs": [],
   "source": [
    "#Importing dataset\n",
    "df = pd.read_csv(\"Foreign_Exchange_Rates.csv\")"
   ]
  },
  {
   "cell_type": "code",
   "execution_count": 1050,
   "id": "4067959c",
   "metadata": {},
   "outputs": [
    {
     "data": {
      "text/html": [
       "<div>\n",
       "<style scoped>\n",
       "    .dataframe tbody tr th:only-of-type {\n",
       "        vertical-align: middle;\n",
       "    }\n",
       "\n",
       "    .dataframe tbody tr th {\n",
       "        vertical-align: top;\n",
       "    }\n",
       "\n",
       "    .dataframe thead th {\n",
       "        text-align: right;\n",
       "    }\n",
       "</style>\n",
       "<table border=\"1\" class=\"dataframe\">\n",
       "  <thead>\n",
       "    <tr style=\"text-align: right;\">\n",
       "      <th></th>\n",
       "      <th>Unnamed: 0</th>\n",
       "      <th>Country/Currency</th>\n",
       "      <th>currency</th>\n",
       "      <th>value</th>\n",
       "      <th>date</th>\n",
       "    </tr>\n",
       "  </thead>\n",
       "  <tbody>\n",
       "    <tr>\n",
       "      <th>0</th>\n",
       "      <td>0</td>\n",
       "      <td>Australia Dollar</td>\n",
       "      <td>AUD</td>\n",
       "      <td>1.581627</td>\n",
       "      <td>17-12-2021</td>\n",
       "    </tr>\n",
       "    <tr>\n",
       "      <th>1</th>\n",
       "      <td>1</td>\n",
       "      <td>Great Britain Pound</td>\n",
       "      <td>GBP</td>\n",
       "      <td>0.851619</td>\n",
       "      <td>17-12-2021</td>\n",
       "    </tr>\n",
       "    <tr>\n",
       "      <th>2</th>\n",
       "      <td>2</td>\n",
       "      <td>Euro</td>\n",
       "      <td>EUR</td>\n",
       "      <td>1.000000</td>\n",
       "      <td>17-12-2021</td>\n",
       "    </tr>\n",
       "    <tr>\n",
       "      <th>3</th>\n",
       "      <td>3</td>\n",
       "      <td>Japan Yen</td>\n",
       "      <td>JPY</td>\n",
       "      <td>128.301759</td>\n",
       "      <td>17-12-2021</td>\n",
       "    </tr>\n",
       "    <tr>\n",
       "      <th>4</th>\n",
       "      <td>4</td>\n",
       "      <td>Switzerland Franc</td>\n",
       "      <td>CHF</td>\n",
       "      <td>1.041015</td>\n",
       "      <td>17-12-2021</td>\n",
       "    </tr>\n",
       "  </tbody>\n",
       "</table>\n",
       "</div>"
      ],
      "text/plain": [
       "   Unnamed: 0     Country/Currency currency       value        date\n",
       "0           0     Australia Dollar      AUD    1.581627  17-12-2021\n",
       "1           1  Great Britain Pound      GBP    0.851619  17-12-2021\n",
       "2           2                 Euro      EUR    1.000000  17-12-2021\n",
       "3           3            Japan Yen      JPY  128.301759  17-12-2021\n",
       "4           4    Switzerland Franc      CHF    1.041015  17-12-2021"
      ]
     },
     "execution_count": 1050,
     "metadata": {},
     "output_type": "execute_result"
    }
   ],
   "source": [
    "df.head()"
   ]
  },
  {
   "cell_type": "code",
   "execution_count": 1051,
   "id": "4766acb4",
   "metadata": {},
   "outputs": [
    {
     "data": {
      "text/html": [
       "<div>\n",
       "<style scoped>\n",
       "    .dataframe tbody tr th:only-of-type {\n",
       "        vertical-align: middle;\n",
       "    }\n",
       "\n",
       "    .dataframe tbody tr th {\n",
       "        vertical-align: top;\n",
       "    }\n",
       "\n",
       "    .dataframe thead th {\n",
       "        text-align: right;\n",
       "    }\n",
       "</style>\n",
       "<table border=\"1\" class=\"dataframe\">\n",
       "  <thead>\n",
       "    <tr style=\"text-align: right;\">\n",
       "      <th></th>\n",
       "      <th>Unnamed: 0</th>\n",
       "      <th>Country/Currency</th>\n",
       "      <th>currency</th>\n",
       "      <th>value</th>\n",
       "      <th>date</th>\n",
       "    </tr>\n",
       "  </thead>\n",
       "  <tbody>\n",
       "    <tr>\n",
       "      <th>67</th>\n",
       "      <td>67</td>\n",
       "      <td>India Rupee</td>\n",
       "      <td>INR</td>\n",
       "      <td>86.052225</td>\n",
       "      <td>17-12-2021</td>\n",
       "    </tr>\n",
       "    <tr>\n",
       "      <th>217</th>\n",
       "      <td>217</td>\n",
       "      <td>India Rupee</td>\n",
       "      <td>INR</td>\n",
       "      <td>85.424708</td>\n",
       "      <td>18-12-2021</td>\n",
       "    </tr>\n",
       "    <tr>\n",
       "      <th>367</th>\n",
       "      <td>367</td>\n",
       "      <td>India Rupee</td>\n",
       "      <td>INR</td>\n",
       "      <td>85.424708</td>\n",
       "      <td>19-12-2021</td>\n",
       "    </tr>\n",
       "    <tr>\n",
       "      <th>517</th>\n",
       "      <td>517</td>\n",
       "      <td>India Rupee</td>\n",
       "      <td>INR</td>\n",
       "      <td>85.497443</td>\n",
       "      <td>20-12-2021</td>\n",
       "    </tr>\n",
       "    <tr>\n",
       "      <th>667</th>\n",
       "      <td>667</td>\n",
       "      <td>India Rupee</td>\n",
       "      <td>INR</td>\n",
       "      <td>85.525694</td>\n",
       "      <td>21-12-2021</td>\n",
       "    </tr>\n",
       "  </tbody>\n",
       "</table>\n",
       "</div>"
      ],
      "text/plain": [
       "     Unnamed: 0 Country/Currency currency      value        date\n",
       "67           67      India Rupee      INR  86.052225  17-12-2021\n",
       "217         217      India Rupee      INR  85.424708  18-12-2021\n",
       "367         367      India Rupee      INR  85.424708  19-12-2021\n",
       "517         517      India Rupee      INR  85.497443  20-12-2021\n",
       "667         667      India Rupee      INR  85.525694  21-12-2021"
      ]
     },
     "execution_count": 1051,
     "metadata": {},
     "output_type": "execute_result"
    }
   ],
   "source": [
    "df_INR = df.loc[df.currency == 'INR']\n",
    "df_INR.head()"
   ]
  },
  {
   "cell_type": "code",
   "execution_count": 1052,
   "id": "c297ad78",
   "metadata": {},
   "outputs": [
    {
     "data": {
      "text/plain": [
       "Index(['Unnamed: 0', 'Country/Currency', 'currency', 'value', 'date'], dtype='object')"
      ]
     },
     "execution_count": 1052,
     "metadata": {},
     "output_type": "execute_result"
    }
   ],
   "source": [
    "df.columns"
   ]
  },
  {
   "cell_type": "code",
   "execution_count": 1053,
   "id": "2ac0af9e",
   "metadata": {},
   "outputs": [],
   "source": [
    "# Let's remove the unwanted first column\n",
    "df_INR = df_INR.drop(columns=df_INR.columns[0])"
   ]
  },
  {
   "cell_type": "code",
   "execution_count": 1054,
   "id": "72456169",
   "metadata": {},
   "outputs": [
    {
     "data": {
      "text/plain": [
       "Country/Currency     object\n",
       "currency             object\n",
       "value               float64\n",
       "date                 object\n",
       "dtype: object"
      ]
     },
     "execution_count": 1054,
     "metadata": {},
     "output_type": "execute_result"
    }
   ],
   "source": [
    "df_INR.dtypes"
   ]
  },
  {
   "cell_type": "code",
   "execution_count": 1055,
   "id": "50de2104",
   "metadata": {},
   "outputs": [],
   "source": [
    "# converting date to datetime64[ns] type\n",
    "df_INR['date'] = pd.to_datetime(df_INR['date'], format='%d-%m-%Y', dayfirst=True)"
   ]
  },
  {
   "cell_type": "code",
   "execution_count": 1056,
   "id": "40fc798a",
   "metadata": {},
   "outputs": [
    {
     "data": {
      "text/plain": [
       "0"
      ]
     },
     "execution_count": 1056,
     "metadata": {},
     "output_type": "execute_result"
    }
   ],
   "source": [
    "#Find the duplicates\n",
    "df_INR.duplicated().sum()"
   ]
  },
  {
   "cell_type": "code",
   "execution_count": 1057,
   "id": "5dfcee1d",
   "metadata": {},
   "outputs": [],
   "source": [
    "# As we are calculating for INR we don't need Country/Currency and currency column\n",
    "df_INR = df_INR.drop(columns=df_INR.columns[:2])"
   ]
  },
  {
   "cell_type": "code",
   "execution_count": 1058,
   "id": "37b27380",
   "metadata": {},
   "outputs": [
    {
     "data": {
      "text/html": [
       "<div>\n",
       "<style scoped>\n",
       "    .dataframe tbody tr th:only-of-type {\n",
       "        vertical-align: middle;\n",
       "    }\n",
       "\n",
       "    .dataframe tbody tr th {\n",
       "        vertical-align: top;\n",
       "    }\n",
       "\n",
       "    .dataframe thead th {\n",
       "        text-align: right;\n",
       "    }\n",
       "</style>\n",
       "<table border=\"1\" class=\"dataframe\">\n",
       "  <thead>\n",
       "    <tr style=\"text-align: right;\">\n",
       "      <th></th>\n",
       "      <th>value</th>\n",
       "      <th>date</th>\n",
       "    </tr>\n",
       "  </thead>\n",
       "  <tbody>\n",
       "    <tr>\n",
       "      <th>67</th>\n",
       "      <td>86.052225</td>\n",
       "      <td>2021-12-17</td>\n",
       "    </tr>\n",
       "    <tr>\n",
       "      <th>217</th>\n",
       "      <td>85.424708</td>\n",
       "      <td>2021-12-18</td>\n",
       "    </tr>\n",
       "    <tr>\n",
       "      <th>367</th>\n",
       "      <td>85.424708</td>\n",
       "      <td>2021-12-19</td>\n",
       "    </tr>\n",
       "    <tr>\n",
       "      <th>517</th>\n",
       "      <td>85.497443</td>\n",
       "      <td>2021-12-20</td>\n",
       "    </tr>\n",
       "    <tr>\n",
       "      <th>667</th>\n",
       "      <td>85.525694</td>\n",
       "      <td>2021-12-21</td>\n",
       "    </tr>\n",
       "  </tbody>\n",
       "</table>\n",
       "</div>"
      ],
      "text/plain": [
       "         value       date\n",
       "67   86.052225 2021-12-17\n",
       "217  85.424708 2021-12-18\n",
       "367  85.424708 2021-12-19\n",
       "517  85.497443 2021-12-20\n",
       "667  85.525694 2021-12-21"
      ]
     },
     "execution_count": 1058,
     "metadata": {},
     "output_type": "execute_result"
    }
   ],
   "source": [
    "df_INR.head()"
   ]
  },
  {
   "cell_type": "code",
   "execution_count": 1059,
   "id": "ebc6362c",
   "metadata": {},
   "outputs": [],
   "source": [
    "# We can get date month and year part from the date column\n",
    "df_INR['month'] = df_INR['date'].dt.month\n",
    "df_INR['year'] = df_INR['date'].dt.year\n",
    "df_INR['day'] = df_INR['date'].dt.day\n",
    "df_INR['day_of_week'] = df_INR['date'].dt.weekday"
   ]
  },
  {
   "cell_type": "code",
   "execution_count": 1060,
   "id": "1b8bf0e0",
   "metadata": {},
   "outputs": [
    {
     "data": {
      "text/html": [
       "<div>\n",
       "<style scoped>\n",
       "    .dataframe tbody tr th:only-of-type {\n",
       "        vertical-align: middle;\n",
       "    }\n",
       "\n",
       "    .dataframe tbody tr th {\n",
       "        vertical-align: top;\n",
       "    }\n",
       "\n",
       "    .dataframe thead th {\n",
       "        text-align: right;\n",
       "    }\n",
       "</style>\n",
       "<table border=\"1\" class=\"dataframe\">\n",
       "  <thead>\n",
       "    <tr style=\"text-align: right;\">\n",
       "      <th></th>\n",
       "      <th>value</th>\n",
       "      <th>date</th>\n",
       "      <th>month</th>\n",
       "      <th>year</th>\n",
       "      <th>day</th>\n",
       "      <th>day_of_week</th>\n",
       "    </tr>\n",
       "  </thead>\n",
       "  <tbody>\n",
       "    <tr>\n",
       "      <th>67</th>\n",
       "      <td>86.052225</td>\n",
       "      <td>2021-12-17</td>\n",
       "      <td>12</td>\n",
       "      <td>2021</td>\n",
       "      <td>17</td>\n",
       "      <td>4</td>\n",
       "    </tr>\n",
       "    <tr>\n",
       "      <th>217</th>\n",
       "      <td>85.424708</td>\n",
       "      <td>2021-12-18</td>\n",
       "      <td>12</td>\n",
       "      <td>2021</td>\n",
       "      <td>18</td>\n",
       "      <td>5</td>\n",
       "    </tr>\n",
       "    <tr>\n",
       "      <th>367</th>\n",
       "      <td>85.424708</td>\n",
       "      <td>2021-12-19</td>\n",
       "      <td>12</td>\n",
       "      <td>2021</td>\n",
       "      <td>19</td>\n",
       "      <td>6</td>\n",
       "    </tr>\n",
       "    <tr>\n",
       "      <th>517</th>\n",
       "      <td>85.497443</td>\n",
       "      <td>2021-12-20</td>\n",
       "      <td>12</td>\n",
       "      <td>2021</td>\n",
       "      <td>20</td>\n",
       "      <td>0</td>\n",
       "    </tr>\n",
       "    <tr>\n",
       "      <th>667</th>\n",
       "      <td>85.525694</td>\n",
       "      <td>2021-12-21</td>\n",
       "      <td>12</td>\n",
       "      <td>2021</td>\n",
       "      <td>21</td>\n",
       "      <td>1</td>\n",
       "    </tr>\n",
       "  </tbody>\n",
       "</table>\n",
       "</div>"
      ],
      "text/plain": [
       "         value       date  month  year  day  day_of_week\n",
       "67   86.052225 2021-12-17     12  2021   17            4\n",
       "217  85.424708 2021-12-18     12  2021   18            5\n",
       "367  85.424708 2021-12-19     12  2021   19            6\n",
       "517  85.497443 2021-12-20     12  2021   20            0\n",
       "667  85.525694 2021-12-21     12  2021   21            1"
      ]
     },
     "execution_count": 1060,
     "metadata": {},
     "output_type": "execute_result"
    }
   ],
   "source": [
    "df_INR.head()"
   ]
  },
  {
   "cell_type": "code",
   "execution_count": 1061,
   "id": "a5c5a192",
   "metadata": {},
   "outputs": [
    {
     "data": {
      "text/plain": [
       "0"
      ]
     },
     "execution_count": 1061,
     "metadata": {},
     "output_type": "execute_result"
    }
   ],
   "source": [
    "#Find the duplicates\n",
    "df_INR.duplicated().sum()"
   ]
  },
  {
   "cell_type": "code",
   "execution_count": 1062,
   "id": "78d35c1a",
   "metadata": {},
   "outputs": [],
   "source": [
    "df_INR = df_INR.drop(['date'], axis=1)"
   ]
  },
  {
   "cell_type": "code",
   "execution_count": 1063,
   "id": "d6df8c5b",
   "metadata": {},
   "outputs": [
    {
     "data": {
      "text/plain": [
       "value          float64\n",
       "month            int64\n",
       "year             int64\n",
       "day              int64\n",
       "day_of_week      int64\n",
       "dtype: object"
      ]
     },
     "execution_count": 1063,
     "metadata": {},
     "output_type": "execute_result"
    }
   ],
   "source": [
    "df_INR.dtypes"
   ]
  },
  {
   "cell_type": "markdown",
   "id": "a7439a66",
   "metadata": {},
   "source": [
    "# Chaos Test - Will be adding later"
   ]
  },
  {
   "cell_type": "markdown",
   "id": "bf1555af",
   "metadata": {},
   "source": [
    "# ADF Test"
   ]
  },
  {
   "cell_type": "code",
   "execution_count": 1064,
   "id": "d9ef84ea",
   "metadata": {},
   "outputs": [
    {
     "name": "stdout",
     "output_type": "stream",
     "text": [
      "ADF Statistic: -2.3001940814468083\n",
      "p-value: 0.17190538402702799\n",
      "Critial Values:\n",
      "   1%, -3.450951662384033\n",
      "Critial Values:\n",
      "   5%, -2.8706147570800784\n",
      "Critial Values:\n",
      "   10%, -2.571604931640625\n"
     ]
    }
   ],
   "source": [
    "# check for Stationarity - ADF Test\n",
    "from statsmodels.tsa.stattools import adfuller\n",
    "\n",
    "result = adfuller(df_INR['value'].values, autolag='AIC')\n",
    "print(f'ADF Statistic: {result[0]}')\n",
    "print(f'p-value: {result[1]}')\n",
    "for key, value in result[4].items():\n",
    "    print('Critial Values:')\n",
    "    print(f'   {key}, {value}')"
   ]
  },
  {
   "cell_type": "code",
   "execution_count": 1065,
   "id": "ac79f0bc",
   "metadata": {},
   "outputs": [
    {
     "data": {
      "text/plain": [
       "\"\\nFrom ADF test, it's observed that, data is not stationary. \\nWe can see p-value is 17% (usually it must be less than 0.05 or 5%), \\nand ADF-stat value is greater than all the critical values. \\n\\nBoth these values confirms the data to be Non-Stationary\\n\""
      ]
     },
     "execution_count": 1065,
     "metadata": {},
     "output_type": "execute_result"
    }
   ],
   "source": [
    "\"\"\"\n",
    "From ADF test, it's observed that, data is not stationary. \n",
    "We can see p-value is 17% (usually it must be less than 0.05 or 5%), \n",
    "and ADF-stat value is greater than all the critical values. \n",
    "\n",
    "Both these values confirms the data to be Non-Stationary\n",
    "\"\"\""
   ]
  },
  {
   "cell_type": "markdown",
   "id": "762088c9",
   "metadata": {},
   "source": [
    "# Splitting the dataset"
   ]
  },
  {
   "cell_type": "code",
   "execution_count": 1066,
   "id": "22c076bf",
   "metadata": {},
   "outputs": [],
   "source": [
    "X = df_INR.iloc[:, 1:].values\n",
    "y = df_INR.iloc[:, 0].values"
   ]
  },
  {
   "cell_type": "code",
   "execution_count": 1067,
   "id": "b7dfda44",
   "metadata": {},
   "outputs": [
    {
     "data": {
      "text/plain": [
       "(321, 4)"
      ]
     },
     "execution_count": 1067,
     "metadata": {},
     "output_type": "execute_result"
    }
   ],
   "source": [
    "X.shape"
   ]
  },
  {
   "cell_type": "code",
   "execution_count": 1068,
   "id": "42d10d14",
   "metadata": {},
   "outputs": [
    {
     "data": {
      "text/plain": [
       "(321,)"
      ]
     },
     "execution_count": 1068,
     "metadata": {},
     "output_type": "execute_result"
    }
   ],
   "source": [
    "y.shape"
   ]
  },
  {
   "cell_type": "code",
   "execution_count": 1069,
   "id": "96117eb8",
   "metadata": {},
   "outputs": [],
   "source": [
    "# Splitting the dataset into the Training set and Test set\n",
    "from sklearn.model_selection import train_test_split\n",
    "\n",
    "X_train, X_test, y_train, y_test = train_test_split(X, y, test_size=0.25, random_state=0)"
   ]
  },
  {
   "cell_type": "code",
   "execution_count": 1070,
   "id": "07256aa9",
   "metadata": {},
   "outputs": [],
   "source": [
    "# SMAPE function - Symmetric mean absolute percentage error\n",
    "def smape(A, F):\n",
    "    return 100/len(A) * np.sum(2 * np.abs(F - A) / (np.abs(A) + np.abs(F)))"
   ]
  },
  {
   "cell_type": "code",
   "execution_count": 1071,
   "id": "4ab13084",
   "metadata": {},
   "outputs": [],
   "source": [
    "# Direction Symmetry - It gives the percentage of occurrences in which the sign of the change in value from one time period to the next is the same for both the actual and predicted time series\n",
    "def ds(A, F):\n",
    "    sum_A = 0\n",
    "    for i in range(1, len(A)):\n",
    "        sum_A += 1 if (A[i]-A[i-1])*(F[i]-F[i-1])>0 else 0\n",
    "    return (100*sum_A)/(len(A)-1)"
   ]
  },
  {
   "cell_type": "code",
   "execution_count": 1072,
   "id": "72fde686",
   "metadata": {},
   "outputs": [],
   "source": [
    "# Theil's U coefficient - The greater accuracy of the forecast, the lower will be the value of the u1\n",
    "def u1(A,F):\n",
    "    data = pd.DataFrame({'A_i':A, 'F_i': F})\n",
    "    data['(A_i - F_i)^2'] = np.square(data['A_i'] - data['F_i'])\n",
    "    data['F_i^2'] = np.square(data['F_i'])\n",
    "    data['A_i^2'] = np.square(data['A_i'])\n",
    "    return (np.sqrt(np.mean(data['(A_i - F_i)^2'])))/(np.sqrt(np.mean(data['F_i^2']))+np.sqrt(np.mean(data['A_i^2'])))"
   ]
  },
  {
   "cell_type": "markdown",
   "id": "25814449",
   "metadata": {},
   "source": [
    "# Linear Regression"
   ]
  },
  {
   "cell_type": "code",
   "execution_count": 1073,
   "id": "2d3e12e3",
   "metadata": {},
   "outputs": [],
   "source": [
    "# Fitting Linear Regression in dataset\n",
    "from sklearn.linear_model import LinearRegression\n",
    "\n",
    "lr = LinearRegression()\n",
    "lr.fit(X_train, y_train)\n",
    "y_pred = lr.predict(X_test)"
   ]
  },
  {
   "cell_type": "code",
   "execution_count": 1074,
   "id": "4a4b5478",
   "metadata": {},
   "outputs": [
    {
     "name": "stdout",
     "output_type": "stream",
     "text": [
      "R2 score:  0.7418405361733843\n",
      "MSE 1.106049122210072\n",
      "RMSE 1.0516887002388453\n"
     ]
    }
   ],
   "source": [
    "import math\n",
    "from sklearn.metrics import r2_score, mean_squared_error\n",
    "\n",
    "print(\"R2 score: \", r2_score(y_test, y_pred))\n",
    "print(\"MSE\", mean_squared_error(y_test, y_pred))\n",
    "print(\"RMSE\", math.sqrt(mean_squared_error(y_test, y_pred)))"
   ]
  },
  {
   "cell_type": "markdown",
   "id": "da119921",
   "metadata": {},
   "source": [
    " SMAPE prediction"
   ]
  },
  {
   "cell_type": "code",
   "execution_count": 1075,
   "id": "2c71d99b",
   "metadata": {
    "scrolled": true
   },
   "outputs": [
    {
     "name": "stdout",
     "output_type": "stream",
     "text": [
      "1.0389807338320558\n"
     ]
    }
   ],
   "source": [
    "print(smape(y_test, y_pred))"
   ]
  },
  {
   "cell_type": "markdown",
   "id": "465fbae5",
   "metadata": {},
   "source": [
    " Direction Symmetry prediction"
   ]
  },
  {
   "cell_type": "code",
   "execution_count": 1076,
   "id": "6a9eb750",
   "metadata": {},
   "outputs": [
    {
     "name": "stdout",
     "output_type": "stream",
     "text": [
      "81.25\n"
     ]
    }
   ],
   "source": [
    "print(ds(y_test, y_pred))"
   ]
  },
  {
   "cell_type": "markdown",
   "id": "7193247f",
   "metadata": {},
   "source": [
    " Theil's U coefficient prediction"
   ]
  },
  {
   "cell_type": "code",
   "execution_count": 1077,
   "id": "a59db065",
   "metadata": {},
   "outputs": [
    {
     "name": "stdout",
     "output_type": "stream",
     "text": [
      "0.00637153165725196\n"
     ]
    }
   ],
   "source": [
    "print(u1(y_test, y_pred))"
   ]
  },
  {
   "cell_type": "code",
   "execution_count": 1078,
   "id": "8762d5cc",
   "metadata": {
    "scrolled": false
   },
   "outputs": [
    {
     "data": {
      "image/png": "[encoded data removed]",
      "text/plain": [
       "<Figure size 840x600 with 1 Axes>"
      ]
     },
     "metadata": {},
     "output_type": "display_data"
    }
   ],
   "source": [
    "plt.rc(\"figure\")\n",
    "plt.plot(y_test, color=\"r\")\n",
    "plt.plot(y_pred, color=\"b\")\n",
    "plt.xlabel(\"Preiod\")\n",
    "plt.ylabel(\"Value\")\n",
    "plt.show()"
   ]
  },
  {
   "cell_type": "markdown",
   "id": "66f3609a",
   "metadata": {},
   "source": [
    "# Polynomial Regression"
   ]
  },
  {
   "cell_type": "code",
   "execution_count": 1079,
   "id": "fe14a60e",
   "metadata": {},
   "outputs": [],
   "source": [
    "# Fitting Polynomial Regression in dataset\n",
    "from sklearn.preprocessing import PolynomialFeatures\n",
    "\n",
    "poly = PolynomialFeatures(degree=2, include_bias=True)\n",
    "X_train_trans = poly.fit_transform(X_train)\n",
    "X_test_trans = poly.transform(X_test)\n",
    "\n",
    "lr = LinearRegression()\n",
    "lr.fit(X_train_trans, y_train)\n",
    "y_pred = lr.predict(X_test_trans)"
   ]
  },
  {
   "cell_type": "code",
   "execution_count": 1080,
   "id": "9de0b1e2",
   "metadata": {},
   "outputs": [
    {
     "name": "stdout",
     "output_type": "stream",
     "text": [
      "R2 score:  0.7497895432426632\n",
      "MSE 1.0719926822055235\n",
      "RMSE 1.0353707945492394\n"
     ]
    }
   ],
   "source": [
    "import math\n",
    "from sklearn.metrics import r2_score, mean_squared_error\n",
    "\n",
    "print(\"R2 score: \", r2_score(y_test, y_pred))\n",
    "print(\"MSE\", mean_squared_error(y_test, y_pred))\n",
    "print(\"RMSE\", math.sqrt(mean_squared_error(y_test, y_pred)))"
   ]
  },
  {
   "cell_type": "markdown",
   "id": "bddae741",
   "metadata": {},
   "source": [
    " SMAPE prediction"
   ]
  },
  {
   "cell_type": "code",
   "execution_count": 1081,
   "id": "8b4094dd",
   "metadata": {},
   "outputs": [
    {
     "name": "stdout",
     "output_type": "stream",
     "text": [
      "1.040735488675978\n"
     ]
    }
   ],
   "source": [
    "print(smape(y_test, y_pred))"
   ]
  },
  {
   "cell_type": "markdown",
   "id": "00b39051",
   "metadata": {},
   "source": [
    " Direction Symmetry prediction"
   ]
  },
  {
   "cell_type": "code",
   "execution_count": 1082,
   "id": "8d9dc147",
   "metadata": {
    "scrolled": true
   },
   "outputs": [
    {
     "name": "stdout",
     "output_type": "stream",
     "text": [
      "83.75\n"
     ]
    }
   ],
   "source": [
    "print(ds(y_test, y_pred))"
   ]
  },
  {
   "cell_type": "markdown",
   "id": "fa42d11e",
   "metadata": {},
   "source": [
    " Theil's U coefficient prediction"
   ]
  },
  {
   "cell_type": "code",
   "execution_count": 1083,
   "id": "b7190d6b",
   "metadata": {},
   "outputs": [
    {
     "name": "stdout",
     "output_type": "stream",
     "text": [
      "0.0062726952798330465\n"
     ]
    }
   ],
   "source": [
    "print(u1(y_test, y_pred))"
   ]
  },
  {
   "cell_type": "code",
   "execution_count": 1084,
   "id": "e31a23fa",
   "metadata": {
    "scrolled": false
   },
   "outputs": [
    {
     "data": {
      "image/png": "[encoded data removed]",
      "text/plain": [
       "<Figure size 840x600 with 1 Axes>"
      ]
     },
     "metadata": {},
     "output_type": "display_data"
    }
   ],
   "source": [
    "plt.rc(\"figure\")\n",
    "plt.plot(y_test, color=\"r\")\n",
    "plt.plot(y_pred, color=\"b\")\n",
    "plt.xlabel(\"Preiod\")\n",
    "plt.ylabel(\"Value\")\n",
    "plt.show()"
   ]
  },
  {
   "cell_type": "markdown",
   "id": "1cba6c29",
   "metadata": {},
   "source": [
    "# XGB Regression"
   ]
  },
  {
   "cell_type": "code",
   "execution_count": 1085,
   "id": "d5a87ecc",
   "metadata": {},
   "outputs": [],
   "source": [
    "from xgboost import XGBRegressor"
   ]
  },
  {
   "cell_type": "code",
   "execution_count": 1086,
   "id": "906489ae",
   "metadata": {},
   "outputs": [],
   "source": [
    "model = XGBRegressor()"
   ]
  },
  {
   "cell_type": "code",
   "execution_count": 1087,
   "id": "8cccd946",
   "metadata": {},
   "outputs": [
    {
     "name": "stdout",
     "output_type": "stream",
     "text": [
      "The best hyperparameters are  {'learning_rate': 0.015, 'max_depth': 4, 'n_estimators': 1000}\n"
     ]
    }
   ],
   "source": [
    "from sklearn.model_selection import GridSearchCV\n",
    "\n",
    "param_grid = {\"max_depth\": [3, 4],\n",
    "              \"n_estimators\": [100, 300, 1000],\n",
    "              \"learning_rate\": [0.01, 0.015]}\n",
    "\n",
    "# try out every combination of the above values\n",
    "search = GridSearchCV(model, param_grid, cv=5).fit(X_train, y_train)\n",
    "\n",
    "print(\"The best hyperparameters are \",search.best_params_)"
   ]
  },
  {
   "cell_type": "code",
   "execution_count": 1088,
   "id": "457b4cf5",
   "metadata": {},
   "outputs": [],
   "source": [
    "regressor = XGBRegressor(learning_rate = search.best_params_[\"learning_rate\"],\n",
    "                           n_estimators  = search.best_params_[\"n_estimators\"],\n",
    "                           max_depth     = search.best_params_[\"max_depth\"],)\n",
    "\n",
    "regressor.fit(X_train, y_train)\n",
    "y_pred = regressor.predict(X_test)"
   ]
  },
  {
   "cell_type": "code",
   "execution_count": 1089,
   "id": "06af6b97",
   "metadata": {},
   "outputs": [
    {
     "name": "stdout",
     "output_type": "stream",
     "text": [
      "R2 score:  0.9307336014383688\n",
      "MSE 0.2967624668573032\n",
      "RMSE 0.5447590906605444\n"
     ]
    }
   ],
   "source": [
    "import math\n",
    "from sklearn.metrics import r2_score, mean_squared_error\n",
    "\n",
    "print(\"R2 score: \", r2_score(y_test, y_pred))\n",
    "print(\"MSE\", mean_squared_error(y_test, y_pred))\n",
    "print(\"RMSE\", math.sqrt(mean_squared_error(y_test, y_pred)))"
   ]
  },
  {
   "cell_type": "markdown",
   "id": "e21ac05d",
   "metadata": {},
   "source": [
    " SMAPE prediction"
   ]
  },
  {
   "cell_type": "code",
   "execution_count": 1090,
   "id": "5e01d816",
   "metadata": {},
   "outputs": [
    {
     "name": "stdout",
     "output_type": "stream",
     "text": [
      "0.5076731136771697\n"
     ]
    }
   ],
   "source": [
    "print(smape(y_test, y_pred))"
   ]
  },
  {
   "cell_type": "markdown",
   "id": "ea2a0c39",
   "metadata": {},
   "source": [
    " Direction Symmetry prediction"
   ]
  },
  {
   "cell_type": "code",
   "execution_count": 1091,
   "id": "63b81568",
   "metadata": {
    "scrolled": true
   },
   "outputs": [
    {
     "name": "stdout",
     "output_type": "stream",
     "text": [
      "90.0\n"
     ]
    }
   ],
   "source": [
    "print(ds(y_test, y_pred))"
   ]
  },
  {
   "cell_type": "markdown",
   "id": "9085ca2c",
   "metadata": {},
   "source": [
    " Theil's U coefficient prediction"
   ]
  },
  {
   "cell_type": "code",
   "execution_count": 1092,
   "id": "4680d265",
   "metadata": {},
   "outputs": [
    {
     "name": "stdout",
     "output_type": "stream",
     "text": [
      "0.0033008799662373935\n"
     ]
    }
   ],
   "source": [
    "print(u1(y_test, y_pred))"
   ]
  },
  {
   "cell_type": "code",
   "execution_count": 1093,
   "id": "349bf353",
   "metadata": {
    "scrolled": false
   },
   "outputs": [
    {
     "data": {
      "image/png": "[encoded data removed]",
      "text/plain": [
       "<Figure size 840x600 with 1 Axes>"
      ]
     },
     "metadata": {},
     "output_type": "display_data"
    }
   ],
   "source": [
    "plt.rc(\"figure\")\n",
    "plt.plot(y_test, color=\"r\")\n",
    "plt.plot(y_pred, color=\"b\")\n",
    "plt.xlabel(\"Preiod\")\n",
    "plt.ylabel(\"Value\")\n",
    "plt.show()"
   ]
  },
  {
   "cell_type": "markdown",
   "id": "7aaef1dc",
   "metadata": {},
   "source": [
    "# SGD Regression"
   ]
  },
  {
   "cell_type": "code",
   "execution_count": 1094,
   "id": "958d3bfe",
   "metadata": {},
   "outputs": [],
   "source": [
    "from sklearn.linear_model import SGDRegressor"
   ]
  },
  {
   "cell_type": "code",
   "execution_count": 1095,
   "id": "ef728ab9",
   "metadata": {},
   "outputs": [
    {
     "name": "stdout",
     "output_type": "stream",
     "text": [
      "Fitting 3 folds for each of 180 candidates, totalling 540 fits\n",
      "Best Score (negative mean squared error): -0.882180\n",
      "Optimal Hyperparameter Values:  {'sgd__alpha': 0.01, 'sgd__eta0': 0.01, 'sgd__l1_ratio': 1, 'sgd__max_iter': 1000}\n"
     ]
    }
   ],
   "source": [
    "from sklearn.pipeline import Pipeline\n",
    "\n",
    "# Create a Pipeline object\n",
    "sgd_pipeline = Pipeline([\n",
    "        ('scaler', StandardScaler()),\n",
    "        ('sgd', SGDRegressor()),\n",
    "    ])\n",
    "\n",
    "# Create a dictionary object with hyperparameters as keys and lists of corresponding values\n",
    "param_grid = {'sgd__alpha': [0.1, 0.01, 0.001, 0.0001], \n",
    "              'sgd__l1_ratio': [1, 0.7, 0.5, 0.2, 0], \n",
    "              'sgd__max_iter':[100, 500, 1000],\n",
    "              'sgd__eta0': [0.01, 0.001, 0.0001]\n",
    "            }\n",
    "\n",
    "# Create a GridSearchCV object and perform hyperparameter tuning\n",
    "sgdr = GridSearchCV(sgd_pipeline, param_grid, scoring='neg_mean_squared_error', cv=3, verbose=1, n_jobs=-1)\n",
    "\n",
    "# The model is trained with optimal hyperparameters, thus its the optimal model\n",
    "sgdr.fit(X_train, y_train)\n",
    "\n",
    "# Get the optimal hyperparameters\n",
    "params_optimal_sgdr = sgdr.best_params_\n",
    "\n",
    "print(\"Best Score (negative mean squared error): %f\" % sgdr.best_score_)\n",
    "print(\"Optimal Hyperparameter Values: \", params_optimal_sgdr)"
   ]
  },
  {
   "cell_type": "code",
   "execution_count": 1096,
   "id": "ac747de0",
   "metadata": {},
   "outputs": [],
   "source": [
    "y_pred = sgdr.predict(X_test)"
   ]
  },
  {
   "cell_type": "code",
   "execution_count": 1097,
   "id": "9cc57d37",
   "metadata": {},
   "outputs": [
    {
     "name": "stdout",
     "output_type": "stream",
     "text": [
      "R2 score:  0.7391719780227376\n",
      "MSE 1.1174821967770057\n",
      "RMSE 1.0571103049242334\n"
     ]
    }
   ],
   "source": [
    "import math\n",
    "from sklearn.metrics import r2_score, mean_squared_error\n",
    "\n",
    "print(\"R2 score: \", r2_score(y_test, y_pred))\n",
    "print(\"MSE\", mean_squared_error(y_test, y_pred))\n",
    "print(\"RMSE\", math.sqrt(mean_squared_error(y_test, y_pred)))"
   ]
  },
  {
   "cell_type": "markdown",
   "id": "45ce75c9",
   "metadata": {},
   "source": [
    " SMAPE prediction"
   ]
  },
  {
   "cell_type": "code",
   "execution_count": 1098,
   "id": "9b5ebfcb",
   "metadata": {},
   "outputs": [
    {
     "name": "stdout",
     "output_type": "stream",
     "text": [
      "1.0484053804817517\n"
     ]
    }
   ],
   "source": [
    "print(smape(y_test, y_pred))"
   ]
  },
  {
   "cell_type": "markdown",
   "id": "d7afdbae",
   "metadata": {},
   "source": [
    " Direction Symmetry prediction"
   ]
  },
  {
   "cell_type": "code",
   "execution_count": 1099,
   "id": "cab491d6",
   "metadata": {
    "scrolled": true
   },
   "outputs": [
    {
     "name": "stdout",
     "output_type": "stream",
     "text": [
      "81.25\n"
     ]
    }
   ],
   "source": [
    "print(ds(y_test, y_pred))"
   ]
  },
  {
   "cell_type": "markdown",
   "id": "213a8588",
   "metadata": {},
   "source": [
    " Theil's U coefficient prediction"
   ]
  },
  {
   "cell_type": "code",
   "execution_count": 1100,
   "id": "6720d3b4",
   "metadata": {},
   "outputs": [
    {
     "name": "stdout",
     "output_type": "stream",
     "text": [
      "0.006405029450235966\n"
     ]
    }
   ],
   "source": [
    "print(u1(y_test, y_pred))"
   ]
  },
  {
   "cell_type": "code",
   "execution_count": 1101,
   "id": "e9b71254",
   "metadata": {
    "scrolled": false
   },
   "outputs": [
    {
     "data": {
      "image/png": "[encoded data removed]",
      "text/plain": [
       "<Figure size 840x600 with 1 Axes>"
      ]
     },
     "metadata": {},
     "output_type": "display_data"
    }
   ],
   "source": [
    "plt.rc(\"figure\")\n",
    "plt.plot(y_test, color=\"r\")\n",
    "plt.plot(y_pred, color=\"b\")\n",
    "plt.xlabel(\"Preiod\")\n",
    "plt.ylabel(\"Value\")\n",
    "plt.show()"
   ]
  },
  {
   "cell_type": "markdown",
   "id": "2867597d",
   "metadata": {},
   "source": [
    "# LSTM"
   ]
  },
  {
   "cell_type": "code",
   "execution_count": 1102,
   "id": "87cfda9c",
   "metadata": {},
   "outputs": [],
   "source": [
    "# Splitting the dataset into the Training set and Test set\n",
    "X = df_INR.iloc[:, 1:].values\n",
    "y = df_INR.iloc[:, 0].values\n",
    "\n",
    "from sklearn.model_selection import train_test_split\n",
    "X_train, X_test, y_train, y_test = train_test_split(X, y, test_size=0.25, random_state=0)"
   ]
  },
  {
   "cell_type": "code",
   "execution_count": 1103,
   "id": "484bd753",
   "metadata": {},
   "outputs": [],
   "source": [
    "# Feature scaling\n",
    "from sklearn.preprocessing import StandardScaler\n",
    "\n",
    "sc_X = StandardScaler()\n",
    "X_train = sc_X.fit_transform(X_train)\n",
    "X_test = sc_X.transform(X_test)\n",
    "\n",
    "sc_y = StandardScaler()\n",
    "y_train = sc_y.fit_transform(y_train.reshape(-1,1))"
   ]
  },
  {
   "cell_type": "code",
   "execution_count": 1104,
   "id": "c11235f0",
   "metadata": {},
   "outputs": [
    {
     "name": "stdout",
     "output_type": "stream",
     "text": [
      "Model: \"sequential_24\"\n",
      "_________________________________________________________________\n",
      " Layer (type)                Output Shape              Param #   \n",
      "=================================================================\n",
      " lstm_16 (LSTM)              (None, 1, 256)            267264    \n",
      "                                                                 \n",
      " lstm_17 (LSTM)              (None, 128)               197120    \n",
      "                                                                 \n",
      " dense_40 (Dense)            (None, 1)                 129       \n",
      "                                                                 \n",
      "=================================================================\n",
      "Total params: 464,513\n",
      "Trainable params: 464,513\n",
      "Non-trainable params: 0\n",
      "_________________________________________________________________\n"
     ]
    }
   ],
   "source": [
    "from keras.models import Sequential\n",
    "from keras.layers import LSTM\n",
    "from keras.layers import Dense\n",
    "\n",
    "# define model\n",
    "model = Sequential()\n",
    "model.add(LSTM(256, activation='relu', return_sequences=True, input_shape=(1, X_train.shape[1])))\n",
    "model.add(LSTM(128))\n",
    "model.add(Dense(1))\n",
    "model.compile(optimizer='adam', loss='mse')\n",
    "model.summary()"
   ]
  },
  {
   "cell_type": "code",
   "execution_count": null,
   "id": "0fdb6dc9",
   "metadata": {},
   "outputs": [
    {
     "name": "stdout",
     "output_type": "stream",
     "text": [
      "Epoch 1/25\n"
     ]
    }
   ],
   "source": [
    "# fit model\n",
    "X_train = np.reshape(X_train, (X_train.shape[0], 1, 4))\n",
    "X_test = np.reshape(X_test, (X_test.shape[0], 1, 4))\n",
    "history = model.fit(X_train, y_train, epochs=25, batch_size=8, verbose=1, validation_split=0.1)"
   ]
  },
  {
   "cell_type": "code",
   "execution_count": null,
   "id": "a2729145",
   "metadata": {},
   "outputs": [],
   "source": [
    "# summarize history for loss\n",
    "plt.plot(history.history['loss'])\n",
    "plt.plot(history.history['val_loss'])\n",
    "plt.title('model loss')\n",
    "plt.ylabel('loss')\n",
    "plt.xlabel('epoch')\n",
    "plt.legend(['train', 'test'], loc='upper left')\n",
    "plt.show()"
   ]
  },
  {
   "cell_type": "code",
   "execution_count": null,
   "id": "591a0b9d",
   "metadata": {},
   "outputs": [],
   "source": [
    "train_predict = model.predict(X_train)\n",
    "test_predict = model.predict(X_test)\n",
    "test_predict = sc_y.inverse_transform(test_predict)\n",
    "\n",
    "print('Shape of train and test predict: ', train_predict.shape, test_predict.shape)"
   ]
  },
  {
   "cell_type": "code",
   "execution_count": null,
   "id": "5d6547b0",
   "metadata": {},
   "outputs": [],
   "source": [
    "# root mean squared error or rmse\n",
    "import math\n",
    "from sklearn.metrics import mean_squared_error\n",
    "\n",
    "def measure_rmse(actual, predicted):\n",
    "    return math.sqrt(mean_squared_error(actual, predicted))\n",
    "\n",
    "train_score = measure_rmse(y_train, train_predict)\n",
    "test_score = measure_rmse(y_test, test_predict)\n",
    "\n",
    "print('Train and Test RMSE: ', train_score, test_score)"
   ]
  },
  {
   "cell_type": "code",
   "execution_count": null,
   "id": "5c7622a5",
   "metadata": {},
   "outputs": [],
   "source": [
    "import math\n",
    "from sklearn.metrics import r2_score, mean_squared_error\n",
    "\n",
    "print(\"R2 score: \", r2_score(y_test, y_pred))\n",
    "print(\"MSE\", mean_squared_error(y_test, y_pred))\n",
    "print(\"RMSE\", math.sqrt(mean_squared_error(y_test, y_pred)))"
   ]
  },
  {
   "cell_type": "markdown",
   "id": "d5fd3c2c",
   "metadata": {},
   "source": [
    " SMAPE prediction"
   ]
  },
  {
   "cell_type": "code",
   "execution_count": null,
   "id": "d5a0cfa6",
   "metadata": {},
   "outputs": [],
   "source": [
    "print(smape(y_test, y_pred))"
   ]
  },
  {
   "cell_type": "markdown",
   "id": "965f1c6c",
   "metadata": {},
   "source": [
    " Direction Symmetry prediction"
   ]
  },
  {
   "cell_type": "code",
   "execution_count": null,
   "id": "dc287f4a",
   "metadata": {
    "scrolled": true
   },
   "outputs": [],
   "source": [
    "print(ds(y_test, y_pred))"
   ]
  },
  {
   "cell_type": "markdown",
   "id": "c692c518",
   "metadata": {},
   "source": [
    " Theil's U coefficient prediction"
   ]
  },
  {
   "cell_type": "code",
   "execution_count": null,
   "id": "8a3ad3b6",
   "metadata": {},
   "outputs": [],
   "source": [
    "print(u1(y_test, y_pred))"
   ]
  },
  {
   "cell_type": "code",
   "execution_count": null,
   "id": "c8adb6e2",
   "metadata": {
    "scrolled": false
   },
   "outputs": [],
   "source": [
    "plt.rc(\"figure\")\n",
    "plt.rcParams.update({'font.size': 16})\n",
    "plt.plot(y_test, label='Actual')\n",
    "plt.plot(test_predict, label='Predicted')\n",
    "plt.xlabel('Period')\n",
    "plt.ylabel('INR price')\n",
    "plt.title('Currency price (INR) prediction using LSTM - Test data')\n",
    "plt.legend()\n",
    "plt.show()"
   ]
  },
  {
   "cell_type": "markdown",
   "id": "dbaa1774",
   "metadata": {},
   "source": [
    "# ANN 3-3-1"
   ]
  },
  {
   "cell_type": "code",
   "execution_count": null,
   "id": "864f507d",
   "metadata": {},
   "outputs": [],
   "source": [
    "# Splitting the dataset\n",
    "X = df_INR.iloc[:, 1:].values\n",
    "y = df_INR.iloc[:, 0].values"
   ]
  },
  {
   "cell_type": "code",
   "execution_count": null,
   "id": "1918247b",
   "metadata": {},
   "outputs": [],
   "source": [
    "# Building the Optimal Model using the Backward Elimination\n",
    "import statsmodels.api as sm\n",
    "\n",
    "X_values = np.append(arr=np.ones((X.shape[0], 1)).astype(int), values=X, axis=1)\n",
    "X_opt = X_values[:, [0, 1, 2, 3]]\n",
    "regressor_OLS = sm.OLS(endog=y, exog=X_opt).fit()\n",
    "regressor_OLS.summary()"
   ]
  },
  {
   "cell_type": "code",
   "execution_count": null,
   "id": "3b491a93",
   "metadata": {},
   "outputs": [],
   "source": [
    "# As we need only 3 dimensional input we will stop here by removing the column with highest p value\n",
    "X_opt = X[:, [0,1,2]]"
   ]
  },
  {
   "cell_type": "code",
   "execution_count": null,
   "id": "3ef7cd27",
   "metadata": {},
   "outputs": [],
   "source": [
    "from sklearn.model_selection import train_test_split\n",
    "X_train, X_test, y_train, y_test = train_test_split(X_opt, y, test_size=0.25, random_state=0)"
   ]
  },
  {
   "cell_type": "code",
   "execution_count": null,
   "id": "ed9a0ce8",
   "metadata": {},
   "outputs": [],
   "source": [
    "# Feature scaling\n",
    "from sklearn.preprocessing import StandardScaler\n",
    "\n",
    "sc_X = StandardScaler()\n",
    "X_train = sc_X.fit_transform(X_train)\n",
    "X_test = sc_X.transform(X_test)\n",
    "\n",
    "sc_y = StandardScaler()\n",
    "y_train = sc_y.fit_transform(y_train.reshape(-1,1))"
   ]
  },
  {
   "cell_type": "code",
   "execution_count": null,
   "id": "7a0e2ce9",
   "metadata": {},
   "outputs": [],
   "source": [
    "from keras.models import Sequential\n",
    "from keras.layers import Dense\n",
    "\n",
    "# define model\n",
    "model = Sequential()\n",
    "model.add(Dense(3, activation = 'relu', input_dim = 3))\n",
    "model.add(Dense(1, activation = 'sigmoid'))\n",
    "\n",
    "model.compile(optimizer = 'adam', loss = 'mse')\n",
    "model.summary()"
   ]
  },
  {
   "cell_type": "code",
   "execution_count": null,
   "id": "491a8ad0",
   "metadata": {},
   "outputs": [],
   "source": [
    "# fit model\n",
    "history = model.fit(X_train, y_train, epochs=25, batch_size=10, verbose=1, validation_split=0.1)"
   ]
  },
  {
   "cell_type": "code",
   "execution_count": null,
   "id": "a3637f9d",
   "metadata": {},
   "outputs": [],
   "source": [
    "# summarize history for loss\n",
    "plt.plot(history.history['loss'])\n",
    "plt.plot(history.history['val_loss'])\n",
    "plt.title('model loss')\n",
    "plt.ylabel('loss')\n",
    "plt.xlabel('epoch')\n",
    "plt.legend(['train', 'test'], loc='upper left')\n",
    "plt.show()"
   ]
  },
  {
   "cell_type": "code",
   "execution_count": null,
   "id": "41521af2",
   "metadata": {},
   "outputs": [],
   "source": [
    "train_predict = model.predict(X_train)\n",
    "test_predict = model.predict(X_test)\n",
    "test_predict = sc_y.inverse_transform(test_predict)\n",
    "\n",
    "print('Shape of train and test predict: ', train_predict.shape, test_predict.shape)"
   ]
  },
  {
   "cell_type": "code",
   "execution_count": null,
   "id": "c0edd750",
   "metadata": {},
   "outputs": [],
   "source": [
    "# root mean squared error or rmse\n",
    "import math\n",
    "from sklearn.metrics import mean_squared_error\n",
    "\n",
    "def measure_rmse(actual, predicted):\n",
    "    return math.sqrt(mean_squared_error(actual, predicted))\n",
    "\n",
    "train_score = measure_rmse(y_train, train_predict)\n",
    "test_score = measure_rmse(y_test, test_predict)\n",
    "\n",
    "print('Train and Test RMSE: ', train_score, test_score)"
   ]
  },
  {
   "cell_type": "code",
   "execution_count": null,
   "id": "1fc22ab4",
   "metadata": {},
   "outputs": [],
   "source": [
    "import math\n",
    "from sklearn.metrics import r2_score, mean_squared_error\n",
    "\n",
    "print(\"R2 score: \", r2_score(y_test, y_pred))\n",
    "print(\"MSE\", mean_squared_error(y_test, y_pred))\n",
    "print(\"RMSE\", math.sqrt(mean_squared_error(y_test, y_pred)))"
   ]
  },
  {
   "cell_type": "markdown",
   "id": "5866d7fb",
   "metadata": {},
   "source": [
    " SMAPE prediction"
   ]
  },
  {
   "cell_type": "code",
   "execution_count": null,
   "id": "186a9c25",
   "metadata": {},
   "outputs": [],
   "source": [
    "print(smape(y_test, y_pred))"
   ]
  },
  {
   "cell_type": "markdown",
   "id": "960deed9",
   "metadata": {},
   "source": [
    " Direction Symmetry prediction"
   ]
  },
  {
   "cell_type": "code",
   "execution_count": null,
   "id": "37ad2820",
   "metadata": {
    "scrolled": true
   },
   "outputs": [],
   "source": [
    "print(ds(y_test, y_pred))"
   ]
  },
  {
   "cell_type": "markdown",
   "id": "0ef68933",
   "metadata": {},
   "source": [
    " Theil's U coefficient prediction"
   ]
  },
  {
   "cell_type": "code",
   "execution_count": null,
   "id": "5e5a5ac4",
   "metadata": {},
   "outputs": [],
   "source": [
    "print(u1(y_test, y_pred))"
   ]
  },
  {
   "cell_type": "code",
   "execution_count": null,
   "id": "309f7a4e",
   "metadata": {
    "scrolled": false
   },
   "outputs": [],
   "source": [
    "plt.rc(\"figure\")\n",
    "plt.rcParams.update({'font.size': 16})\n",
    "plt.plot(y_test, label='Actual')\n",
    "plt.plot(test_predict, label='Predicted')\n",
    "plt.xlabel('Period')\n",
    "plt.ylabel('INR price')\n",
    "plt.title('Currency price (INR) prediction using LSTM - Test data')\n",
    "plt.legend()\n",
    "plt.show()"
   ]
  },
  {
   "cell_type": "markdown",
   "id": "59a8b075",
   "metadata": {},
   "source": [
    "# ANN 4-4-1"
   ]
  },
  {
   "cell_type": "code",
   "execution_count": null,
   "id": "e14c8b47",
   "metadata": {},
   "outputs": [],
   "source": [
    "# Splitting the dataset\n",
    "X = df_INR.iloc[:, 1:].values\n",
    "y = df_INR.iloc[:, 0].values"
   ]
  },
  {
   "cell_type": "code",
   "execution_count": null,
   "id": "1ee5b599",
   "metadata": {},
   "outputs": [],
   "source": [
    "from sklearn.model_selection import train_test_split\n",
    "X_train, X_test, y_train, y_test = train_test_split(X, y, test_size=0.25, random_state=0)"
   ]
  },
  {
   "cell_type": "code",
   "execution_count": null,
   "id": "5488d221",
   "metadata": {},
   "outputs": [],
   "source": [
    "# Feature scaling\n",
    "from sklearn.preprocessing import StandardScaler\n",
    "\n",
    "sc_X = StandardScaler()\n",
    "X_train = sc_X.fit_transform(X_train)\n",
    "X_test = sc_X.transform(X_test)\n",
    "\n",
    "sc_y = StandardScaler()\n",
    "y_train = sc_y.fit_transform(y_train.reshape(-1,1))"
   ]
  },
  {
   "cell_type": "code",
   "execution_count": null,
   "id": "a47d09ce",
   "metadata": {},
   "outputs": [],
   "source": [
    "from keras.models import Sequential\n",
    "from keras.layers import Dense\n",
    "\n",
    "# define model\n",
    "model = Sequential()\n",
    "model.add(Dense(4, activation = 'relu', input_dim = 4))\n",
    "model.add(Dense(1, activation = 'sigmoid'))\n",
    "\n",
    "model.compile(optimizer = 'adam', loss = 'mse')\n",
    "model.summary()"
   ]
  },
  {
   "cell_type": "code",
   "execution_count": null,
   "id": "f8c491ac",
   "metadata": {},
   "outputs": [],
   "source": [
    "# fit model\n",
    "history = model.fit(X_train, y_train, epochs=25, batch_size=10, verbose=1, validation_split=0.1)"
   ]
  },
  {
   "cell_type": "code",
   "execution_count": null,
   "id": "08e4d5b3",
   "metadata": {},
   "outputs": [],
   "source": [
    "# summarize history for loss\n",
    "plt.plot(history.history['loss'])\n",
    "plt.plot(history.history['val_loss'])\n",
    "plt.title('model loss')\n",
    "plt.ylabel('loss')\n",
    "plt.xlabel('epoch')\n",
    "plt.legend(['train', 'test'], loc='upper left')\n",
    "plt.show()"
   ]
  },
  {
   "cell_type": "code",
   "execution_count": null,
   "id": "2e3f0e93",
   "metadata": {},
   "outputs": [],
   "source": [
    "train_predict = model.predict(X_train)\n",
    "test_predict = model.predict(X_test)\n",
    "test_predict = sc_y.inverse_transform(test_predict)\n",
    "\n",
    "print('Shape of train and test predict: ', train_predict.shape, test_predict.shape)"
   ]
  },
  {
   "cell_type": "code",
   "execution_count": null,
   "id": "307e5d76",
   "metadata": {},
   "outputs": [],
   "source": [
    "# root mean squared error or rmse\n",
    "import math\n",
    "from sklearn.metrics import mean_squared_error\n",
    "\n",
    "def measure_rmse(actual, predicted):\n",
    "    return math.sqrt(mean_squared_error(actual, predicted))\n",
    "\n",
    "train_score = measure_rmse(y_train, train_predict)\n",
    "test_score = measure_rmse(y_test, test_predict)\n",
    "\n",
    "print('Train and Test RMSE: ', train_score, test_score)"
   ]
  },
  {
   "cell_type": "code",
   "execution_count": null,
   "id": "1e10b2e7",
   "metadata": {},
   "outputs": [],
   "source": [
    "import math\n",
    "from sklearn.metrics import r2_score, mean_squared_error\n",
    "\n",
    "print(\"R2 score: \", r2_score(y_test, y_pred))\n",
    "print(\"MSE\", mean_squared_error(y_test, y_pred))\n",
    "print(\"RMSE\", math.sqrt(mean_squared_error(y_test, y_pred)))"
   ]
  },
  {
   "cell_type": "markdown",
   "id": "7ff188fe",
   "metadata": {},
   "source": [
    " SMAPE prediction"
   ]
  },
  {
   "cell_type": "code",
   "execution_count": null,
   "id": "d0df2475",
   "metadata": {},
   "outputs": [],
   "source": [
    "print(smape(y_test, y_pred))"
   ]
  },
  {
   "cell_type": "markdown",
   "id": "4153e14b",
   "metadata": {},
   "source": [
    " Direction Symmetry prediction"
   ]
  },
  {
   "cell_type": "code",
   "execution_count": null,
   "id": "b3715a76",
   "metadata": {
    "scrolled": true
   },
   "outputs": [],
   "source": [
    "print(ds(y_test, y_pred))"
   ]
  },
  {
   "cell_type": "markdown",
   "id": "999064fa",
   "metadata": {},
   "source": [
    " Theil's U coefficient prediction"
   ]
  },
  {
   "cell_type": "code",
   "execution_count": null,
   "id": "53738a77",
   "metadata": {},
   "outputs": [],
   "source": [
    "print(u1(y_test, y_pred))"
   ]
  },
  {
   "cell_type": "code",
   "execution_count": null,
   "id": "caa462df",
   "metadata": {},
   "outputs": [],
   "source": [
    "plt.rc(\"figure\")\n",
    "plt.rcParams.update({'font.size': 16})\n",
    "plt.plot(y_test, label='Actual')\n",
    "plt.plot(test_predict, label='Predicted')\n",
    "plt.xlabel('Period')\n",
    "plt.ylabel('INR price')\n",
    "plt.title('Currency price (INR) prediction using LSTM - Test data')\n",
    "plt.legend()\n",
    "plt.show()"
   ]
  },
  {
   "cell_type": "markdown",
   "id": "bfa74a54",
   "metadata": {},
   "source": [
    "# SARIMA"
   ]
  },
  {
   "cell_type": "code",
   "execution_count": null,
   "id": "6365c990",
   "metadata": {},
   "outputs": [],
   "source": [
    "# Analysing for seasonality\n",
    "from datetime import datetime\n",
    "INR_dataset = df.loc[df.currency == 'INR']\n",
    "Date_column = [datetime.strptime(d, '%d-%m-%Y').strftime(\"%b %y\") for d in INR_dataset['date']]\n",
    "Day_column = [datetime.strptime(d, '%d-%m-%Y').strftime(\"%A\") for d in INR_dataset['date']]\n",
    "\n",
    "# Let's check for all the months for the exchange rate currency values in india\n",
    "plt.figure(figsize=(12,6))\n",
    "plt.plot(Date_column, INR_dataset['value'])\n",
    "plt.xlabel('Date')\n",
    "plt.ylabel('Value')\n",
    "plt.title('Checking seasonality between value and the date (for all months)')\n",
    "plt.show()"
   ]
  },
  {
   "cell_type": "markdown",
   "id": "3e7c8f6f",
   "metadata": {},
   "source": [
    "The graph is neither increasing or decreasing based on the months. So, let's check it for a particular week."
   ]
  },
  {
   "cell_type": "code",
   "execution_count": null,
   "id": "40c4ce86",
   "metadata": {},
   "outputs": [],
   "source": [
    "plt.figure(figsize=(12,6))\n",
    "plt.plot(Day_column[:7], INR_dataset['value'][:7])\n",
    "plt.xlabel('Date')\n",
    "plt.ylabel('Value')\n",
    "plt.title('Checking seasonality between value and the date (for first week)')\n",
    "plt.show()"
   ]
  },
  {
   "cell_type": "markdown",
   "id": "36480327",
   "metadata": {},
   "source": [
    "In week we get to see that the friday has the highest currency rate and it decreases as we move to weekends. So, let's check for multiple weeks and figure out about the days at which we get the higher currency rate from all the week days."
   ]
  },
  {
   "cell_type": "code",
   "execution_count": null,
   "id": "67aa3d98",
   "metadata": {},
   "outputs": [],
   "source": [
    "plt.figure(figsize=(12,6))\n",
    "plt.plot(Day_column[7:14], INR_dataset['value'][7:14])\n",
    "plt.xlabel('Date')\n",
    "plt.ylabel('Value')\n",
    "plt.title('Checking seasonality between value and the date (for second week)')\n",
    "plt.show()"
   ]
  },
  {
   "cell_type": "code",
   "execution_count": null,
   "id": "97a9a047",
   "metadata": {},
   "outputs": [],
   "source": [
    "plt.figure(figsize=(12,6))\n",
    "plt.plot(Day_column[14:21], INR_dataset['value'][14:21])\n",
    "plt.xlabel('Date')\n",
    "plt.ylabel('Value')\n",
    "plt.title('Checking seasonality between value and the date (for third week)')\n",
    "plt.show()"
   ]
  },
  {
   "cell_type": "code",
   "execution_count": null,
   "id": "181f67b6",
   "metadata": {},
   "outputs": [],
   "source": [
    "plt.figure(figsize=(12,6))\n",
    "plt.plot(INR_dataset['date'][:21], INR_dataset['value'][:21])\n",
    "plt.xlabel('Date')\n",
    "plt.ylabel('Value')\n",
    "plt.title('Checking seasonality between value and the date (for three week)')\n",
    "plt.xticks(rotation=90)"
   ]
  },
  {
   "cell_type": "markdown",
   "id": "0b25c0b1",
   "metadata": {},
   "source": [
    "As, we can see in the graph the rate of currency increases highly when we move from the december 31st, 2021 to January 1st 2022 and same when we have festivals like the currency rate rapidly increased when we have christmas on 25th or 26th december. \n",
    "Hence, SARIMA can help us to predict ouput currency rate based on the seasonality. "
   ]
  },
  {
   "cell_type": "code",
   "execution_count": null,
   "id": "1f8910aa",
   "metadata": {
    "scrolled": false
   },
   "outputs": [],
   "source": [
    "INR_dataset = INR_dataset.set_index('date')"
   ]
  },
  {
   "cell_type": "code",
   "execution_count": null,
   "id": "bbd2d350",
   "metadata": {},
   "outputs": [],
   "source": [
    "INR_dataset.dtypes"
   ]
  },
  {
   "cell_type": "code",
   "execution_count": null,
   "id": "d3a85c1d",
   "metadata": {},
   "outputs": [],
   "source": [
    "INR_dataset = INR_dataset.iloc[:, -1:]\n",
    "INR_dataset.head()"
   ]
  },
  {
   "cell_type": "markdown",
   "id": "851a0ae5",
   "metadata": {},
   "source": [
    "We have to calculate p, d, q, P, D, and Q value for the SARIMA to make the model for our forecasting"
   ]
  },
  {
   "cell_type": "code",
   "execution_count": null,
   "id": "eb438a18",
   "metadata": {
    "scrolled": false
   },
   "outputs": [],
   "source": [
    "# Finding the d value\n",
    "plt.rcParams.update({'figure.figsize':(9,7), 'figure.dpi':120})\n",
    " \n",
    "# Original Series\n",
    "fig, (ax1, ax2, ax3) = plt.subplots(3)\n",
    "ax1.plot(INR_dataset.value); ax1.set_title('Original Series'); ax1.axes.xaxis.set_visible(False)\n",
    "# 1st Differencing\n",
    "ax2.plot(INR_dataset.value.diff()); ax2.set_title('1st Order Differencing'); ax2.axes.xaxis.set_visible(False)\n",
    "# 2nd Differencing\n",
    "ax3.plot(INR_dataset.value.diff().diff()); ax3.set_title('2nd Order Differencing')\n",
    "plt.show()"
   ]
  },
  {
   "cell_type": "markdown",
   "id": "6ad3da04",
   "metadata": {},
   "source": [
    "In the first order differencing we have few noises than the second order differencing. So, we select the first order differencing for the model"
   ]
  },
  {
   "cell_type": "code",
   "execution_count": null,
   "id": "3dfe1b60",
   "metadata": {
    "scrolled": false
   },
   "outputs": [],
   "source": [
    "from statsmodels.graphics.tsaplots import plot_acf\n",
    "\n",
    "plt.rcParams.update({'figure.figsize':(9,14), 'figure.dpi':120})\n",
    "fig, (ax1, ax2, ax3) = plt.subplots(3)\n",
    "plot_acf(INR_dataset.value, ax=ax1)\n",
    "plot_acf(INR_dataset.value.diff().dropna(), ax=ax2)\n",
    "plot_acf(INR_dataset.value.diff().diff().dropna(), ax=ax3)\n",
    "plt.show()"
   ]
  },
  {
   "cell_type": "markdown",
   "id": "9048fb8c",
   "metadata": {},
   "source": [
    "Here we can see that the second order differencing the immediate lag is gone to the negative side, representing that in second order the series has become over the difference.\n",
    "Hence d = 1."
   ]
  },
  {
   "cell_type": "code",
   "execution_count": null,
   "id": "be6266f6",
   "metadata": {
    "scrolled": false
   },
   "outputs": [],
   "source": [
    "#Finding the p value\n",
    "from statsmodels.graphics.tsaplots import plot_pacf\n",
    "\n",
    "plt.rcParams.update({'figure.figsize':(7, 5), 'figure.dpi':120})\n",
    "plot_pacf(INR_dataset.value.diff().dropna(), method='ywm')\n",
    "plt.show()"
   ]
  },
  {
   "cell_type": "markdown",
   "id": "27fb4910",
   "metadata": {},
   "source": [
    "Here we can see that the first lag is most significant than any other lags in the graph.\n",
    "Hence p = 1."
   ]
  },
  {
   "cell_type": "code",
   "execution_count": null,
   "id": "38d7dfa4",
   "metadata": {},
   "outputs": [],
   "source": [
    "# Finding the q value\n",
    "\n",
    "plot_acf(INR_dataset.value.diff().dropna())\n",
    "plt.show()"
   ]
  },
  {
   "cell_type": "markdown",
   "id": "2dd3d598",
   "metadata": {},
   "source": [
    "Here we can see that only 1 of the lag is out of significant limit.\n",
    "Hence q = 1."
   ]
  },
  {
   "cell_type": "code",
   "execution_count": null,
   "id": "64d953b0",
   "metadata": {},
   "outputs": [],
   "source": [
    "from statsmodels.tsa.statespace.sarimax import SARIMAX\n",
    "\n",
    "model = SARIMAX(INR_dataset['value'], order=(1, 1, 1), seasonal_order=(1, 1, 1, 12)).fit(dis=-1)\n",
    "print(model.summary())"
   ]
  },
  {
   "cell_type": "code",
   "execution_count": null,
   "id": "3b20d6b6",
   "metadata": {},
   "outputs": [],
   "source": [
    "model.plot_diagnostics(figsize=(15,12))\n",
    "plt.show()"
   ]
  },
  {
   "cell_type": "code",
   "execution_count": null,
   "id": "0f0d9a21",
   "metadata": {},
   "outputs": [],
   "source": [
    "INR_dataset = df.loc[df.currency == 'INR']"
   ]
  },
  {
   "cell_type": "code",
   "execution_count": null,
   "id": "8ac11e5f",
   "metadata": {},
   "outputs": [],
   "source": [
    "INR_dataset = INR_dataset.iloc[:, -2:]\n",
    "INR_dataset.head()"
   ]
  },
  {
   "cell_type": "code",
   "execution_count": null,
   "id": "58680bb2",
   "metadata": {},
   "outputs": [],
   "source": [
    "INR_dataset = INR_dataset.reset_index()"
   ]
  },
  {
   "cell_type": "code",
   "execution_count": null,
   "id": "7ead3c4b",
   "metadata": {},
   "outputs": [],
   "source": [
    "forecast = model.predict(start=0, end=INR_dataset.shape[0] + 8)\n",
    "\n",
    "plt.figure(figsize=(15, 7.5))\n",
    "plt.plot(forecast, color='r', label='model')\n",
    "plt.axvspan(INR_dataset.index[-1], forecast.index[-1], alpha=0.5, color='lightgrey')\n",
    "plt.plot(INR_dataset['value'], label='actual')\n",
    "plt.legend()\n",
    "plt.show()"
   ]
  },
  {
   "cell_type": "code",
   "execution_count": null,
   "id": "65f92ac0",
   "metadata": {},
   "outputs": [],
   "source": [
    "#divide into train and validation set to calculate R-squared score and mean absolute percentage error \n",
    "from sklearn.metrics import mean_squared_error, r2_score, mean_absolute_error\n",
    "from sklearn.metrics import median_absolute_error, mean_squared_log_error\n",
    "\n",
    "train = INR_dataset[:int(0.85*(len(INR_dataset)))]\n",
    "test = INR_dataset[int(0.85*(len(INR_dataset))):]\n",
    "\n",
    "start=len(train)\n",
    "end=len(train)+len(test)-1\n",
    "predictions = model.predict(start=start, end=end, dynamic=False, typ='levels').rename('SARIMA Predictions')\n",
    "evaluation_results = pd.DataFrame({'r2_score': r2_score(test['value'], predictions)}, index=[0])\n",
    "evaluation_results['mean_absolute_error'] = mean_absolute_error(test['value'], predictions)\n",
    "evaluation_results['mean_squared_error'] = mean_squared_error(test['value'], predictions)\n",
    "evaluation_results['root_mean_squared_error'] = np.sqrt(mean_squared_error(test['value'], predictions))\n",
    "evaluation_results['mean_absolute_percentage_error'] = np.mean(np.abs(predictions - test['value'])\n",
    "                                                               /np.abs(test['value']))*100 \n",
    "evaluation_results"
   ]
  },
  {
   "cell_type": "code",
   "execution_count": null,
   "id": "d0052938",
   "metadata": {
    "scrolled": false
   },
   "outputs": [],
   "source": [
    "#Forecasting 2 years ahead\n",
    "forecast_values = model.get_forecast(steps = 24)\n",
    "\n",
    "INR_dataset = df.loc[df.currency == 'INR']\n",
    "\n",
    "#Confidence intervals of the forecasted values\n",
    "forecast_ci = forecast_values.conf_int()\n",
    "\n",
    "#Plot the data\n",
    "ax = INR_dataset.plot(x='date', y='value', figsize = (14, 6), legend = True, color='purple')\n",
    "\n",
    "#Plot the forecasted values \n",
    "forecast_values.predicted_mean.plot(ax=ax, label='Forecast', figsize = (14, 6), grid=True)\n",
    "\n",
    "#Plot the confidence intervals\n",
    "ax.fill_between(forecast_ci.index,\n",
    "                forecast_ci.iloc[: , 0],\n",
    "                forecast_ci.iloc[: , 1], color='yellow', alpha = .5)\n",
    "plt.title('Foreign Exchange Rate Currency Value, Monthly (till 2025)', size = 12)\n",
    "plt.ylabel('KWh', size=12)\n",
    "plt.legend(loc='upper left')\n",
    "ax.axes.get_xaxis().set_visible(True)\n",
    "\n",
    "plt.show()"
   ]
  },
  {
   "cell_type": "markdown",
   "id": "6bdac0bc",
   "metadata": {},
   "source": [
    "Conclusion: From all the models I have tried the XGB regression was the best with R2 score around 93 none of the other models have score greater than 90 the SARIMA also have the score of 81 only."
   ]
  },
  {
   "cell_type": "code",
   "execution_count": null,
   "id": "a3616641",
   "metadata": {},
   "outputs": [],
   "source": []
  }
 ],
 "metadata": {
  "kernelspec": {
   "display_name": "Python 3 (ipykernel)",
   "language": "python",
   "name": "python3"
  },
  "language_info": {
   "codemirror_mode": {
    "name": "ipython",
    "version": 3
   },
   "file_extension": ".py",
   "mimetype": "text/x-python",
   "name": "python",
   "nbconvert_exporter": "python",
   "pygments_lexer": "ipython3",
   "version": "3.9.16"
  }
 },
 "nbformat": 4,
 "nbformat_minor": 5
}
